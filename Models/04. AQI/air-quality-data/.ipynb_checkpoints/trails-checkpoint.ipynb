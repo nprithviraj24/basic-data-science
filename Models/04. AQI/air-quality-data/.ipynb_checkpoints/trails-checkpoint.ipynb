{
 "cells": [
  {
   "cell_type": "code",
   "execution_count": 1,
   "metadata": {},
   "outputs": [],
   "source": [
    "import pandas as pd"
   ]
  },
  {
   "cell_type": "code",
   "execution_count": 5,
   "metadata": {},
   "outputs": [
    {
     "data": {
      "text/plain": [
       "Index(['name_of_city', 'state_code', 'state_name', 'dist_code',\n",
       "       'population_total', 'population_male', 'population_female',\n",
       "       '0-6_population_total', '0-6_population_male', '0-6_population_female',\n",
       "       'literates_total', 'literates_male', 'literates_female', 'sex_ratio',\n",
       "       'child_sex_ratio', 'effective_literacy_rate_total',\n",
       "       'effective_literacy_rate_male', 'effective_literacy_rate_female',\n",
       "       'location', 'total_graduates', 'male_graduates', 'female_graduates'],\n",
       "      dtype='object')"
      ]
     },
     "execution_count": 5,
     "metadata": {},
     "output_type": "execute_result"
    }
   ],
   "source": [
    "city = pd.read_csv(\"cities_r2.csv\")\n",
    "# list(city)\n",
    "city.columns"
   ]
  },
  {
   "cell_type": "code",
   "execution_count": 4,
   "metadata": {},
   "outputs": [
    {
     "data": {
      "text/plain": [
       "['City', 'State', 'Country']"
      ]
     },
     "execution_count": 4,
     "metadata": {},
     "output_type": "execute_result"
    }
   ],
   "source": [
    "country = pd.read_csv(\"countries_states_cities_list_of_world.csv\")\n",
    "list(country)"
   ]
  },
  {
   "cell_type": "code",
   "execution_count": 7,
   "metadata": {},
   "outputs": [
    {
     "data": {
      "text/plain": [
       "Index(['stn_code', 'sampling_date', 'state', 'location', 'agency', 'type',\n",
       "       'so2', 'no2', 'rspm', 'spm', 'location_monitoring_station', 'pm2_5',\n",
       "       'date'],\n",
       "      dtype='object')"
      ]
     },
     "execution_count": 7,
     "metadata": {},
     "output_type": "execute_result"
    }
   ],
   "source": [
    "data = pd.read_csv(\"data.csv\", engine=\"python\")\n",
    "data.columns"
   ]
  },
  {
   "cell_type": "code",
   "execution_count": 11,
   "metadata": {},
   "outputs": [
    {
     "data": {
      "text/plain": [
       "pandas.core.frame.DataFrame"
      ]
     },
     "execution_count": 11,
     "metadata": {},
     "output_type": "execute_result"
    }
   ],
   "source": [
    "india = pd.read_excel(\"Indian-States-and-Districts-List.xlsx\")\n",
    "type(india)"
   ]
  },
  {
   "cell_type": "code",
   "execution_count": 12,
   "metadata": {},
   "outputs": [
    {
     "data": {
      "text/plain": [
       "Index(['S.No', 'Name of City', 'State', 'Type', 'Population (2011)',\n",
       "       'Population class', 'Unnamed: 6', 'Unnamed: 7', 'Unnamed: 8',\n",
       "       'Unnamed: 9', 'Unnamed: 10'],\n",
       "      dtype='object')"
      ]
     },
     "execution_count": 12,
     "metadata": {},
     "output_type": "execute_result"
    }
   ],
   "source": [
    "lst = pd.read_csv(\"list_of_cities_and_towns_in_india.csv\")\n",
    "lst.columns"
   ]
  },
  {
   "cell_type": "code",
   "execution_count": 13,
   "metadata": {},
   "outputs": [
    {
     "data": {
      "text/plain": [
       "Index(['State Code', 'District Code',\n",
       "       'Name of the State / Union Territory and Districts'],\n",
       "      dtype='object')"
      ]
     },
     "execution_count": 13,
     "metadata": {},
     "output_type": "execute_result"
    }
   ],
   "source": [
    "table = pd.read_csv(\"Table.csv\")\n",
    "table.columns"
   ]
  },
  {
   "cell_type": "code",
   "execution_count": 15,
   "metadata": {},
   "outputs": [
    {
     "data": {
      "text/plain": [
       "Index(['SOi', 'Noi', 'RSPMi', 'SPMi', 'AQI'], dtype='object')"
      ]
     },
     "execution_count": 15,
     "metadata": {},
     "output_type": "execute_result"
    }
   ],
   "source": [
    "testd = pd.read_csv(\"testdata.csv\")\n",
    "testd.columns"
   ]
  },
  {
   "cell_type": "code",
   "execution_count": 16,
   "metadata": {},
   "outputs": [
    {
     "data": {
      "text/plain": [
       "Index(['SOi', 'Noi', 'RSPMi', 'SPMi', 'AQI'], dtype='object')"
      ]
     },
     "execution_count": 16,
     "metadata": {},
     "output_type": "execute_result"
    }
   ],
   "source": [
    "traind = pd.read_csv(\"traindata.csv\")\n",
    "traind.columns"
   ]
  },
  {
   "cell_type": "code",
   "execution_count": null,
   "metadata": {},
   "outputs": [],
   "source": []
  }
 ],
 "metadata": {
  "kernelspec": {
   "display_name": "Python 3",
   "language": "python",
   "name": "python3"
  },
  "language_info": {
   "codemirror_mode": {
    "name": "ipython",
    "version": 3
   },
   "file_extension": ".py",
   "mimetype": "text/x-python",
   "name": "python",
   "nbconvert_exporter": "python",
   "pygments_lexer": "ipython3",
   "version": "3.7.4"
  }
 },
 "nbformat": 4,
 "nbformat_minor": 4
}
