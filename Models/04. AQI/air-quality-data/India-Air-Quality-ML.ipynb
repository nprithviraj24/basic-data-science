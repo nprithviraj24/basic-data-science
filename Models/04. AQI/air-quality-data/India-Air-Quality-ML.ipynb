{
 "cells": [
  {
   "cell_type": "markdown",
   "metadata": {
    "colab_type": "text",
    "id": "euB9Jnp25_e2"
   },
   "source": [
    "# INDIA AIR QUALITY DATA ANALYSIS, VISUALISATION AND PREDICTION\n",
    "<h6>Project by: </h6>\n",
    "<h6>Place: </h6>\n",
    "<h6>Submit to: </h6>\n"
   ]
  },
  {
   "cell_type": "markdown",
   "metadata": {
    "colab_type": "text",
    "id": "rfdbS9OA5_e4"
   },
   "source": [
    "<h2>Aim</h2>\n",
    "<p>To do data analysis on India Air Quality data and predict tha value of Air Quality Index based on given features of concentration of sulphur dioxide,nitrogen dioxide, respirable suspended particualte matter, suspended particulate matter and classify the Air Quality as good, moderate, poor, unhealthy, healthy.</p>\n",
    "<p>The data is combined(across the years and states) and largely clean version of the Historical Daily Ambient Air Quality Data released by the Ministry of Environment and Forests and Central Pollution Control Board of India under the National Data Sharing and Accessibility Policy (NDSAP)\n",
    "year 1990-2015</p>\n",
    "<h4><p>The columns are</h4>\n",
    "<li>stn_code (station code)</li>\n",
    "<li>sampling_date (date of sample collection)</li>\n",
    "<li>state (Indian State)</li>\n",
    "<li>location (location of sample collection)</li>\n",
    "<li>agency</li>\n",
    "<li>type (type of area)</li>\n",
    "<li>so2 (sulphur dioxide concentration)</li>\n",
    "<li>no2 (nitrogen dioxide concentration)</li>\n",
    "<li>rspm (respirable suspended particualte matter concentration)</li>\n",
    "<li>spm (suspended particulate matter)</li>\n",
    "<li>location_monitoring_station</li>\n",
    "<li>pm2_5 (particulate matter 2.5)</li>\t\n",
    "<li>date</li>\n",
    "</p>\n",
    "\n",
    "\n"
   ]
  },
  {
   "cell_type": "code",
   "execution_count": 3,
   "metadata": {
    "_cell_guid": "b1076dfc-b9ad-4769-8c92-a6c4dae69d19",
    "_uuid": "8f2839f25d086af736a60e9eeb907d3b93b6e0e5",
    "colab": {},
    "colab_type": "code",
    "id": "qs8yuOZS5_e6"
   },
   "outputs": [],
   "source": [
    "import numpy as np \n",
    "import pandas as pd \n",
    "import seaborn as sns\n",
    "import matplotlib.pyplot as plt\n",
    "%matplotlib inline"
   ]
  },
  {
   "cell_type": "code",
   "execution_count": 4,
   "metadata": {
    "_cell_guid": "79c7e3d0-c299-4dcb-8224-4455121ee9b0",
    "_uuid": "d629ff2d2480ee46fbb7e2d37f6b5fab8052498a",
    "colab": {
     "base_uri": "https://localhost:8080/",
     "height": 71
    },
    "colab_type": "code",
    "id": "NOwRBJxE5_e_",
    "outputId": "ceb023f9-8a07-4d37-e723-c9045a7dd800"
   },
   "outputs": [
    {
     "name": "stderr",
     "output_type": "stream",
     "text": [
      "/home/prithvi/anaconda3/envs/pytorch/lib/python3.7/site-packages/IPython/core/interactiveshell.py:3058: DtypeWarning: Columns (0) have mixed types. Specify dtype option on import or set low_memory=False.\n",
      "  interactivity=interactivity, compiler=compiler, result=result)\n"
     ]
    }
   ],
   "source": [
    "data = pd.read_csv('data.csv',encoding = \"ISO-8859-1\") #import data "
   ]
  },
  {
   "cell_type": "code",
   "execution_count": 5,
   "metadata": {
    "colab": {
     "base_uri": "https://localhost:8080/",
     "height": 529
    },
    "colab_type": "code",
    "id": "gTaCz4p05_fE",
    "outputId": "54889ab9-91b0-4d66-b59d-7d16dbf7e0ca"
   },
   "outputs": [
    {
     "data": {
      "text/html": [
       "<div>\n",
       "<style scoped>\n",
       "    .dataframe tbody tr th:only-of-type {\n",
       "        vertical-align: middle;\n",
       "    }\n",
       "\n",
       "    .dataframe tbody tr th {\n",
       "        vertical-align: top;\n",
       "    }\n",
       "\n",
       "    .dataframe thead th {\n",
       "        text-align: right;\n",
       "    }\n",
       "</style>\n",
       "<table border=\"1\" class=\"dataframe\">\n",
       "  <thead>\n",
       "    <tr style=\"text-align: right;\">\n",
       "      <th></th>\n",
       "      <th>stn_code</th>\n",
       "      <th>sampling_date</th>\n",
       "      <th>state</th>\n",
       "      <th>location</th>\n",
       "      <th>agency</th>\n",
       "      <th>type</th>\n",
       "      <th>so2</th>\n",
       "      <th>no2</th>\n",
       "      <th>rspm</th>\n",
       "      <th>spm</th>\n",
       "      <th>location_monitoring_station</th>\n",
       "      <th>pm2_5</th>\n",
       "      <th>date</th>\n",
       "    </tr>\n",
       "  </thead>\n",
       "  <tbody>\n",
       "    <tr>\n",
       "      <th>0</th>\n",
       "      <td>150</td>\n",
       "      <td>February - M021990</td>\n",
       "      <td>Andhra Pradesh</td>\n",
       "      <td>Hyderabad</td>\n",
       "      <td>NaN</td>\n",
       "      <td>Residential, Rural and other Areas</td>\n",
       "      <td>4.8</td>\n",
       "      <td>17.4</td>\n",
       "      <td>NaN</td>\n",
       "      <td>NaN</td>\n",
       "      <td>NaN</td>\n",
       "      <td>NaN</td>\n",
       "      <td>1990-02-01</td>\n",
       "    </tr>\n",
       "    <tr>\n",
       "      <th>1</th>\n",
       "      <td>151</td>\n",
       "      <td>February - M021990</td>\n",
       "      <td>Andhra Pradesh</td>\n",
       "      <td>Hyderabad</td>\n",
       "      <td>NaN</td>\n",
       "      <td>Industrial Area</td>\n",
       "      <td>3.1</td>\n",
       "      <td>7.0</td>\n",
       "      <td>NaN</td>\n",
       "      <td>NaN</td>\n",
       "      <td>NaN</td>\n",
       "      <td>NaN</td>\n",
       "      <td>1990-02-01</td>\n",
       "    </tr>\n",
       "    <tr>\n",
       "      <th>2</th>\n",
       "      <td>152</td>\n",
       "      <td>February - M021990</td>\n",
       "      <td>Andhra Pradesh</td>\n",
       "      <td>Hyderabad</td>\n",
       "      <td>NaN</td>\n",
       "      <td>Residential, Rural and other Areas</td>\n",
       "      <td>6.2</td>\n",
       "      <td>28.5</td>\n",
       "      <td>NaN</td>\n",
       "      <td>NaN</td>\n",
       "      <td>NaN</td>\n",
       "      <td>NaN</td>\n",
       "      <td>1990-02-01</td>\n",
       "    </tr>\n",
       "    <tr>\n",
       "      <th>3</th>\n",
       "      <td>150</td>\n",
       "      <td>March - M031990</td>\n",
       "      <td>Andhra Pradesh</td>\n",
       "      <td>Hyderabad</td>\n",
       "      <td>NaN</td>\n",
       "      <td>Residential, Rural and other Areas</td>\n",
       "      <td>6.3</td>\n",
       "      <td>14.7</td>\n",
       "      <td>NaN</td>\n",
       "      <td>NaN</td>\n",
       "      <td>NaN</td>\n",
       "      <td>NaN</td>\n",
       "      <td>1990-03-01</td>\n",
       "    </tr>\n",
       "    <tr>\n",
       "      <th>4</th>\n",
       "      <td>151</td>\n",
       "      <td>March - M031990</td>\n",
       "      <td>Andhra Pradesh</td>\n",
       "      <td>Hyderabad</td>\n",
       "      <td>NaN</td>\n",
       "      <td>Industrial Area</td>\n",
       "      <td>4.7</td>\n",
       "      <td>7.5</td>\n",
       "      <td>NaN</td>\n",
       "      <td>NaN</td>\n",
       "      <td>NaN</td>\n",
       "      <td>NaN</td>\n",
       "      <td>1990-03-01</td>\n",
       "    </tr>\n",
       "    <tr>\n",
       "      <th>5</th>\n",
       "      <td>152</td>\n",
       "      <td>March - M031990</td>\n",
       "      <td>Andhra Pradesh</td>\n",
       "      <td>Hyderabad</td>\n",
       "      <td>NaN</td>\n",
       "      <td>Residential, Rural and other Areas</td>\n",
       "      <td>6.4</td>\n",
       "      <td>25.7</td>\n",
       "      <td>NaN</td>\n",
       "      <td>NaN</td>\n",
       "      <td>NaN</td>\n",
       "      <td>NaN</td>\n",
       "      <td>1990-03-01</td>\n",
       "    </tr>\n",
       "    <tr>\n",
       "      <th>6</th>\n",
       "      <td>150</td>\n",
       "      <td>April - M041990</td>\n",
       "      <td>Andhra Pradesh</td>\n",
       "      <td>Hyderabad</td>\n",
       "      <td>NaN</td>\n",
       "      <td>Residential, Rural and other Areas</td>\n",
       "      <td>5.4</td>\n",
       "      <td>17.1</td>\n",
       "      <td>NaN</td>\n",
       "      <td>NaN</td>\n",
       "      <td>NaN</td>\n",
       "      <td>NaN</td>\n",
       "      <td>1990-04-01</td>\n",
       "    </tr>\n",
       "    <tr>\n",
       "      <th>7</th>\n",
       "      <td>151</td>\n",
       "      <td>April - M041990</td>\n",
       "      <td>Andhra Pradesh</td>\n",
       "      <td>Hyderabad</td>\n",
       "      <td>NaN</td>\n",
       "      <td>Industrial Area</td>\n",
       "      <td>4.7</td>\n",
       "      <td>8.7</td>\n",
       "      <td>NaN</td>\n",
       "      <td>NaN</td>\n",
       "      <td>NaN</td>\n",
       "      <td>NaN</td>\n",
       "      <td>1990-04-01</td>\n",
       "    </tr>\n",
       "    <tr>\n",
       "      <th>8</th>\n",
       "      <td>152</td>\n",
       "      <td>April - M041990</td>\n",
       "      <td>Andhra Pradesh</td>\n",
       "      <td>Hyderabad</td>\n",
       "      <td>NaN</td>\n",
       "      <td>Residential, Rural and other Areas</td>\n",
       "      <td>4.2</td>\n",
       "      <td>23.0</td>\n",
       "      <td>NaN</td>\n",
       "      <td>NaN</td>\n",
       "      <td>NaN</td>\n",
       "      <td>NaN</td>\n",
       "      <td>1990-04-01</td>\n",
       "    </tr>\n",
       "    <tr>\n",
       "      <th>9</th>\n",
       "      <td>151</td>\n",
       "      <td>May - M051990</td>\n",
       "      <td>Andhra Pradesh</td>\n",
       "      <td>Hyderabad</td>\n",
       "      <td>NaN</td>\n",
       "      <td>Industrial Area</td>\n",
       "      <td>4.0</td>\n",
       "      <td>8.9</td>\n",
       "      <td>NaN</td>\n",
       "      <td>NaN</td>\n",
       "      <td>NaN</td>\n",
       "      <td>NaN</td>\n",
       "      <td>1990-05-01</td>\n",
       "    </tr>\n",
       "  </tbody>\n",
       "</table>\n",
       "</div>"
      ],
      "text/plain": [
       "  stn_code       sampling_date           state   location agency  \\\n",
       "0      150  February - M021990  Andhra Pradesh  Hyderabad    NaN   \n",
       "1      151  February - M021990  Andhra Pradesh  Hyderabad    NaN   \n",
       "2      152  February - M021990  Andhra Pradesh  Hyderabad    NaN   \n",
       "3      150     March - M031990  Andhra Pradesh  Hyderabad    NaN   \n",
       "4      151     March - M031990  Andhra Pradesh  Hyderabad    NaN   \n",
       "5      152     March - M031990  Andhra Pradesh  Hyderabad    NaN   \n",
       "6      150     April - M041990  Andhra Pradesh  Hyderabad    NaN   \n",
       "7      151     April - M041990  Andhra Pradesh  Hyderabad    NaN   \n",
       "8      152     April - M041990  Andhra Pradesh  Hyderabad    NaN   \n",
       "9      151       May - M051990  Andhra Pradesh  Hyderabad    NaN   \n",
       "\n",
       "                                 type  so2   no2  rspm  spm  \\\n",
       "0  Residential, Rural and other Areas  4.8  17.4   NaN  NaN   \n",
       "1                     Industrial Area  3.1   7.0   NaN  NaN   \n",
       "2  Residential, Rural and other Areas  6.2  28.5   NaN  NaN   \n",
       "3  Residential, Rural and other Areas  6.3  14.7   NaN  NaN   \n",
       "4                     Industrial Area  4.7   7.5   NaN  NaN   \n",
       "5  Residential, Rural and other Areas  6.4  25.7   NaN  NaN   \n",
       "6  Residential, Rural and other Areas  5.4  17.1   NaN  NaN   \n",
       "7                     Industrial Area  4.7   8.7   NaN  NaN   \n",
       "8  Residential, Rural and other Areas  4.2  23.0   NaN  NaN   \n",
       "9                     Industrial Area  4.0   8.9   NaN  NaN   \n",
       "\n",
       "  location_monitoring_station  pm2_5        date  \n",
       "0                         NaN    NaN  1990-02-01  \n",
       "1                         NaN    NaN  1990-02-01  \n",
       "2                         NaN    NaN  1990-02-01  \n",
       "3                         NaN    NaN  1990-03-01  \n",
       "4                         NaN    NaN  1990-03-01  \n",
       "5                         NaN    NaN  1990-03-01  \n",
       "6                         NaN    NaN  1990-04-01  \n",
       "7                         NaN    NaN  1990-04-01  \n",
       "8                         NaN    NaN  1990-04-01  \n",
       "9                         NaN    NaN  1990-05-01  "
      ]
     },
     "execution_count": 5,
     "metadata": {},
     "output_type": "execute_result"
    }
   ],
   "source": [
    "data.head(10) #print first 10 rows"
   ]
  },
  {
   "cell_type": "code",
   "execution_count": 6,
   "metadata": {
    "colab": {
     "base_uri": "https://localhost:8080/",
     "height": 512
    },
    "colab_type": "code",
    "id": "_08stsrS5_fK",
    "outputId": "ad414e80-b988-4cb0-e8b5-6b8de5f5d19a"
   },
   "outputs": [
    {
     "data": {
      "text/html": [
       "<div>\n",
       "<style scoped>\n",
       "    .dataframe tbody tr th:only-of-type {\n",
       "        vertical-align: middle;\n",
       "    }\n",
       "\n",
       "    .dataframe tbody tr th {\n",
       "        vertical-align: top;\n",
       "    }\n",
       "\n",
       "    .dataframe thead th {\n",
       "        text-align: right;\n",
       "    }\n",
       "</style>\n",
       "<table border=\"1\" class=\"dataframe\">\n",
       "  <thead>\n",
       "    <tr style=\"text-align: right;\">\n",
       "      <th></th>\n",
       "      <th>stn_code</th>\n",
       "      <th>sampling_date</th>\n",
       "      <th>state</th>\n",
       "      <th>location</th>\n",
       "      <th>agency</th>\n",
       "      <th>type</th>\n",
       "      <th>so2</th>\n",
       "      <th>no2</th>\n",
       "      <th>rspm</th>\n",
       "      <th>spm</th>\n",
       "      <th>location_monitoring_station</th>\n",
       "      <th>pm2_5</th>\n",
       "      <th>date</th>\n",
       "    </tr>\n",
       "  </thead>\n",
       "  <tbody>\n",
       "    <tr>\n",
       "      <th>435732</th>\n",
       "      <td>SAMP</td>\n",
       "      <td>09-12-15</td>\n",
       "      <td>West Bengal</td>\n",
       "      <td>ULUBERIA</td>\n",
       "      <td>West Bengal State Pollution Control Board</td>\n",
       "      <td>RIRUO</td>\n",
       "      <td>22.0</td>\n",
       "      <td>50.0</td>\n",
       "      <td>145.0</td>\n",
       "      <td>NaN</td>\n",
       "      <td>Inside Rampal Industries,ULUBERIA</td>\n",
       "      <td>NaN</td>\n",
       "      <td>2015-12-09</td>\n",
       "    </tr>\n",
       "    <tr>\n",
       "      <th>435733</th>\n",
       "      <td>SAMP</td>\n",
       "      <td>12-12-15</td>\n",
       "      <td>West Bengal</td>\n",
       "      <td>ULUBERIA</td>\n",
       "      <td>West Bengal State Pollution Control Board</td>\n",
       "      <td>RIRUO</td>\n",
       "      <td>34.0</td>\n",
       "      <td>61.0</td>\n",
       "      <td>161.0</td>\n",
       "      <td>NaN</td>\n",
       "      <td>Inside Rampal Industries,ULUBERIA</td>\n",
       "      <td>NaN</td>\n",
       "      <td>2015-12-12</td>\n",
       "    </tr>\n",
       "    <tr>\n",
       "      <th>435734</th>\n",
       "      <td>SAMP</td>\n",
       "      <td>15-12-15</td>\n",
       "      <td>West Bengal</td>\n",
       "      <td>ULUBERIA</td>\n",
       "      <td>West Bengal State Pollution Control Board</td>\n",
       "      <td>RIRUO</td>\n",
       "      <td>20.0</td>\n",
       "      <td>44.0</td>\n",
       "      <td>148.0</td>\n",
       "      <td>NaN</td>\n",
       "      <td>Inside Rampal Industries,ULUBERIA</td>\n",
       "      <td>NaN</td>\n",
       "      <td>2015-12-15</td>\n",
       "    </tr>\n",
       "    <tr>\n",
       "      <th>435735</th>\n",
       "      <td>SAMP</td>\n",
       "      <td>18-12-15</td>\n",
       "      <td>West Bengal</td>\n",
       "      <td>ULUBERIA</td>\n",
       "      <td>West Bengal State Pollution Control Board</td>\n",
       "      <td>RIRUO</td>\n",
       "      <td>17.0</td>\n",
       "      <td>44.0</td>\n",
       "      <td>131.0</td>\n",
       "      <td>NaN</td>\n",
       "      <td>Inside Rampal Industries,ULUBERIA</td>\n",
       "      <td>NaN</td>\n",
       "      <td>2015-12-18</td>\n",
       "    </tr>\n",
       "    <tr>\n",
       "      <th>435736</th>\n",
       "      <td>SAMP</td>\n",
       "      <td>21-12-15</td>\n",
       "      <td>West Bengal</td>\n",
       "      <td>ULUBERIA</td>\n",
       "      <td>West Bengal State Pollution Control Board</td>\n",
       "      <td>RIRUO</td>\n",
       "      <td>18.0</td>\n",
       "      <td>45.0</td>\n",
       "      <td>140.0</td>\n",
       "      <td>NaN</td>\n",
       "      <td>Inside Rampal Industries,ULUBERIA</td>\n",
       "      <td>NaN</td>\n",
       "      <td>2015-12-21</td>\n",
       "    </tr>\n",
       "    <tr>\n",
       "      <th>435737</th>\n",
       "      <td>SAMP</td>\n",
       "      <td>24-12-15</td>\n",
       "      <td>West Bengal</td>\n",
       "      <td>ULUBERIA</td>\n",
       "      <td>West Bengal State Pollution Control Board</td>\n",
       "      <td>RIRUO</td>\n",
       "      <td>22.0</td>\n",
       "      <td>50.0</td>\n",
       "      <td>143.0</td>\n",
       "      <td>NaN</td>\n",
       "      <td>Inside Rampal Industries,ULUBERIA</td>\n",
       "      <td>NaN</td>\n",
       "      <td>2015-12-24</td>\n",
       "    </tr>\n",
       "    <tr>\n",
       "      <th>435738</th>\n",
       "      <td>SAMP</td>\n",
       "      <td>29-12-15</td>\n",
       "      <td>West Bengal</td>\n",
       "      <td>ULUBERIA</td>\n",
       "      <td>West Bengal State Pollution Control Board</td>\n",
       "      <td>RIRUO</td>\n",
       "      <td>20.0</td>\n",
       "      <td>46.0</td>\n",
       "      <td>171.0</td>\n",
       "      <td>NaN</td>\n",
       "      <td>Inside Rampal Industries,ULUBERIA</td>\n",
       "      <td>NaN</td>\n",
       "      <td>2015-12-29</td>\n",
       "    </tr>\n",
       "    <tr>\n",
       "      <th>435739</th>\n",
       "      <td>NaN</td>\n",
       "      <td>NaN</td>\n",
       "      <td>andaman-and-nicobar-islands</td>\n",
       "      <td>NaN</td>\n",
       "      <td>NaN</td>\n",
       "      <td>NaN</td>\n",
       "      <td>NaN</td>\n",
       "      <td>NaN</td>\n",
       "      <td>NaN</td>\n",
       "      <td>NaN</td>\n",
       "      <td>NaN</td>\n",
       "      <td>NaN</td>\n",
       "      <td>NaN</td>\n",
       "    </tr>\n",
       "    <tr>\n",
       "      <th>435740</th>\n",
       "      <td>NaN</td>\n",
       "      <td>NaN</td>\n",
       "      <td>Lakshadweep</td>\n",
       "      <td>NaN</td>\n",
       "      <td>NaN</td>\n",
       "      <td>NaN</td>\n",
       "      <td>NaN</td>\n",
       "      <td>NaN</td>\n",
       "      <td>NaN</td>\n",
       "      <td>NaN</td>\n",
       "      <td>NaN</td>\n",
       "      <td>NaN</td>\n",
       "      <td>NaN</td>\n",
       "    </tr>\n",
       "    <tr>\n",
       "      <th>435741</th>\n",
       "      <td>NaN</td>\n",
       "      <td>NaN</td>\n",
       "      <td>Tripura</td>\n",
       "      <td>NaN</td>\n",
       "      <td>NaN</td>\n",
       "      <td>NaN</td>\n",
       "      <td>NaN</td>\n",
       "      <td>NaN</td>\n",
       "      <td>NaN</td>\n",
       "      <td>NaN</td>\n",
       "      <td>NaN</td>\n",
       "      <td>NaN</td>\n",
       "      <td>NaN</td>\n",
       "    </tr>\n",
       "  </tbody>\n",
       "</table>\n",
       "</div>"
      ],
      "text/plain": [
       "       stn_code sampling_date                        state  location  \\\n",
       "435732     SAMP      09-12-15                  West Bengal  ULUBERIA   \n",
       "435733     SAMP      12-12-15                  West Bengal  ULUBERIA   \n",
       "435734     SAMP      15-12-15                  West Bengal  ULUBERIA   \n",
       "435735     SAMP      18-12-15                  West Bengal  ULUBERIA   \n",
       "435736     SAMP      21-12-15                  West Bengal  ULUBERIA   \n",
       "435737     SAMP      24-12-15                  West Bengal  ULUBERIA   \n",
       "435738     SAMP      29-12-15                  West Bengal  ULUBERIA   \n",
       "435739      NaN           NaN  andaman-and-nicobar-islands       NaN   \n",
       "435740      NaN           NaN                  Lakshadweep       NaN   \n",
       "435741      NaN           NaN                      Tripura       NaN   \n",
       "\n",
       "                                           agency   type   so2   no2   rspm  \\\n",
       "435732  West Bengal State Pollution Control Board  RIRUO  22.0  50.0  145.0   \n",
       "435733  West Bengal State Pollution Control Board  RIRUO  34.0  61.0  161.0   \n",
       "435734  West Bengal State Pollution Control Board  RIRUO  20.0  44.0  148.0   \n",
       "435735  West Bengal State Pollution Control Board  RIRUO  17.0  44.0  131.0   \n",
       "435736  West Bengal State Pollution Control Board  RIRUO  18.0  45.0  140.0   \n",
       "435737  West Bengal State Pollution Control Board  RIRUO  22.0  50.0  143.0   \n",
       "435738  West Bengal State Pollution Control Board  RIRUO  20.0  46.0  171.0   \n",
       "435739                                        NaN    NaN   NaN   NaN    NaN   \n",
       "435740                                        NaN    NaN   NaN   NaN    NaN   \n",
       "435741                                        NaN    NaN   NaN   NaN    NaN   \n",
       "\n",
       "        spm        location_monitoring_station  pm2_5        date  \n",
       "435732  NaN  Inside Rampal Industries,ULUBERIA    NaN  2015-12-09  \n",
       "435733  NaN  Inside Rampal Industries,ULUBERIA    NaN  2015-12-12  \n",
       "435734  NaN  Inside Rampal Industries,ULUBERIA    NaN  2015-12-15  \n",
       "435735  NaN  Inside Rampal Industries,ULUBERIA    NaN  2015-12-18  \n",
       "435736  NaN  Inside Rampal Industries,ULUBERIA    NaN  2015-12-21  \n",
       "435737  NaN  Inside Rampal Industries,ULUBERIA    NaN  2015-12-24  \n",
       "435738  NaN  Inside Rampal Industries,ULUBERIA    NaN  2015-12-29  \n",
       "435739  NaN                                NaN    NaN         NaN  \n",
       "435740  NaN                                NaN    NaN         NaN  \n",
       "435741  NaN                                NaN    NaN         NaN  "
      ]
     },
     "execution_count": 6,
     "metadata": {},
     "output_type": "execute_result"
    }
   ],
   "source": [
    "data.tail(10) #printing last 10 rows"
   ]
  },
  {
   "cell_type": "code",
   "execution_count": 7,
   "metadata": {
    "colab": {
     "base_uri": "https://localhost:8080/",
     "height": 85
    },
    "colab_type": "code",
    "id": "YNyCQhZG5_fP",
    "outputId": "8e0bc205-e579-4386-80af-e0ef32688c8e"
   },
   "outputs": [
    {
     "data": {
      "text/plain": [
       "Index(['stn_code', 'sampling_date', 'state', 'location', 'agency', 'type',\n",
       "       'so2', 'no2', 'rspm', 'spm', 'location_monitoring_station', 'pm2_5',\n",
       "       'date'],\n",
       "      dtype='object')"
      ]
     },
     "execution_count": 7,
     "metadata": {},
     "output_type": "execute_result"
    }
   ],
   "source": [
    "data.columns #print the columns/features of the data"
   ]
  },
  {
   "cell_type": "code",
   "execution_count": 8,
   "metadata": {
    "colab": {
     "base_uri": "https://localhost:8080/",
     "height": 297
    },
    "colab_type": "code",
    "id": "ksSp-mQB5_fU",
    "outputId": "9cedeef0-c5a1-439e-f6b8-c26a65cf9465"
   },
   "outputs": [
    {
     "data": {
      "text/html": [
       "<div>\n",
       "<style scoped>\n",
       "    .dataframe tbody tr th:only-of-type {\n",
       "        vertical-align: middle;\n",
       "    }\n",
       "\n",
       "    .dataframe tbody tr th {\n",
       "        vertical-align: top;\n",
       "    }\n",
       "\n",
       "    .dataframe thead th {\n",
       "        text-align: right;\n",
       "    }\n",
       "</style>\n",
       "<table border=\"1\" class=\"dataframe\">\n",
       "  <thead>\n",
       "    <tr style=\"text-align: right;\">\n",
       "      <th></th>\n",
       "      <th>so2</th>\n",
       "      <th>no2</th>\n",
       "      <th>rspm</th>\n",
       "      <th>spm</th>\n",
       "      <th>pm2_5</th>\n",
       "    </tr>\n",
       "  </thead>\n",
       "  <tbody>\n",
       "    <tr>\n",
       "      <th>count</th>\n",
       "      <td>401096.000000</td>\n",
       "      <td>419509.000000</td>\n",
       "      <td>395520.000000</td>\n",
       "      <td>198355.000000</td>\n",
       "      <td>9314.000000</td>\n",
       "    </tr>\n",
       "    <tr>\n",
       "      <th>mean</th>\n",
       "      <td>10.829414</td>\n",
       "      <td>25.809623</td>\n",
       "      <td>108.832784</td>\n",
       "      <td>220.783480</td>\n",
       "      <td>40.791467</td>\n",
       "    </tr>\n",
       "    <tr>\n",
       "      <th>std</th>\n",
       "      <td>11.177187</td>\n",
       "      <td>18.503086</td>\n",
       "      <td>74.872430</td>\n",
       "      <td>151.395457</td>\n",
       "      <td>30.832525</td>\n",
       "    </tr>\n",
       "    <tr>\n",
       "      <th>min</th>\n",
       "      <td>0.000000</td>\n",
       "      <td>0.000000</td>\n",
       "      <td>0.000000</td>\n",
       "      <td>0.000000</td>\n",
       "      <td>3.000000</td>\n",
       "    </tr>\n",
       "    <tr>\n",
       "      <th>25%</th>\n",
       "      <td>5.000000</td>\n",
       "      <td>14.000000</td>\n",
       "      <td>56.000000</td>\n",
       "      <td>111.000000</td>\n",
       "      <td>24.000000</td>\n",
       "    </tr>\n",
       "    <tr>\n",
       "      <th>50%</th>\n",
       "      <td>8.000000</td>\n",
       "      <td>22.000000</td>\n",
       "      <td>90.000000</td>\n",
       "      <td>187.000000</td>\n",
       "      <td>32.000000</td>\n",
       "    </tr>\n",
       "    <tr>\n",
       "      <th>75%</th>\n",
       "      <td>13.700000</td>\n",
       "      <td>32.200000</td>\n",
       "      <td>142.000000</td>\n",
       "      <td>296.000000</td>\n",
       "      <td>46.000000</td>\n",
       "    </tr>\n",
       "    <tr>\n",
       "      <th>max</th>\n",
       "      <td>909.000000</td>\n",
       "      <td>876.000000</td>\n",
       "      <td>6307.033333</td>\n",
       "      <td>3380.000000</td>\n",
       "      <td>504.000000</td>\n",
       "    </tr>\n",
       "  </tbody>\n",
       "</table>\n",
       "</div>"
      ],
      "text/plain": [
       "                 so2            no2           rspm            spm        pm2_5\n",
       "count  401096.000000  419509.000000  395520.000000  198355.000000  9314.000000\n",
       "mean       10.829414      25.809623     108.832784     220.783480    40.791467\n",
       "std        11.177187      18.503086      74.872430     151.395457    30.832525\n",
       "min         0.000000       0.000000       0.000000       0.000000     3.000000\n",
       "25%         5.000000      14.000000      56.000000     111.000000    24.000000\n",
       "50%         8.000000      22.000000      90.000000     187.000000    32.000000\n",
       "75%        13.700000      32.200000     142.000000     296.000000    46.000000\n",
       "max       909.000000     876.000000    6307.033333    3380.000000   504.000000"
      ]
     },
     "execution_count": 8,
     "metadata": {},
     "output_type": "execute_result"
    }
   ],
   "source": [
    "data.describe() #basic info of the dataset"
   ]
  },
  {
   "cell_type": "markdown",
   "metadata": {
    "colab_type": "text",
    "id": "kF7VWDLh5_fa"
   },
   "source": [
    "# DATA SHAPE (DIMENSION)"
   ]
  },
  {
   "cell_type": "code",
   "execution_count": 9,
   "metadata": {
    "colab": {
     "base_uri": "https://localhost:8080/",
     "height": 34
    },
    "colab_type": "code",
    "id": "OHavskLp5_fb",
    "outputId": "763aee10-60d4-47e2-efc2-4a0c534293cb"
   },
   "outputs": [
    {
     "data": {
      "text/plain": [
       "(435742, 13)"
      ]
     },
     "execution_count": 9,
     "metadata": {},
     "output_type": "execute_result"
    }
   ],
   "source": [
    "data.shape #dimensions of the data"
   ]
  },
  {
   "cell_type": "markdown",
   "metadata": {
    "colab_type": "text",
    "id": "JH0DBaKo5_fg"
   },
   "source": [
    "# Visualization for states with highest pollutants\n"
   ]
  },
  {
   "cell_type": "code",
   "execution_count": 12,
   "metadata": {
    "colab": {
     "base_uri": "https://localhost:8080/",
     "height": 379
    },
    "colab_type": "code",
    "id": "RvMrww8D5_fi",
    "outputId": "7568d1a2-bdae-4861-ea1a-6fa395aa774b"
   },
   "outputs": [
    {
     "data": {
      "image/png": "[encoded data removed]",
      "text/plain": [
       "<Figure size 432x288 with 1 Axes>"
      ]
     },
     "metadata": {
      "needs_background": "light"
     },
     "output_type": "display_data"
    }
   ],
   "source": [
    "data[['so2','state']].groupby([\"state\"]).mean().sort_values(by='so2').head(20).plot.bar(color='b')\n",
    "plt.show() "
   ]
  },
  {
   "cell_type": "code",
   "execution_count": 13,
   "metadata": {
    "colab": {
     "base_uri": "https://localhost:8080/",
     "height": 379
    },
    "colab_type": "code",
    "id": "pLi0Bp6P5_fp",
    "outputId": "d6272514-6065-45b7-819f-2e1385e5d7d1"
   },
   "outputs": [
    {
     "data": {
      "image/png": "[encoded data removed]",
      "text/plain": [
       "<Figure size 432x288 with 1 Axes>"
      ]
     },
     "metadata": {
      "needs_background": "light"
     },
     "output_type": "display_data"
    }
   ],
   "source": [
    "data[['no2','state']].groupby([\"state\"]).mean().sort_values(by='no2').plot.bar(color='g')\n",
    "plt.show()"
   ]
  },
  {
   "cell_type": "code",
   "execution_count": 14,
   "metadata": {
    "colab": {
     "base_uri": "https://localhost:8080/",
     "height": 379
    },
    "colab_type": "code",
    "id": "K0PvskRP5_fv",
    "outputId": "ae65f664-95c2-4315-8f94-0662da5c9761"
   },
   "outputs": [
    {
     "data": {
      "image/png": "[encoded data removed]",
      "text/plain": [
       "<Figure size 432x288 with 1 Axes>"
      ]
     },
     "metadata": {
      "needs_background": "light"
     },
     "output_type": "display_data"
    }
   ],
   "source": [
    "data[['spm','state']].groupby([\"state\"]).mean().sort_values(by='spm').plot.bar(color='b')\n",
    "plt.show()"
   ]
  },
  {
   "cell_type": "code",
   "execution_count": 15,
   "metadata": {
    "colab": {
     "base_uri": "https://localhost:8080/",
     "height": 379
    },
    "colab_type": "code",
    "id": "HItDlBmK5_fz",
    "outputId": "9954ca57-9db8-4f51-e06a-769f066e5285"
   },
   "outputs": [
    {
     "data": {
      "image/png": "[encoded data removed]",
      "text/plain": [
       "<Figure size 432x288 with 1 Axes>"
      ]
     },
     "metadata": {
      "needs_background": "light"
     },
     "output_type": "display_data"
    }
   ],
   "source": [
    "data[['rspm','state']].groupby([\"state\"]).mean().sort_values(by='rspm').plot.bar(color='r')\n",
    "plt.show()"
   ]
  },
  {
   "cell_type": "markdown",
   "metadata": {
    "colab_type": "text",
    "id": "OLIe75ao5_f3"
   },
   "source": [
    "# NULL VALUES COUNT"
   ]
  },
  {
   "cell_type": "code",
   "execution_count": 12,
   "metadata": {
    "colab": {
     "base_uri": "https://localhost:8080/",
     "height": 255
    },
    "colab_type": "code",
    "id": "IL4S78su5_f4",
    "outputId": "b38fdbdd-86c3-4e70-a0f3-332804ce2e3e"
   },
   "outputs": [
    {
     "data": {
      "text/plain": [
       "stn_code                       104890\n",
       "sampling_date                       0\n",
       "state                               0\n",
       "location                            0\n",
       "agency                         108138\n",
       "type                             3945\n",
       "so2                             28418\n",
       "no2                             12591\n",
       "rspm                            30141\n",
       "spm                            169222\n",
       "location_monitoring_station     19644\n",
       "pm2_5                          298954\n",
       "date                                5\n",
       "dtype: int64"
      ]
     },
     "execution_count": 12,
     "metadata": {
      "tags": []
     },
     "output_type": "execute_result"
    }
   ],
   "source": [
    "data.isna().sum() #print the sum of null values for each columns"
   ]
  },
  {
   "cell_type": "markdown",
   "metadata": {
    "colab_type": "text",
    "id": "0zkRkLQb5_f8"
   },
   "source": [
    "# DROP UNNECESSARY COLUMN"
   ]
  },
  {
   "cell_type": "code",
   "execution_count": 16,
   "metadata": {
    "colab": {},
    "colab_type": "code",
    "id": "iRJTGXBA5_f-"
   },
   "outputs": [],
   "source": [
    "data.drop(['stn_code','agency','sampling_date','location_monitoring_station'],axis=1,inplace=True) "
   ]
  },
  {
   "cell_type": "code",
   "execution_count": 17,
   "metadata": {
    "colab": {
     "base_uri": "https://localhost:8080/",
     "height": 359
    },
    "colab_type": "code",
    "id": "2nZO31ee5_gD",
    "outputId": "82e4ebb0-a8e0-4912-d29a-773aaaa62095"
   },
   "outputs": [
    {
     "data": {
      "text/html": [
       "<div>\n",
       "<style scoped>\n",
       "    .dataframe tbody tr th:only-of-type {\n",
       "        vertical-align: middle;\n",
       "    }\n",
       "\n",
       "    .dataframe tbody tr th {\n",
       "        vertical-align: top;\n",
       "    }\n",
       "\n",
       "    .dataframe thead th {\n",
       "        text-align: right;\n",
       "    }\n",
       "</style>\n",
       "<table border=\"1\" class=\"dataframe\">\n",
       "  <thead>\n",
       "    <tr style=\"text-align: right;\">\n",
       "      <th></th>\n",
       "      <th>state</th>\n",
       "      <th>location</th>\n",
       "      <th>type</th>\n",
       "      <th>so2</th>\n",
       "      <th>no2</th>\n",
       "      <th>rspm</th>\n",
       "      <th>spm</th>\n",
       "      <th>pm2_5</th>\n",
       "      <th>date</th>\n",
       "    </tr>\n",
       "  </thead>\n",
       "  <tbody>\n",
       "    <tr>\n",
       "      <th>0</th>\n",
       "      <td>Andhra Pradesh</td>\n",
       "      <td>Hyderabad</td>\n",
       "      <td>Residential, Rural and other Areas</td>\n",
       "      <td>4.8</td>\n",
       "      <td>17.4</td>\n",
       "      <td>NaN</td>\n",
       "      <td>NaN</td>\n",
       "      <td>NaN</td>\n",
       "      <td>1990-02-01</td>\n",
       "    </tr>\n",
       "    <tr>\n",
       "      <th>1</th>\n",
       "      <td>Andhra Pradesh</td>\n",
       "      <td>Hyderabad</td>\n",
       "      <td>Industrial Area</td>\n",
       "      <td>3.1</td>\n",
       "      <td>7.0</td>\n",
       "      <td>NaN</td>\n",
       "      <td>NaN</td>\n",
       "      <td>NaN</td>\n",
       "      <td>1990-02-01</td>\n",
       "    </tr>\n",
       "    <tr>\n",
       "      <th>2</th>\n",
       "      <td>Andhra Pradesh</td>\n",
       "      <td>Hyderabad</td>\n",
       "      <td>Residential, Rural and other Areas</td>\n",
       "      <td>6.2</td>\n",
       "      <td>28.5</td>\n",
       "      <td>NaN</td>\n",
       "      <td>NaN</td>\n",
       "      <td>NaN</td>\n",
       "      <td>1990-02-01</td>\n",
       "    </tr>\n",
       "    <tr>\n",
       "      <th>3</th>\n",
       "      <td>Andhra Pradesh</td>\n",
       "      <td>Hyderabad</td>\n",
       "      <td>Residential, Rural and other Areas</td>\n",
       "      <td>6.3</td>\n",
       "      <td>14.7</td>\n",
       "      <td>NaN</td>\n",
       "      <td>NaN</td>\n",
       "      <td>NaN</td>\n",
       "      <td>1990-03-01</td>\n",
       "    </tr>\n",
       "    <tr>\n",
       "      <th>4</th>\n",
       "      <td>Andhra Pradesh</td>\n",
       "      <td>Hyderabad</td>\n",
       "      <td>Industrial Area</td>\n",
       "      <td>4.7</td>\n",
       "      <td>7.5</td>\n",
       "      <td>NaN</td>\n",
       "      <td>NaN</td>\n",
       "      <td>NaN</td>\n",
       "      <td>1990-03-01</td>\n",
       "    </tr>\n",
       "    <tr>\n",
       "      <th>5</th>\n",
       "      <td>Andhra Pradesh</td>\n",
       "      <td>Hyderabad</td>\n",
       "      <td>Residential, Rural and other Areas</td>\n",
       "      <td>6.4</td>\n",
       "      <td>25.7</td>\n",
       "      <td>NaN</td>\n",
       "      <td>NaN</td>\n",
       "      <td>NaN</td>\n",
       "      <td>1990-03-01</td>\n",
       "    </tr>\n",
       "    <tr>\n",
       "      <th>6</th>\n",
       "      <td>Andhra Pradesh</td>\n",
       "      <td>Hyderabad</td>\n",
       "      <td>Residential, Rural and other Areas</td>\n",
       "      <td>5.4</td>\n",
       "      <td>17.1</td>\n",
       "      <td>NaN</td>\n",
       "      <td>NaN</td>\n",
       "      <td>NaN</td>\n",
       "      <td>1990-04-01</td>\n",
       "    </tr>\n",
       "    <tr>\n",
       "      <th>7</th>\n",
       "      <td>Andhra Pradesh</td>\n",
       "      <td>Hyderabad</td>\n",
       "      <td>Industrial Area</td>\n",
       "      <td>4.7</td>\n",
       "      <td>8.7</td>\n",
       "      <td>NaN</td>\n",
       "      <td>NaN</td>\n",
       "      <td>NaN</td>\n",
       "      <td>1990-04-01</td>\n",
       "    </tr>\n",
       "    <tr>\n",
       "      <th>8</th>\n",
       "      <td>Andhra Pradesh</td>\n",
       "      <td>Hyderabad</td>\n",
       "      <td>Residential, Rural and other Areas</td>\n",
       "      <td>4.2</td>\n",
       "      <td>23.0</td>\n",
       "      <td>NaN</td>\n",
       "      <td>NaN</td>\n",
       "      <td>NaN</td>\n",
       "      <td>1990-04-01</td>\n",
       "    </tr>\n",
       "    <tr>\n",
       "      <th>9</th>\n",
       "      <td>Andhra Pradesh</td>\n",
       "      <td>Hyderabad</td>\n",
       "      <td>Industrial Area</td>\n",
       "      <td>4.0</td>\n",
       "      <td>8.9</td>\n",
       "      <td>NaN</td>\n",
       "      <td>NaN</td>\n",
       "      <td>NaN</td>\n",
       "      <td>1990-05-01</td>\n",
       "    </tr>\n",
       "  </tbody>\n",
       "</table>\n",
       "</div>"
      ],
      "text/plain": [
       "            state   location                                type  so2   no2  \\\n",
       "0  Andhra Pradesh  Hyderabad  Residential, Rural and other Areas  4.8  17.4   \n",
       "1  Andhra Pradesh  Hyderabad                     Industrial Area  3.1   7.0   \n",
       "2  Andhra Pradesh  Hyderabad  Residential, Rural and other Areas  6.2  28.5   \n",
       "3  Andhra Pradesh  Hyderabad  Residential, Rural and other Areas  6.3  14.7   \n",
       "4  Andhra Pradesh  Hyderabad                     Industrial Area  4.7   7.5   \n",
       "5  Andhra Pradesh  Hyderabad  Residential, Rural and other Areas  6.4  25.7   \n",
       "6  Andhra Pradesh  Hyderabad  Residential, Rural and other Areas  5.4  17.1   \n",
       "7  Andhra Pradesh  Hyderabad                     Industrial Area  4.7   8.7   \n",
       "8  Andhra Pradesh  Hyderabad  Residential, Rural and other Areas  4.2  23.0   \n",
       "9  Andhra Pradesh  Hyderabad                     Industrial Area  4.0   8.9   \n",
       "\n",
       "   rspm  spm  pm2_5        date  \n",
       "0   NaN  NaN    NaN  1990-02-01  \n",
       "1   NaN  NaN    NaN  1990-02-01  \n",
       "2   NaN  NaN    NaN  1990-02-01  \n",
       "3   NaN  NaN    NaN  1990-03-01  \n",
       "4   NaN  NaN    NaN  1990-03-01  \n",
       "5   NaN  NaN    NaN  1990-03-01  \n",
       "6   NaN  NaN    NaN  1990-04-01  \n",
       "7   NaN  NaN    NaN  1990-04-01  \n",
       "8   NaN  NaN    NaN  1990-04-01  \n",
       "9   NaN  NaN    NaN  1990-05-01  "
      ]
     },
     "execution_count": 17,
     "metadata": {},
     "output_type": "execute_result"
    }
   ],
   "source": [
    "data.head(10)"
   ]
  },
  {
   "cell_type": "markdown",
   "metadata": {
    "colab_type": "text",
    "id": "4gHNuyS45_gL"
   },
   "source": [
    "# CALCULATE TOTAL MISSING VALUES AND THEIR PERCENTAGE"
   ]
  },
  {
   "cell_type": "code",
   "execution_count": 18,
   "metadata": {
    "colab": {},
    "colab_type": "code",
    "id": "q4sLgl2g5_gN"
   },
   "outputs": [],
   "source": [
    "total = data.isnull().sum().sort_values(ascending=False) "
   ]
  },
  {
   "cell_type": "code",
   "execution_count": 19,
   "metadata": {
    "colab": {
     "base_uri": "https://localhost:8080/",
     "height": 119
    },
    "colab_type": "code",
    "id": "OSmaLrjp5_gS",
    "outputId": "a353f933-b797-4592-810f-c5527c0fc2d0"
   },
   "outputs": [
    {
     "data": {
      "text/plain": [
       "pm2_5    426428\n",
       "spm      237387\n",
       "rspm      40222\n",
       "so2       34646\n",
       "no2       16233\n",
       "dtype: int64"
      ]
     },
     "execution_count": 19,
     "metadata": {},
     "output_type": "execute_result"
    }
   ],
   "source": [
    "total.head()"
   ]
  },
  {
   "cell_type": "markdown",
   "metadata": {
    "colab_type": "text",
    "id": "sUaRq_Pf5_gW"
   },
   "source": [
    "Calculate the percent of null values for each columns (sum of null values / total non-null value) *100"
   ]
  },
  {
   "cell_type": "code",
   "execution_count": 20,
   "metadata": {
    "colab": {},
    "colab_type": "code",
    "id": "Vheh8P5_5_gX"
   },
   "outputs": [],
   "source": [
    "percent = (data.isnull().sum()/data.isnull().count()*100).sort_values(ascending=False)  #count(returns Non-NAN value)"
   ]
  },
  {
   "cell_type": "code",
   "execution_count": 21,
   "metadata": {
    "colab": {},
    "colab_type": "code",
    "id": "ygXrsxHa5_gb"
   },
   "outputs": [],
   "source": [
    "missing_data = pd.concat([total, percent], axis=1, keys=['Total', 'Percent'])"
   ]
  },
  {
   "cell_type": "code",
   "execution_count": 22,
   "metadata": {
    "colab": {
     "base_uri": "https://localhost:8080/",
     "height": 204
    },
    "colab_type": "code",
    "id": "wE7sAHht5_gj",
    "outputId": "d46f5f59-e3d9-41a8-eba7-6b5f7065b52b"
   },
   "outputs": [
    {
     "data": {
      "text/html": [
       "<div>\n",
       "<style scoped>\n",
       "    .dataframe tbody tr th:only-of-type {\n",
       "        vertical-align: middle;\n",
       "    }\n",
       "\n",
       "    .dataframe tbody tr th {\n",
       "        vertical-align: top;\n",
       "    }\n",
       "\n",
       "    .dataframe thead th {\n",
       "        text-align: right;\n",
       "    }\n",
       "</style>\n",
       "<table border=\"1\" class=\"dataframe\">\n",
       "  <thead>\n",
       "    <tr style=\"text-align: right;\">\n",
       "      <th></th>\n",
       "      <th>Total</th>\n",
       "      <th>Percent</th>\n",
       "    </tr>\n",
       "  </thead>\n",
       "  <tbody>\n",
       "    <tr>\n",
       "      <th>pm2_5</th>\n",
       "      <td>426428</td>\n",
       "      <td>97.862497</td>\n",
       "    </tr>\n",
       "    <tr>\n",
       "      <th>spm</th>\n",
       "      <td>237387</td>\n",
       "      <td>54.478797</td>\n",
       "    </tr>\n",
       "    <tr>\n",
       "      <th>rspm</th>\n",
       "      <td>40222</td>\n",
       "      <td>9.230692</td>\n",
       "    </tr>\n",
       "    <tr>\n",
       "      <th>so2</th>\n",
       "      <td>34646</td>\n",
       "      <td>7.951035</td>\n",
       "    </tr>\n",
       "    <tr>\n",
       "      <th>no2</th>\n",
       "      <td>16233</td>\n",
       "      <td>3.725370</td>\n",
       "    </tr>\n",
       "  </tbody>\n",
       "</table>\n",
       "</div>"
      ],
      "text/plain": [
       "        Total    Percent\n",
       "pm2_5  426428  97.862497\n",
       "spm    237387  54.478797\n",
       "rspm    40222   9.230692\n",
       "so2     34646   7.951035\n",
       "no2     16233   3.725370"
      ]
     },
     "execution_count": 22,
     "metadata": {},
     "output_type": "execute_result"
    }
   ],
   "source": [
    "missing_data.head()"
   ]
  },
  {
   "cell_type": "markdown",
   "metadata": {
    "colab_type": "text",
    "id": "Z78KqAuZ5_gm"
   },
   "source": [
    "# PERCENT OF MISSING VALUE (BAR PLOT)"
   ]
  },
  {
   "cell_type": "code",
   "execution_count": 20,
   "metadata": {
    "colab": {
     "base_uri": "https://localhost:8080/",
     "height": 327
    },
    "colab_type": "code",
    "id": "Ar83Yag15_gn",
    "outputId": "e74168c7-de3b-40db-8bdc-fbda885d3a08"
   },
   "outputs": [
    {
     "data": {
      "text/plain": [
       "Text(0.5, 1.0, 'Percent missing data by feature')"
      ]
     },
     "execution_count": 20,
     "metadata": {
      "tags": []
     },
     "output_type": "execute_result"
    },
    {
     "data": {
      "image/png": "[encoded data removed]",
      "text/plain": [
       "<Figure size 432x288 with 1 Axes>"
      ]
     },
     "metadata": {
      "tags": []
     },
     "output_type": "display_data"
    }
   ],
   "source": [
    "sns.barplot(x=missing_data.index, y=missing_data['Percent'])\n",
    "plt.xlabel('Features', fontsize=20)\n",
    "plt.ylabel('Percent of missing values', fontsize=20)\n",
    "plt.title('Percent missing data by feature', fontsize=20)"
   ]
  },
  {
   "cell_type": "markdown",
   "metadata": {
    "colab_type": "text",
    "id": "590U7n2R5_gr"
   },
   "source": [
    "# MEAN DISTRIBUTION BY STATE"
   ]
  },
  {
   "cell_type": "code",
   "execution_count": 23,
   "metadata": {
    "colab": {
     "base_uri": "https://localhost:8080/",
     "height": 886
    },
    "colab_type": "code",
    "id": "2CPVe3D75_gs",
    "outputId": "4eca01fa-1236-4903-9705-cf29a6c9633a"
   },
   "outputs": [
    {
     "data": {
      "text/html": [
       "<div>\n",
       "<style scoped>\n",
       "    .dataframe tbody tr th:only-of-type {\n",
       "        vertical-align: middle;\n",
       "    }\n",
       "\n",
       "    .dataframe tbody tr th {\n",
       "        vertical-align: top;\n",
       "    }\n",
       "\n",
       "    .dataframe thead th {\n",
       "        text-align: right;\n",
       "    }\n",
       "</style>\n",
       "<table border=\"1\" class=\"dataframe\">\n",
       "  <thead>\n",
       "    <tr style=\"text-align: right;\">\n",
       "      <th></th>\n",
       "      <th>spm</th>\n",
       "      <th>pm2_5</th>\n",
       "      <th>rspm</th>\n",
       "      <th>so2</th>\n",
       "      <th>no2</th>\n",
       "    </tr>\n",
       "    <tr>\n",
       "      <th>state</th>\n",
       "      <th></th>\n",
       "      <th></th>\n",
       "      <th></th>\n",
       "      <th></th>\n",
       "      <th></th>\n",
       "    </tr>\n",
       "  </thead>\n",
       "  <tbody>\n",
       "    <tr>\n",
       "      <th>Andhra Pradesh</th>\n",
       "      <td>200.260378</td>\n",
       "      <td>NaN</td>\n",
       "      <td>78.182824</td>\n",
       "      <td>7.284845</td>\n",
       "      <td>21.704451</td>\n",
       "    </tr>\n",
       "    <tr>\n",
       "      <th>Arunachal Pradesh</th>\n",
       "      <td>NaN</td>\n",
       "      <td>NaN</td>\n",
       "      <td>76.629213</td>\n",
       "      <td>3.179104</td>\n",
       "      <td>5.469697</td>\n",
       "    </tr>\n",
       "    <tr>\n",
       "      <th>Assam</th>\n",
       "      <td>153.355386</td>\n",
       "      <td>NaN</td>\n",
       "      <td>93.724912</td>\n",
       "      <td>6.723263</td>\n",
       "      <td>14.793691</td>\n",
       "    </tr>\n",
       "    <tr>\n",
       "      <th>Bihar</th>\n",
       "      <td>276.917416</td>\n",
       "      <td>NaN</td>\n",
       "      <td>123.705176</td>\n",
       "      <td>19.381476</td>\n",
       "      <td>36.575525</td>\n",
       "    </tr>\n",
       "    <tr>\n",
       "      <th>Chandigarh</th>\n",
       "      <td>206.056150</td>\n",
       "      <td>NaN</td>\n",
       "      <td>96.587079</td>\n",
       "      <td>2.676986</td>\n",
       "      <td>18.619404</td>\n",
       "    </tr>\n",
       "    <tr>\n",
       "      <th>Chhattisgarh</th>\n",
       "      <td>231.290969</td>\n",
       "      <td>NaN</td>\n",
       "      <td>126.472399</td>\n",
       "      <td>12.846609</td>\n",
       "      <td>24.815961</td>\n",
       "    </tr>\n",
       "    <tr>\n",
       "      <th>Dadra &amp; Nagar Haveli</th>\n",
       "      <td>170.545024</td>\n",
       "      <td>30.511628</td>\n",
       "      <td>76.536530</td>\n",
       "      <td>8.939587</td>\n",
       "      <td>18.293959</td>\n",
       "    </tr>\n",
       "    <tr>\n",
       "      <th>Daman &amp; Diu</th>\n",
       "      <td>145.681416</td>\n",
       "      <td>27.886364</td>\n",
       "      <td>73.749431</td>\n",
       "      <td>8.192958</td>\n",
       "      <td>16.168926</td>\n",
       "    </tr>\n",
       "    <tr>\n",
       "      <th>Delhi</th>\n",
       "      <td>399.402088</td>\n",
       "      <td>95.113208</td>\n",
       "      <td>196.639771</td>\n",
       "      <td>8.737273</td>\n",
       "      <td>53.489147</td>\n",
       "    </tr>\n",
       "    <tr>\n",
       "      <th>Goa</th>\n",
       "      <td>67.254193</td>\n",
       "      <td>18.855612</td>\n",
       "      <td>61.212766</td>\n",
       "      <td>6.827913</td>\n",
       "      <td>12.506337</td>\n",
       "    </tr>\n",
       "    <tr>\n",
       "      <th>Gujarat</th>\n",
       "      <td>191.567930</td>\n",
       "      <td>30.729696</td>\n",
       "      <td>98.244510</td>\n",
       "      <td>16.656343</td>\n",
       "      <td>24.065631</td>\n",
       "    </tr>\n",
       "    <tr>\n",
       "      <th>Haryana</th>\n",
       "      <td>268.264804</td>\n",
       "      <td>NaN</td>\n",
       "      <td>149.860537</td>\n",
       "      <td>14.064957</td>\n",
       "      <td>23.428311</td>\n",
       "    </tr>\n",
       "    <tr>\n",
       "      <th>Himachal Pradesh</th>\n",
       "      <td>208.575630</td>\n",
       "      <td>NaN</td>\n",
       "      <td>91.870202</td>\n",
       "      <td>2.667013</td>\n",
       "      <td>13.658688</td>\n",
       "    </tr>\n",
       "    <tr>\n",
       "      <th>Jammu &amp; Kashmir</th>\n",
       "      <td>196.221053</td>\n",
       "      <td>NaN</td>\n",
       "      <td>117.449483</td>\n",
       "      <td>7.180521</td>\n",
       "      <td>12.213181</td>\n",
       "    </tr>\n",
       "    <tr>\n",
       "      <th>Jharkhand</th>\n",
       "      <td>277.940746</td>\n",
       "      <td>NaN</td>\n",
       "      <td>168.517763</td>\n",
       "      <td>23.485794</td>\n",
       "      <td>43.366341</td>\n",
       "    </tr>\n",
       "    <tr>\n",
       "      <th>Karnataka</th>\n",
       "      <td>168.001743</td>\n",
       "      <td>NaN</td>\n",
       "      <td>79.371801</td>\n",
       "      <td>10.223099</td>\n",
       "      <td>22.702837</td>\n",
       "    </tr>\n",
       "    <tr>\n",
       "      <th>Kerala</th>\n",
       "      <td>84.419791</td>\n",
       "      <td>NaN</td>\n",
       "      <td>50.636064</td>\n",
       "      <td>5.322350</td>\n",
       "      <td>14.421889</td>\n",
       "    </tr>\n",
       "    <tr>\n",
       "      <th>Lakshadweep</th>\n",
       "      <td>NaN</td>\n",
       "      <td>NaN</td>\n",
       "      <td>NaN</td>\n",
       "      <td>NaN</td>\n",
       "      <td>NaN</td>\n",
       "    </tr>\n",
       "    <tr>\n",
       "      <th>Madhya Pradesh</th>\n",
       "      <td>210.067545</td>\n",
       "      <td>65.064565</td>\n",
       "      <td>114.717967</td>\n",
       "      <td>11.587410</td>\n",
       "      <td>18.639596</td>\n",
       "    </tr>\n",
       "    <tr>\n",
       "      <th>Maharashtra</th>\n",
       "      <td>205.255823</td>\n",
       "      <td>NaN</td>\n",
       "      <td>101.479608</td>\n",
       "      <td>17.366863</td>\n",
       "      <td>32.115370</td>\n",
       "    </tr>\n",
       "    <tr>\n",
       "      <th>Manipur</th>\n",
       "      <td>158.657895</td>\n",
       "      <td>NaN</td>\n",
       "      <td>69.815789</td>\n",
       "      <td>3.900000</td>\n",
       "      <td>20.173684</td>\n",
       "    </tr>\n",
       "    <tr>\n",
       "      <th>Meghalaya</th>\n",
       "      <td>78.002445</td>\n",
       "      <td>NaN</td>\n",
       "      <td>68.988442</td>\n",
       "      <td>8.955908</td>\n",
       "      <td>10.659706</td>\n",
       "    </tr>\n",
       "    <tr>\n",
       "      <th>Mizoram</th>\n",
       "      <td>87.833333</td>\n",
       "      <td>NaN</td>\n",
       "      <td>42.716466</td>\n",
       "      <td>2.085009</td>\n",
       "      <td>6.682171</td>\n",
       "    </tr>\n",
       "    <tr>\n",
       "      <th>Nagaland</th>\n",
       "      <td>133.311449</td>\n",
       "      <td>NaN</td>\n",
       "      <td>83.357027</td>\n",
       "      <td>2.059736</td>\n",
       "      <td>8.947265</td>\n",
       "    </tr>\n",
       "    <tr>\n",
       "      <th>Odisha</th>\n",
       "      <td>167.609844</td>\n",
       "      <td>42.204089</td>\n",
       "      <td>83.619824</td>\n",
       "      <td>5.275874</td>\n",
       "      <td>16.899568</td>\n",
       "    </tr>\n",
       "    <tr>\n",
       "      <th>Puducherry</th>\n",
       "      <td>95.598188</td>\n",
       "      <td>NaN</td>\n",
       "      <td>43.418217</td>\n",
       "      <td>11.970639</td>\n",
       "      <td>15.279496</td>\n",
       "    </tr>\n",
       "    <tr>\n",
       "      <th>Punjab</th>\n",
       "      <td>244.918926</td>\n",
       "      <td>NaN</td>\n",
       "      <td>173.493711</td>\n",
       "      <td>10.628598</td>\n",
       "      <td>28.085846</td>\n",
       "    </tr>\n",
       "    <tr>\n",
       "      <th>Rajasthan</th>\n",
       "      <td>300.735397</td>\n",
       "      <td>NaN</td>\n",
       "      <td>142.016832</td>\n",
       "      <td>7.665725</td>\n",
       "      <td>30.441008</td>\n",
       "    </tr>\n",
       "    <tr>\n",
       "      <th>Sikkim</th>\n",
       "      <td>75.000000</td>\n",
       "      <td>NaN</td>\n",
       "      <td>32.000000</td>\n",
       "      <td>19.800000</td>\n",
       "      <td>26.800000</td>\n",
       "    </tr>\n",
       "    <tr>\n",
       "      <th>Tamil Nadu</th>\n",
       "      <td>126.729064</td>\n",
       "      <td>29.550441</td>\n",
       "      <td>66.585638</td>\n",
       "      <td>11.315134</td>\n",
       "      <td>21.601202</td>\n",
       "    </tr>\n",
       "    <tr>\n",
       "      <th>Telangana</th>\n",
       "      <td>NaN</td>\n",
       "      <td>43.968927</td>\n",
       "      <td>85.043008</td>\n",
       "      <td>5.418609</td>\n",
       "      <td>23.864005</td>\n",
       "    </tr>\n",
       "    <tr>\n",
       "      <th>Tripura</th>\n",
       "      <td>NaN</td>\n",
       "      <td>NaN</td>\n",
       "      <td>NaN</td>\n",
       "      <td>NaN</td>\n",
       "      <td>NaN</td>\n",
       "    </tr>\n",
       "    <tr>\n",
       "      <th>Uttar Pradesh</th>\n",
       "      <td>372.663688</td>\n",
       "      <td>NaN</td>\n",
       "      <td>176.952308</td>\n",
       "      <td>12.528500</td>\n",
       "      <td>27.610095</td>\n",
       "    </tr>\n",
       "    <tr>\n",
       "      <th>Uttarakhand</th>\n",
       "      <td>306.758923</td>\n",
       "      <td>NaN</td>\n",
       "      <td>148.978906</td>\n",
       "      <td>24.372957</td>\n",
       "      <td>26.938090</td>\n",
       "    </tr>\n",
       "    <tr>\n",
       "      <th>Uttaranchal</th>\n",
       "      <td>283.335714</td>\n",
       "      <td>NaN</td>\n",
       "      <td>121.694340</td>\n",
       "      <td>24.697736</td>\n",
       "      <td>27.163019</td>\n",
       "    </tr>\n",
       "    <tr>\n",
       "      <th>West Bengal</th>\n",
       "      <td>233.506524</td>\n",
       "      <td>64.890625</td>\n",
       "      <td>115.039909</td>\n",
       "      <td>12.608766</td>\n",
       "      <td>59.075731</td>\n",
       "    </tr>\n",
       "    <tr>\n",
       "      <th>andaman-and-nicobar-islands</th>\n",
       "      <td>NaN</td>\n",
       "      <td>NaN</td>\n",
       "      <td>NaN</td>\n",
       "      <td>NaN</td>\n",
       "      <td>NaN</td>\n",
       "    </tr>\n",
       "  </tbody>\n",
       "</table>\n",
       "</div>"
      ],
      "text/plain": [
       "                                    spm      pm2_5        rspm        so2  \\\n",
       "state                                                                       \n",
       "Andhra Pradesh               200.260378        NaN   78.182824   7.284845   \n",
       "Arunachal Pradesh                   NaN        NaN   76.629213   3.179104   \n",
       "Assam                        153.355386        NaN   93.724912   6.723263   \n",
       "Bihar                        276.917416        NaN  123.705176  19.381476   \n",
       "Chandigarh                   206.056150        NaN   96.587079   2.676986   \n",
       "Chhattisgarh                 231.290969        NaN  126.472399  12.846609   \n",
       "Dadra & Nagar Haveli         170.545024  30.511628   76.536530   8.939587   \n",
       "Daman & Diu                  145.681416  27.886364   73.749431   8.192958   \n",
       "Delhi                        399.402088  95.113208  196.639771   8.737273   \n",
       "Goa                           67.254193  18.855612   61.212766   6.827913   \n",
       "Gujarat                      191.567930  30.729696   98.244510  16.656343   \n",
       "Haryana                      268.264804        NaN  149.860537  14.064957   \n",
       "Himachal Pradesh             208.575630        NaN   91.870202   2.667013   \n",
       "Jammu & Kashmir              196.221053        NaN  117.449483   7.180521   \n",
       "Jharkhand                    277.940746        NaN  168.517763  23.485794   \n",
       "Karnataka                    168.001743        NaN   79.371801  10.223099   \n",
       "Kerala                        84.419791        NaN   50.636064   5.322350   \n",
       "Lakshadweep                         NaN        NaN         NaN        NaN   \n",
       "Madhya Pradesh               210.067545  65.064565  114.717967  11.587410   \n",
       "Maharashtra                  205.255823        NaN  101.479608  17.366863   \n",
       "Manipur                      158.657895        NaN   69.815789   3.900000   \n",
       "Meghalaya                     78.002445        NaN   68.988442   8.955908   \n",
       "Mizoram                       87.833333        NaN   42.716466   2.085009   \n",
       "Nagaland                     133.311449        NaN   83.357027   2.059736   \n",
       "Odisha                       167.609844  42.204089   83.619824   5.275874   \n",
       "Puducherry                    95.598188        NaN   43.418217  11.970639   \n",
       "Punjab                       244.918926        NaN  173.493711  10.628598   \n",
       "Rajasthan                    300.735397        NaN  142.016832   7.665725   \n",
       "Sikkim                        75.000000        NaN   32.000000  19.800000   \n",
       "Tamil Nadu                   126.729064  29.550441   66.585638  11.315134   \n",
       "Telangana                           NaN  43.968927   85.043008   5.418609   \n",
       "Tripura                             NaN        NaN         NaN        NaN   \n",
       "Uttar Pradesh                372.663688        NaN  176.952308  12.528500   \n",
       "Uttarakhand                  306.758923        NaN  148.978906  24.372957   \n",
       "Uttaranchal                  283.335714        NaN  121.694340  24.697736   \n",
       "West Bengal                  233.506524  64.890625  115.039909  12.608766   \n",
       "andaman-and-nicobar-islands         NaN        NaN         NaN        NaN   \n",
       "\n",
       "                                   no2  \n",
       "state                                   \n",
       "Andhra Pradesh               21.704451  \n",
       "Arunachal Pradesh             5.469697  \n",
       "Assam                        14.793691  \n",
       "Bihar                        36.575525  \n",
       "Chandigarh                   18.619404  \n",
       "Chhattisgarh                 24.815961  \n",
       "Dadra & Nagar Haveli         18.293959  \n",
       "Daman & Diu                  16.168926  \n",
       "Delhi                        53.489147  \n",
       "Goa                          12.506337  \n",
       "Gujarat                      24.065631  \n",
       "Haryana                      23.428311  \n",
       "Himachal Pradesh             13.658688  \n",
       "Jammu & Kashmir              12.213181  \n",
       "Jharkhand                    43.366341  \n",
       "Karnataka                    22.702837  \n",
       "Kerala                       14.421889  \n",
       "Lakshadweep                        NaN  \n",
       "Madhya Pradesh               18.639596  \n",
       "Maharashtra                  32.115370  \n",
       "Manipur                      20.173684  \n",
       "Meghalaya                    10.659706  \n",
       "Mizoram                       6.682171  \n",
       "Nagaland                      8.947265  \n",
       "Odisha                       16.899568  \n",
       "Puducherry                   15.279496  \n",
       "Punjab                       28.085846  \n",
       "Rajasthan                    30.441008  \n",
       "Sikkim                       26.800000  \n",
       "Tamil Nadu                   21.601202  \n",
       "Telangana                    23.864005  \n",
       "Tripura                            NaN  \n",
       "Uttar Pradesh                27.610095  \n",
       "Uttarakhand                  26.938090  \n",
       "Uttaranchal                  27.163019  \n",
       "West Bengal                  59.075731  \n",
       "andaman-and-nicobar-islands        NaN  "
      ]
     },
     "execution_count": 23,
     "metadata": {},
     "output_type": "execute_result"
    }
   ],
   "source": [
    "data.groupby('state')[['spm','pm2_5','rspm','so2','no2']].mean()"
   ]
  },
  {
   "cell_type": "markdown",
   "metadata": {
    "colab_type": "text",
    "id": "wnmcGe-85_gv"
   },
   "source": [
    "# CHECKING DATA DISTRIBUTION"
   ]
  },
  {
   "cell_type": "code",
   "execution_count": 24,
   "metadata": {
    "colab": {
     "base_uri": "https://localhost:8080/",
     "height": 418
    },
    "colab_type": "code",
    "id": "OfMSPDs95_gw",
    "outputId": "08e97323-3456-43d5-be31-1151d76a261f"
   },
   "outputs": [
    {
     "name": "stderr",
     "output_type": "stream",
     "text": [
      "/home/prithvi/anaconda3/envs/pytorch/lib/python3.7/site-packages/numpy/lib/histograms.py:824: RuntimeWarning: invalid value encountered in greater_equal\n",
      "  keep = (tmp_a >= first_edge)\n",
      "/home/prithvi/anaconda3/envs/pytorch/lib/python3.7/site-packages/numpy/lib/histograms.py:825: RuntimeWarning: invalid value encountered in less_equal\n",
      "  keep &= (tmp_a <= last_edge)\n"
     ]
    },
    {
     "data": {
      "text/plain": [
       "(array([1.74232e+05, 2.30180e+04, 1.02600e+03, 6.10000e+01, 1.10000e+01,\n",
       "        4.00000e+00, 2.00000e+00, 0.00000e+00, 1.00000e+00, 0.00000e+00]),\n",
       " array([   0.,  400.,  800., 1200., 1600., 2000., 2400., 2800., 3200.,\n",
       "        3600., 4000.]),\n",
       " <a list of 10 Patch objects>)"
      ]
     },
     "execution_count": 24,
     "metadata": {},
     "output_type": "execute_result"
    },
    {
     "data": {
      "image/png": "[encoded data removed]",
      "text/plain": [
       "<Figure size 432x288 with 1 Axes>"
      ]
     },
     "metadata": {
      "needs_background": "light"
     },
     "output_type": "display_data"
    }
   ],
   "source": [
    "plt.hist(data.spm,range=(0.0,4000)) #spm"
   ]
  },
  {
   "cell_type": "code",
   "execution_count": 25,
   "metadata": {
    "colab": {
     "base_uri": "https://localhost:8080/",
     "height": 418
    },
    "colab_type": "code",
    "id": "lhkpUHWD5_g4",
    "outputId": "b3b63901-363a-4428-a502-1cf0d3dfd160"
   },
   "outputs": [
    {
     "data": {
      "text/plain": [
       "(array([4.00522e+05, 4.81000e+02, 6.40000e+01, 2.10000e+01, 6.00000e+00,\n",
       "        1.00000e+00, 0.00000e+00, 0.00000e+00, 0.00000e+00, 1.00000e+00]),\n",
       " array([   0.,  100.,  200.,  300.,  400.,  500.,  600.,  700.,  800.,\n",
       "         900., 1000.]),\n",
       " <a list of 10 Patch objects>)"
      ]
     },
     "execution_count": 25,
     "metadata": {},
     "output_type": "execute_result"
    },
    {
     "data": {
      "image/png": "[encoded data removed]",
      "text/plain": [
       "<Figure size 432x288 with 1 Axes>"
      ]
     },
     "metadata": {
      "needs_background": "light"
     },
     "output_type": "display_data"
    }
   ],
   "source": [
    "plt.hist(data.so2,range=(0,1000)) #so2"
   ]
  },
  {
   "cell_type": "code",
   "execution_count": 26,
   "metadata": {
    "colab": {
     "base_uri": "https://localhost:8080/",
     "height": 418
    },
    "colab_type": "code",
    "id": "HWaYY78J5_g7",
    "outputId": "c2503240-f78d-46f2-f130-57369de80c1c"
   },
   "outputs": [
    {
     "data": {
      "text/plain": [
       "(array([4.16228e+05, 3.10400e+03, 1.32000e+02, 3.20000e+01, 7.00000e+00,\n",
       "        3.00000e+00, 2.00000e+00, 0.00000e+00, 1.00000e+00, 0.00000e+00]),\n",
       " array([   0.,  100.,  200.,  300.,  400.,  500.,  600.,  700.,  800.,\n",
       "         900., 1000.]),\n",
       " <a list of 10 Patch objects>)"
      ]
     },
     "execution_count": 26,
     "metadata": {},
     "output_type": "execute_result"
    },
    {
     "data": {
      "image/png": "[encoded data removed]",
      "text/plain": [
       "<Figure size 432x288 with 1 Axes>"
      ]
     },
     "metadata": {
      "needs_background": "light"
     },
     "output_type": "display_data"
    }
   ],
   "source": [
    "plt.hist(data.no2,range=(0,1000)) #no2"
   ]
  },
  {
   "cell_type": "code",
   "execution_count": 27,
   "metadata": {
    "colab": {
     "base_uri": "https://localhost:8080/",
     "height": 418
    },
    "colab_type": "code",
    "id": "O6TMLH__5_g_",
    "outputId": "13425e10-339a-4eaa-87fd-b7010ef95ecf"
   },
   "outputs": [
    {
     "data": {
      "text/plain": [
       "(array([3.95425e+05, 9.40000e+01, 0.00000e+00, 0.00000e+00, 0.00000e+00,\n",
       "        0.00000e+00, 0.00000e+00, 0.00000e+00, 0.00000e+00, 1.00000e+00]),\n",
       " array([   0.,  700., 1400., 2100., 2800., 3500., 4200., 4900., 5600.,\n",
       "        6300., 7000.]),\n",
       " <a list of 10 Patch objects>)"
      ]
     },
     "execution_count": 27,
     "metadata": {},
     "output_type": "execute_result"
    },
    {
     "data": {
      "image/png": "[encoded data removed]",
      "text/plain": [
       "<Figure size 432x288 with 1 Axes>"
      ]
     },
     "metadata": {
      "needs_background": "light"
     },
     "output_type": "display_data"
    }
   ],
   "source": [
    "plt.hist(data.rspm,range=(0,7000)) #rspm"
   ]
  },
  {
   "cell_type": "code",
   "execution_count": 28,
   "metadata": {
    "colab": {
     "base_uri": "https://localhost:8080/",
     "height": 418
    },
    "colab_type": "code",
    "id": "-kE1DY1x5_hG",
    "outputId": "2a6b354a-ec44-4c20-dd4c-43ab98276010"
   },
   "outputs": [
    {
     "data": {
      "text/plain": [
       "(array([8.92e+03, 3.47e+02, 3.90e+01, 7.00e+00, 0.00e+00, 1.00e+00,\n",
       "        0.00e+00, 0.00e+00, 0.00e+00, 0.00e+00]),\n",
       " array([   0.,  100.,  200.,  300.,  400.,  500.,  600.,  700.,  800.,\n",
       "         900., 1000.]),\n",
       " <a list of 10 Patch objects>)"
      ]
     },
     "execution_count": 28,
     "metadata": {},
     "output_type": "execute_result"
    },
    {
     "data": {
      "image/png": "[encoded data removed]",
      "text/plain": [
       "<Figure size 432x288 with 1 Axes>"
      ]
     },
     "metadata": {
      "needs_background": "light"
     },
     "output_type": "display_data"
    }
   ],
   "source": [
    "plt.hist(data.pm2_5,range=(0,1000)) #pm2_5"
   ]
  },
  {
   "cell_type": "markdown",
   "metadata": {
    "colab_type": "text",
    "id": "h84FZoI_5_hL"
   },
   "source": [
    "CONCLUSION: NO POTENTIAL OUTLIERS"
   ]
  },
  {
   "cell_type": "markdown",
   "metadata": {
    "colab_type": "text",
    "id": "wVOMDr3x5_hR"
   },
   "source": [
    "# FILL MISSING VALUES BY MEAN (GROUP BY STATE)"
   ]
  },
  {
   "cell_type": "code",
   "execution_count": 29,
   "metadata": {
    "colab": {},
    "colab_type": "code",
    "id": "E70U2n5D5_hU"
   },
   "outputs": [],
   "source": [
    "grp_state = data.groupby('state')"
   ]
  },
  {
   "cell_type": "code",
   "execution_count": 30,
   "metadata": {
    "colab": {},
    "colab_type": "code",
    "id": "CNHFmgB75_hZ"
   },
   "outputs": [],
   "source": [
    "def impute_mean_by_state(series):\n",
    "    return series.fillna(series.mean()) "
   ]
  },
  {
   "cell_type": "code",
   "execution_count": 31,
   "metadata": {
    "colab": {},
    "colab_type": "code",
    "id": "K_95nJ145_hj"
   },
   "outputs": [],
   "source": [
    "data['rspm']=grp_state['rspm'].transform(impute_mean_by_state)  #fill value with mean value group by state\n",
    "data['so2']=grp_state['so2'].transform(impute_mean_by_state)\n",
    "data['no2']=grp_state['no2'].transform(impute_mean_by_state)\n",
    "data['spm']=grp_state['spm'].transform(impute_mean_by_state)\n",
    "data['pm2_5']=grp_state['pm2_5'].transform(impute_mean_by_state)"
   ]
  },
  {
   "cell_type": "code",
   "execution_count": 32,
   "metadata": {
    "colab": {
     "base_uri": "https://localhost:8080/",
     "height": 297
    },
    "colab_type": "code",
    "id": "uHNWAZIb5_ho",
    "outputId": "6d4f2cdc-32ff-47f3-81bd-ca0f1090ae9c"
   },
   "outputs": [
    {
     "data": {
      "text/html": [
       "<div>\n",
       "<style scoped>\n",
       "    .dataframe tbody tr th:only-of-type {\n",
       "        vertical-align: middle;\n",
       "    }\n",
       "\n",
       "    .dataframe tbody tr th {\n",
       "        vertical-align: top;\n",
       "    }\n",
       "\n",
       "    .dataframe thead th {\n",
       "        text-align: right;\n",
       "    }\n",
       "</style>\n",
       "<table border=\"1\" class=\"dataframe\">\n",
       "  <thead>\n",
       "    <tr style=\"text-align: right;\">\n",
       "      <th></th>\n",
       "      <th>so2</th>\n",
       "      <th>no2</th>\n",
       "      <th>rspm</th>\n",
       "      <th>spm</th>\n",
       "      <th>pm2_5</th>\n",
       "    </tr>\n",
       "  </thead>\n",
       "  <tbody>\n",
       "    <tr>\n",
       "      <th>count</th>\n",
       "      <td>435739.000000</td>\n",
       "      <td>435739.000000</td>\n",
       "      <td>435739.000000</td>\n",
       "      <td>431671.000000</td>\n",
       "      <td>123689.000000</td>\n",
       "    </tr>\n",
       "    <tr>\n",
       "      <th>mean</th>\n",
       "      <td>10.589141</td>\n",
       "      <td>25.663170</td>\n",
       "      <td>109.680907</td>\n",
       "      <td>215.198748</td>\n",
       "      <td>48.317274</td>\n",
       "    </tr>\n",
       "    <tr>\n",
       "      <th>std</th>\n",
       "      <td>10.863679</td>\n",
       "      <td>18.271145</td>\n",
       "      <td>72.519399</td>\n",
       "      <td>117.470157</td>\n",
       "      <td>21.455206</td>\n",
       "    </tr>\n",
       "    <tr>\n",
       "      <th>min</th>\n",
       "      <td>0.000000</td>\n",
       "      <td>0.000000</td>\n",
       "      <td>0.000000</td>\n",
       "      <td>0.000000</td>\n",
       "      <td>3.000000</td>\n",
       "    </tr>\n",
       "    <tr>\n",
       "      <th>25%</th>\n",
       "      <td>4.800000</td>\n",
       "      <td>14.000000</td>\n",
       "      <td>59.000000</td>\n",
       "      <td>142.000000</td>\n",
       "      <td>30.729696</td>\n",
       "    </tr>\n",
       "    <tr>\n",
       "      <th>50%</th>\n",
       "      <td>8.000000</td>\n",
       "      <td>21.800000</td>\n",
       "      <td>93.000000</td>\n",
       "      <td>205.255823</td>\n",
       "      <td>42.204089</td>\n",
       "    </tr>\n",
       "    <tr>\n",
       "      <th>75%</th>\n",
       "      <td>13.000000</td>\n",
       "      <td>32.000000</td>\n",
       "      <td>142.016832</td>\n",
       "      <td>248.000000</td>\n",
       "      <td>64.890625</td>\n",
       "    </tr>\n",
       "    <tr>\n",
       "      <th>max</th>\n",
       "      <td>909.000000</td>\n",
       "      <td>876.000000</td>\n",
       "      <td>6307.033333</td>\n",
       "      <td>3380.000000</td>\n",
       "      <td>504.000000</td>\n",
       "    </tr>\n",
       "  </tbody>\n",
       "</table>\n",
       "</div>"
      ],
      "text/plain": [
       "                 so2            no2           rspm            spm  \\\n",
       "count  435739.000000  435739.000000  435739.000000  431671.000000   \n",
       "mean       10.589141      25.663170     109.680907     215.198748   \n",
       "std        10.863679      18.271145      72.519399     117.470157   \n",
       "min         0.000000       0.000000       0.000000       0.000000   \n",
       "25%         4.800000      14.000000      59.000000     142.000000   \n",
       "50%         8.000000      21.800000      93.000000     205.255823   \n",
       "75%        13.000000      32.000000     142.016832     248.000000   \n",
       "max       909.000000     876.000000    6307.033333    3380.000000   \n",
       "\n",
       "               pm2_5  \n",
       "count  123689.000000  \n",
       "mean       48.317274  \n",
       "std        21.455206  \n",
       "min         3.000000  \n",
       "25%        30.729696  \n",
       "50%        42.204089  \n",
       "75%        64.890625  \n",
       "max       504.000000  "
      ]
     },
     "execution_count": 32,
     "metadata": {},
     "output_type": "execute_result"
    }
   ],
   "source": [
    "data.describe()"
   ]
  },
  {
   "cell_type": "code",
   "execution_count": 31,
   "metadata": {
    "colab": {
     "base_uri": "https://localhost:8080/",
     "height": 187
    },
    "colab_type": "code",
    "id": "ipA0Y3kK5_hz",
    "outputId": "757c8ddd-f51e-4760-c6f6-a68c29f7186e"
   },
   "outputs": [
    {
     "data": {
      "text/plain": [
       "state            0\n",
       "location         0\n",
       "type          3945\n",
       "so2              0\n",
       "no2              0\n",
       "rspm             0\n",
       "spm             90\n",
       "pm2_5       230169\n",
       "date             5\n",
       "dtype: int64"
      ]
     },
     "execution_count": 31,
     "metadata": {
      "tags": []
     },
     "output_type": "execute_result"
    }
   ],
   "source": [
    "data.isna().sum() #some null value remains since some state have one value(i.e NaN only) and no mean to replace them"
   ]
  },
  {
   "cell_type": "markdown",
   "metadata": {
    "colab_type": "text",
    "id": "nUGlX8nO5_h2"
   },
   "source": [
    "# Data Distribution after Replacing Null value with mean"
   ]
  },
  {
   "cell_type": "code",
   "execution_count": 32,
   "metadata": {
    "colab": {
     "base_uri": "https://localhost:8080/",
     "height": 350
    },
    "colab_type": "code",
    "id": "Dd-7G56i5_h3",
    "outputId": "600bc296-922b-4c6f-befa-46dfef188514"
   },
   "outputs": [
    {
     "data": {
      "text/plain": [
       "(array([3.06552e+05, 2.59000e+02, 8.00000e+00, 0.00000e+00, 0.00000e+00,\n",
       "        1.00000e+00, 0.00000e+00, 0.00000e+00, 0.00000e+00, 0.00000e+00]),\n",
       " array([   0.,  100.,  200.,  300.,  400.,  500.,  600.,  700.,  800.,\n",
       "         900., 1000.]),\n",
       " <a list of 10 Patch objects>)"
      ]
     },
     "execution_count": 32,
     "metadata": {
      "tags": []
     },
     "output_type": "execute_result"
    },
    {
     "data": {
      "image/png": "[encoded data removed]",
      "text/plain": [
       "<Figure size 432x288 with 1 Axes>"
      ]
     },
     "metadata": {
      "tags": []
     },
     "output_type": "display_data"
    }
   ],
   "source": [
    "plt.hist(data.so2,range=(0,1000))"
   ]
  },
  {
   "cell_type": "code",
   "execution_count": 33,
   "metadata": {
    "colab": {
     "base_uri": "https://localhost:8080/",
     "height": 350
    },
    "colab_type": "code",
    "id": "duiHdgdd5_h7",
    "outputId": "943693f0-2272-4644-9cc8-688e232db752"
   },
   "outputs": [
    {
     "data": {
      "text/plain": [
       "(array([3.06765e+05, 5.50000e+01, 0.00000e+00, 0.00000e+00, 0.00000e+00,\n",
       "        0.00000e+00, 0.00000e+00, 0.00000e+00, 0.00000e+00, 0.00000e+00]),\n",
       " array([   0.,  700., 1400., 2100., 2800., 3500., 4200., 4900., 5600.,\n",
       "        6300., 7000.]),\n",
       " <a list of 10 Patch objects>)"
      ]
     },
     "execution_count": 33,
     "metadata": {
      "tags": []
     },
     "output_type": "execute_result"
    },
    {
     "data": {
      "image/png": "[encoded data removed]",
      "text/plain": [
       "<Figure size 432x288 with 1 Axes>"
      ]
     },
     "metadata": {
      "tags": []
     },
     "output_type": "display_data"
    }
   ],
   "source": [
    "plt.hist(data.rspm,range=(0,7000))"
   ]
  },
  {
   "cell_type": "code",
   "execution_count": 34,
   "metadata": {
    "colab": {
     "base_uri": "https://localhost:8080/",
     "height": 350
    },
    "colab_type": "code",
    "id": "ummOlz8L5_h_",
    "outputId": "559215ac-5b6a-47c3-85b1-dcf21b9da00f"
   },
   "outputs": [
    {
     "data": {
      "text/plain": [
       "(array([3.05608e+05, 1.18400e+03, 2.30000e+01, 2.00000e+00, 0.00000e+00,\n",
       "        1.00000e+00, 2.00000e+00, 0.00000e+00, 0.00000e+00, 0.00000e+00]),\n",
       " array([   0.,  100.,  200.,  300.,  400.,  500.,  600.,  700.,  800.,\n",
       "         900., 1000.]),\n",
       " <a list of 10 Patch objects>)"
      ]
     },
     "execution_count": 34,
     "metadata": {
      "tags": []
     },
     "output_type": "execute_result"
    },
    {
     "data": {
      "image/png": "[encoded data removed]",
      "text/plain": [
       "<Figure size 432x288 with 1 Axes>"
      ]
     },
     "metadata": {
      "tags": []
     },
     "output_type": "display_data"
    }
   ],
   "source": [
    "plt.hist(data.no2,range=(0.0,1000))"
   ]
  },
  {
   "cell_type": "code",
   "execution_count": 35,
   "metadata": {
    "colab": {
     "base_uri": "https://localhost:8080/",
     "height": 418
    },
    "colab_type": "code",
    "id": "3E6Ph28D5_iE",
    "outputId": "6b42559a-fd01-446f-b7de-06b1a1030b60"
   },
   "outputs": [
    {
     "name": "stderr",
     "output_type": "stream",
     "text": [
      "/usr/local/lib/python3.6/dist-packages/numpy/lib/histograms.py:839: RuntimeWarning: invalid value encountered in greater_equal\n",
      "  keep = (tmp_a >= first_edge)\n",
      "/usr/local/lib/python3.6/dist-packages/numpy/lib/histograms.py:840: RuntimeWarning: invalid value encountered in less_equal\n",
      "  keep &= (tmp_a <= last_edge)\n"
     ]
    },
    {
     "data": {
      "text/plain": [
       "(array([2.98009e+05, 8.20900e+03, 4.67000e+02, 3.70000e+01, 7.00000e+00,\n",
       "        1.00000e+00, 0.00000e+00, 0.00000e+00, 0.00000e+00, 0.00000e+00]),\n",
       " array([   0.,  400.,  800., 1200., 1600., 2000., 2400., 2800., 3200.,\n",
       "        3600., 4000.]),\n",
       " <a list of 10 Patch objects>)"
      ]
     },
     "execution_count": 35,
     "metadata": {
      "tags": []
     },
     "output_type": "execute_result"
    },
    {
     "data": {
      "image/png": "[encoded data removed]",
      "text/plain": [
       "<Figure size 432x288 with 1 Axes>"
      ]
     },
     "metadata": {
      "tags": []
     },
     "output_type": "display_data"
    }
   ],
   "source": [
    "plt.hist(data.spm,range=(0.0,4000)) #spm"
   ]
  },
  {
   "cell_type": "code",
   "execution_count": 36,
   "metadata": {
    "colab": {
     "base_uri": "https://localhost:8080/",
     "height": 359
    },
    "colab_type": "code",
    "id": "icrYZxbq5_iQ",
    "outputId": "e2fba854-5bf5-4da5-e551-0aa03e6b3e2c"
   },
   "outputs": [
    {
     "data": {
      "text/html": [
       "<div>\n",
       "<style scoped>\n",
       "    .dataframe tbody tr th:only-of-type {\n",
       "        vertical-align: middle;\n",
       "    }\n",
       "\n",
       "    .dataframe tbody tr th {\n",
       "        vertical-align: top;\n",
       "    }\n",
       "\n",
       "    .dataframe thead th {\n",
       "        text-align: right;\n",
       "    }\n",
       "</style>\n",
       "<table border=\"1\" class=\"dataframe\">\n",
       "  <thead>\n",
       "    <tr style=\"text-align: right;\">\n",
       "      <th></th>\n",
       "      <th>state</th>\n",
       "      <th>location</th>\n",
       "      <th>type</th>\n",
       "      <th>so2</th>\n",
       "      <th>no2</th>\n",
       "      <th>rspm</th>\n",
       "      <th>spm</th>\n",
       "      <th>pm2_5</th>\n",
       "      <th>date</th>\n",
       "    </tr>\n",
       "  </thead>\n",
       "  <tbody>\n",
       "    <tr>\n",
       "      <th>306810</th>\n",
       "      <td>Punjab</td>\n",
       "      <td>Khanna</td>\n",
       "      <td>Industrial Area</td>\n",
       "      <td>12.700000</td>\n",
       "      <td>33.000000</td>\n",
       "      <td>314.000000</td>\n",
       "      <td>244.955519</td>\n",
       "      <td>NaN</td>\n",
       "      <td>2011-04-28</td>\n",
       "    </tr>\n",
       "    <tr>\n",
       "      <th>306811</th>\n",
       "      <td>Punjab</td>\n",
       "      <td>Khanna</td>\n",
       "      <td>Industrial Area</td>\n",
       "      <td>11.500000</td>\n",
       "      <td>30.200000</td>\n",
       "      <td>259.000000</td>\n",
       "      <td>244.955519</td>\n",
       "      <td>NaN</td>\n",
       "      <td>2011-04-30</td>\n",
       "    </tr>\n",
       "    <tr>\n",
       "      <th>306812</th>\n",
       "      <td>Punjab</td>\n",
       "      <td>Khanna</td>\n",
       "      <td>Industrial Area</td>\n",
       "      <td>13.300000</td>\n",
       "      <td>33.000000</td>\n",
       "      <td>269.000000</td>\n",
       "      <td>244.955519</td>\n",
       "      <td>NaN</td>\n",
       "      <td>2011-03-05</td>\n",
       "    </tr>\n",
       "    <tr>\n",
       "      <th>306813</th>\n",
       "      <td>Punjab</td>\n",
       "      <td>Khanna</td>\n",
       "      <td>Industrial Area</td>\n",
       "      <td>13.300000</td>\n",
       "      <td>30.300000</td>\n",
       "      <td>265.000000</td>\n",
       "      <td>244.955519</td>\n",
       "      <td>NaN</td>\n",
       "      <td>2011-05-05</td>\n",
       "    </tr>\n",
       "    <tr>\n",
       "      <th>306814</th>\n",
       "      <td>Punjab</td>\n",
       "      <td>Khanna</td>\n",
       "      <td>Industrial Area</td>\n",
       "      <td>12.000000</td>\n",
       "      <td>31.000000</td>\n",
       "      <td>244.000000</td>\n",
       "      <td>244.955519</td>\n",
       "      <td>NaN</td>\n",
       "      <td>2011-07-05</td>\n",
       "    </tr>\n",
       "    <tr>\n",
       "      <th>306815</th>\n",
       "      <td>Punjab</td>\n",
       "      <td>Khanna</td>\n",
       "      <td>Industrial Area</td>\n",
       "      <td>10.500000</td>\n",
       "      <td>31.500000</td>\n",
       "      <td>277.000000</td>\n",
       "      <td>244.955519</td>\n",
       "      <td>NaN</td>\n",
       "      <td>2011-10-05</td>\n",
       "    </tr>\n",
       "    <tr>\n",
       "      <th>306816</th>\n",
       "      <td>Punjab</td>\n",
       "      <td>Khanna</td>\n",
       "      <td>Industrial Area</td>\n",
       "      <td>11.300000</td>\n",
       "      <td>29.800000</td>\n",
       "      <td>245.000000</td>\n",
       "      <td>244.955519</td>\n",
       "      <td>NaN</td>\n",
       "      <td>2011-12-05</td>\n",
       "    </tr>\n",
       "    <tr>\n",
       "      <th>306817</th>\n",
       "      <td>Punjab</td>\n",
       "      <td>Khanna</td>\n",
       "      <td>Industrial Area</td>\n",
       "      <td>11.500000</td>\n",
       "      <td>31.000000</td>\n",
       "      <td>272.000000</td>\n",
       "      <td>244.955519</td>\n",
       "      <td>NaN</td>\n",
       "      <td>2011-05-14</td>\n",
       "    </tr>\n",
       "    <tr>\n",
       "      <th>306818</th>\n",
       "      <td>Punjab</td>\n",
       "      <td>Khanna</td>\n",
       "      <td>Industrial Area</td>\n",
       "      <td>11.500000</td>\n",
       "      <td>31.500000</td>\n",
       "      <td>215.000000</td>\n",
       "      <td>244.955519</td>\n",
       "      <td>NaN</td>\n",
       "      <td>2011-05-17</td>\n",
       "    </tr>\n",
       "    <tr>\n",
       "      <th>306819</th>\n",
       "      <td>Punjab</td>\n",
       "      <td>Kh</td>\n",
       "      <td>NaN</td>\n",
       "      <td>11.687963</td>\n",
       "      <td>30.947417</td>\n",
       "      <td>204.160109</td>\n",
       "      <td>244.955519</td>\n",
       "      <td>NaN</td>\n",
       "      <td>NaN</td>\n",
       "    </tr>\n",
       "  </tbody>\n",
       "</table>\n",
       "</div>"
      ],
      "text/plain": [
       "         state location             type  ...         spm  pm2_5        date\n",
       "306810  Punjab   Khanna  Industrial Area  ...  244.955519    NaN  2011-04-28\n",
       "306811  Punjab   Khanna  Industrial Area  ...  244.955519    NaN  2011-04-30\n",
       "306812  Punjab   Khanna  Industrial Area  ...  244.955519    NaN  2011-03-05\n",
       "306813  Punjab   Khanna  Industrial Area  ...  244.955519    NaN  2011-05-05\n",
       "306814  Punjab   Khanna  Industrial Area  ...  244.955519    NaN  2011-07-05\n",
       "306815  Punjab   Khanna  Industrial Area  ...  244.955519    NaN  2011-10-05\n",
       "306816  Punjab   Khanna  Industrial Area  ...  244.955519    NaN  2011-12-05\n",
       "306817  Punjab   Khanna  Industrial Area  ...  244.955519    NaN  2011-05-14\n",
       "306818  Punjab   Khanna  Industrial Area  ...  244.955519    NaN  2011-05-17\n",
       "306819  Punjab       Kh              NaN  ...  244.955519    NaN         NaN\n",
       "\n",
       "[10 rows x 9 columns]"
      ]
     },
     "execution_count": 36,
     "metadata": {
      "tags": []
     },
     "output_type": "execute_result"
    }
   ],
   "source": [
    "data.tail(10)"
   ]
  },
  {
   "cell_type": "markdown",
   "metadata": {
    "colab_type": "text",
    "id": "4CjI0T81HDKG"
   },
   "source": []
  },
  {
   "cell_type": "markdown",
   "metadata": {
    "colab_type": "text",
    "id": "-kPoHYYz6_oU"
   },
   "source": [
    "<img src=\"images/no2emmision.png\" alt=\"Drawing\" style=\"width: 300px;\" align=\"right\"/>\n",
    "\n",
    "**NO2 :** Nitrogen dioxide is a nasty-smelling gas. Some nitrogen dioxide is formed naturally in the atmosphere by lightning and some is produced by plants, soil and water. However, only about 1% of the total amount of nitrogen dioxide found in our cities' air is formed this way.\n",
    "\n",
    "Nitrogen dioxide is an important air pollutant because it contributes to the formation of photochemical smog, which can have significant impacts on human health.\n",
    "\n",
    "The major source of nitrogen dioxide in is the burning of fossil fuels: coal, oil and gas.\n",
    "\n",
    "The main effect of breathing in raised levels of nitrogen dioxide is the increased likelihood of respiratory problems. Nitrogen dioxide inflames the lining of the lungs, and it can reduce immunity to lung infections. This can cause problems such as wheezing, coughing, colds, flu and bronchitis.\n",
    "\n",
    "Increased levels of nitrogen dioxide can have significant impacts on people with asthma because it can cause more frequent and more intense attacks. Children with asthma and older people with heart disease are most at risk."
   ]
  },
  {
   "cell_type": "code",
   "execution_count": 33,
   "metadata": {
    "colab": {
     "base_uri": "https://localhost:8080/",
     "height": 449
    },
    "colab_type": "code",
    "id": "W4ikgFHSG8Ec",
    "outputId": "d2b5f47b-c463-41d4-f38e-a1ce2cd2f3e0"
   },
   "outputs": [
    {
     "data": {
      "image/png": "[encoded data removed]",
      "text/plain": [
       "<Figure size 1080x360 with 2 Axes>"
      ]
     },
     "metadata": {
      "needs_background": "light"
     },
     "output_type": "display_data"
    }
   ],
   "source": [
    "fig, axarr = plt.subplots(1, 2, squeeze=False, figsize=(15,5))\n",
    "\n",
    "data[['state','no2']].groupby('state').mean().sort_values(by='no2',ascending=False).head().plot(kind='bar',\n",
    "                                                                                              ax=axarr[0][0],\n",
    "                                                                                              color='red',\n",
    "                                                                                              title='states with highest no2 emmision',\n",
    "                                                                                              yticks=range(0,61,10),\n",
    "                                                                                              legend=False)\n",
    "\n",
    "data[['state','no2']].groupby('state').mean().sort_values(by='no2',ascending=False).tail().plot(kind='bar',\n",
    "                                                                                              ax=axarr[0][1],\n",
    "                                                                                              color='green',\n",
    "                                                                                              title='states with lowest no2 emmision',\n",
    "                                                                                              yticks=range(0,61,10),\n",
    "                                                                                              legend=False)\n",
    "plt.show()"
   ]
  },
  {
   "cell_type": "markdown",
   "metadata": {
    "colab_type": "text",
    "id": "BCG5JDLtHKNY"
   },
   "source": [
    "# SO2 : Sulfur dioxide is a gas. It is invisible and has a nasty, sharp smell. It reacts easily with other substances to form harmful compounds, such as sulfuric acid, sulfurous acid and sulfate particles."
   ]
  },
  {
   "cell_type": "code",
   "execution_count": 34,
   "metadata": {
    "colab": {
     "base_uri": "https://localhost:8080/",
     "height": 449
    },
    "colab_type": "code",
    "id": "NRdq6FyqG8RK",
    "outputId": "1a24b2e4-08ad-4817-dcd0-a67d76c69016"
   },
   "outputs": [
    {
     "data": {
      "image/png": "[encoded data removed]",
      "text/plain": [
       "<Figure size 1080x360 with 2 Axes>"
      ]
     },
     "metadata": {
      "needs_background": "light"
     },
     "output_type": "display_data"
    }
   ],
   "source": [
    "fig, axarr = plt.subplots(1, 2, squeeze=False, figsize=(15,5))\n",
    "\n",
    "data[['state','so2']].groupby('state').mean().sort_values(by='so2',ascending=False).head().plot(kind='bar',\n",
    "                                                                                              ax=axarr[0][0],\n",
    "                                                                                              color='red',\n",
    "                                                                                              title='states with highest so2 emmision',\n",
    "                                                                                              yticks=range(0,25,4),\n",
    "                                                                                              legend=False)\n",
    "\n",
    "data[['state','so2']].groupby('state').mean().sort_values(by='so2',ascending=False).tail().plot(kind='bar',\n",
    "                                                                                              ax=axarr[0][1],\n",
    "                                                                                              color='green',\n",
    "                                                                                              title='states with lowest so2 emmision',\n",
    "                                                                                              yticks=range(0,25,4),\n",
    "                                                                                              legend=False)\n",
    "plt.show()"
   ]
  },
  {
   "cell_type": "markdown",
   "metadata": {
    "colab_type": "text",
    "id": "bE8KGAfyIWtW"
   },
   "source": [
    "RSPM(Respirable Suspended Particulate Matter) : RSPM is that fraction of TSPM which is readily inhaled by humans through their respiratory system and in general, considered as particulate matter with their diameter (aerodynamic) less than 2.5 micrometers. Larger particles would be filtered in the nasal duct.\n",
    "\n",
    "(TSPM: Stands for Total Suspended Particulate Matter and would essentially be the concentration one would get when a high-volume bulk sampling is done on a filter substrate.)"
   ]
  },
  {
   "cell_type": "code",
   "execution_count": 35,
   "metadata": {
    "colab": {
     "base_uri": "https://localhost:8080/",
     "height": 449
    },
    "colab_type": "code",
    "id": "7SVvkErOIYCB",
    "outputId": "1e9e3688-81fb-477a-cd13-87da4e7183ec"
   },
   "outputs": [
    {
     "data": {
      "image/png": "[encoded data removed]",
      "text/plain": [
       "<Figure size 1080x360 with 2 Axes>"
      ]
     },
     "metadata": {
      "needs_background": "light"
     },
     "output_type": "display_data"
    }
   ],
   "source": [
    "fig, axarr = plt.subplots(1, 2, squeeze=False, figsize=(15,5))\n",
    "\n",
    "data[['state','rspm']].groupby('state').mean().sort_values(by='rspm',ascending=False).head().plot(kind='bar',\n",
    "                                                                                              ax=axarr[0][0],\n",
    "                                                                                              color='red',\n",
    "                                                                                              title='states with highest rspm emmision',\n",
    "                                                                                              yticks=range(0,250,50),\n",
    "                                                                                              legend=False)\n",
    "\n",
    "data[['state','rspm']].groupby('state').mean().sort_values(by='rspm',ascending=False).tail().plot(kind='bar',\n",
    "                                                                                              ax=axarr[0][1],\n",
    "                                                                                              color='green',\n",
    "                                                                                              title='states with lowest rspm emmision',\n",
    "                                                                                              yticks=range(0,250,50),\n",
    "                                                                                              legend=False)\n",
    "plt.show()"
   ]
  },
  {
   "cell_type": "markdown",
   "metadata": {
    "colab_type": "text",
    "id": "JsSrmFhYI0xV"
   },
   "source": [
    "PM 2.5 : Fine particulate matter (PM2.5) is an air pollutant that is a concern for people's health when levels in air are high. PM2.5 are tiny particles in the air that reduce visibility and cause the air to appear hazy when levels are elevated. Outdoor PM2.5 levels are most likely to be elevated on days with little or no wind or air mixing"
   ]
  },
  {
   "cell_type": "code",
   "execution_count": 36,
   "metadata": {
    "colab": {
     "base_uri": "https://localhost:8080/",
     "height": 449
    },
    "colab_type": "code",
    "id": "yaoc_vheI2H-",
    "outputId": "5ae19428-94ce-47ef-c7f5-17affa166839"
   },
   "outputs": [
    {
     "data": {
      "image/png": "[encoded data removed]",
      "text/plain": [
       "<Figure size 1080x360 with 2 Axes>"
      ]
     },
     "metadata": {
      "needs_background": "light"
     },
     "output_type": "display_data"
    }
   ],
   "source": [
    "fig, axarr = plt.subplots(1, 2, squeeze=False, figsize=(15,5))\n",
    "\n",
    "data[['state','pm2_5']].groupby('state').mean().sort_values(by='pm2_5',ascending=False).head().plot(kind='bar',\n",
    "                                                                                              ax=axarr[0][0],\n",
    "                                                                                              color='red',\n",
    "                                                                                              title='states with highest pm2_5 emmision',\n",
    "                                                                                              yticks=range(0,50,5),\n",
    "                                                                                              legend=False)\n",
    "\n",
    "data[['state','pm2_5']].groupby('state').mean().sort_values(by='pm2_5',ascending=False).tail().plot(kind='bar',\n",
    "                                                                                              ax=axarr[0][1],\n",
    "                                                                                              color='green',\n",
    "                                                                                              title='states with lowest pm2_5 emmision',\n",
    "                                                                                              yticks=range(0,50,5),\n",
    "                                                                                              legend=False)\n",
    "plt.show()"
   ]
  },
  {
   "cell_type": "code",
   "execution_count": null,
   "metadata": {
    "colab": {},
    "colab_type": "code",
    "id": "Cr_3zxXLG8ga"
   },
   "outputs": [],
   "source": []
  },
  {
   "cell_type": "code",
   "execution_count": 37,
   "metadata": {
    "colab": {
     "base_uri": "https://localhost:8080/",
     "height": 922
    },
    "colab_type": "code",
    "id": "o8wmi3_QGMyc",
    "outputId": "8744f532-195f-4ea5-d148-d3740fcbf6b9"
   },
   "outputs": [
    {
     "data": {
      "text/plain": [
       "<seaborn.axisgrid.PairGrid at 0x7f3533318310>"
      ]
     },
     "execution_count": 37,
     "metadata": {},
     "output_type": "execute_result"
    },
    {
     "data": {
      "image/png": "[encoded data removed]",
      "text/plain": [
       "<Figure size 900x900 with 30 Axes>"
      ]
     },
     "metadata": {
      "needs_background": "light"
     },
     "output_type": "display_data"
    }
   ],
   "source": [
    "sns.pairplot(data[['so2','no2','rspm','spm','pm2_5']])"
   ]
  },
  {
   "cell_type": "code",
   "execution_count": 117,
   "metadata": {
    "colab": {
     "base_uri": "https://localhost:8080/",
     "height": 287
    },
    "colab_type": "code",
    "id": "RJBFvqWmJN0U",
    "outputId": "08b53a22-295c-4e79-a1cd-67da754887b6"
   },
   "outputs": [
    {
     "data": {
      "text/plain": [
       "<matplotlib.axes._subplots.AxesSubplot at 0x7fe5201d5e80>"
      ]
     },
     "execution_count": 117,
     "metadata": {
      "tags": []
     },
     "output_type": "execute_result"
    },
    {
     "data": {
      "image/png": "[encoded data removed]",
      "text/plain": [
       "<Figure size 432x288 with 2 Axes>"
      ]
     },
     "metadata": {
      "tags": []
     },
     "output_type": "display_data"
    }
   ],
   "source": [
    "sns.heatmap(data.loc[:, ['state','so2', 'no2', 'rspm', 'spm', 'pm2_5']].corr(), annot=True)"
   ]
  },
  {
   "cell_type": "markdown",
   "metadata": {
    "colab_type": "text",
    "id": "UG0OoP7tJSUW"
   },
   "source": [
    "**from this we can infere that :**<br>\n",
    "-  **SO2 conc.**<br>\n",
    "\n",
    "```\n",
    "-  is higher in areas with higher NO2 concentrations.\n",
    "-  RSPM & SPM have also have some effects on the increase concentration levels of SO2\n",
    "-  SO2 conc. show no change with increased conc. of pm2.5\n",
    "```\n",
    "-  **NO2 conc.**<br>\n",
    "\n",
    "```\n",
    "-  conc. of NO2 increases with increase in the amt. of SO2 in atmosphere\n",
    "-  conc. of NO2 is higher when conc. of RSPM/SPM is low.\n",
    "```\n",
    "\n",
    "-  **SPM conc.**<br>\n",
    "\n",
    "```\n",
    "-  SPM shows decreasing concentrations with increasing conc of NO2 or SO2\n",
    "```\n",
    "-  **pm2.5 conc.**<br>\n",
    "\n",
    "```\n",
    "-  Shows somewhat independent nature.\n",
    "```"
   ]
  },
  {
   "cell_type": "markdown",
   "metadata": {
    "colab_type": "text",
    "id": "iwfn_2Fr5_iz"
   },
   "source": [
    "# CALCULATE AIR QUALITY INDEX FOR SO2 BASED ON FORMULA\n",
    "\n",
    "The air quality index is a piecewise linear function of the pollutant concentration. At the boundary between AQI categories, there is a discontinuous jump of one AQI unit. To convert from concentration to AQI the following equation is used\n",
    "\\begin{equation*}\n",
    "I = I_{low} +  \\frac{I_{high}-I_{low}}{C_{high}-C_{low}}{(C-C_{low})}\n",
    "\\end{equation*}\n",
    "\n"
   ]
  },
  {
   "cell_type": "markdown",
   "metadata": {
    "colab_type": "text",
    "id": "qAMAiku75_i-"
   },
   "source": [
    "**What is sulfur dioxide?**\n",
    "\n",
    "Sulfur dioxide is a gas. It is invisible and has a nasty, sharp smell. It reacts easily with other substances to form harmful compounds, such as sulfuric acid, sulfurous acid and sulfate particles.\n",
    "\n",
    "About 99% of the sulfur dioxide in air comes from human sources. The main source of sulfur dioxide in the air is industrial activity that processes materials that contain sulfur, eg the generation of electricity from coal, oil or gas that contains sulfur. Some mineral ores also contain sulfur, and sulfur dioxide is released when they are processed. In addition, industrial activities that burn fossil fuels containing sulfur can be important sources of sulfur dioxide.\n",
    "\n",
    "Sulfur dioxide is also present in motor vehicle emissions, as the result of fuel combustion. In the past, motor vehicle exhaust was an important, but not the main, source of sulfur dioxide in air. However, this is no longer the case."
   ]
  },
  {
   "cell_type": "code",
   "execution_count": 37,
   "metadata": {
    "colab": {
     "base_uri": "https://localhost:8080/",
     "height": 204
    },
    "colab_type": "code",
    "id": "5KVmoscH5_jC",
    "outputId": "68999515-179b-4023-88f3-d1f59b380945"
   },
   "outputs": [
    {
     "data": {
      "text/html": [
       "<div>\n",
       "<style scoped>\n",
       "    .dataframe tbody tr th:only-of-type {\n",
       "        vertical-align: middle;\n",
       "    }\n",
       "\n",
       "    .dataframe tbody tr th {\n",
       "        vertical-align: top;\n",
       "    }\n",
       "\n",
       "    .dataframe thead th {\n",
       "        text-align: right;\n",
       "    }\n",
       "</style>\n",
       "<table border=\"1\" class=\"dataframe\">\n",
       "  <thead>\n",
       "    <tr style=\"text-align: right;\">\n",
       "      <th></th>\n",
       "      <th>so2</th>\n",
       "      <th>SOi</th>\n",
       "    </tr>\n",
       "  </thead>\n",
       "  <tbody>\n",
       "    <tr>\n",
       "      <th>0</th>\n",
       "      <td>4.8</td>\n",
       "      <td>6.000</td>\n",
       "    </tr>\n",
       "    <tr>\n",
       "      <th>1</th>\n",
       "      <td>3.1</td>\n",
       "      <td>3.875</td>\n",
       "    </tr>\n",
       "    <tr>\n",
       "      <th>2</th>\n",
       "      <td>6.2</td>\n",
       "      <td>7.750</td>\n",
       "    </tr>\n",
       "    <tr>\n",
       "      <th>3</th>\n",
       "      <td>6.3</td>\n",
       "      <td>7.875</td>\n",
       "    </tr>\n",
       "    <tr>\n",
       "      <th>4</th>\n",
       "      <td>4.7</td>\n",
       "      <td>5.875</td>\n",
       "    </tr>\n",
       "  </tbody>\n",
       "</table>\n",
       "</div>"
      ],
      "text/plain": [
       "   so2    SOi\n",
       "0  4.8  6.000\n",
       "1  3.1  3.875\n",
       "2  6.2  7.750\n",
       "3  6.3  7.875\n",
       "4  4.7  5.875"
      ]
     },
     "execution_count": 37,
     "metadata": {
      "tags": []
     },
     "output_type": "execute_result"
    }
   ],
   "source": [
    "def cal_SOi(so2):\n",
    "    si=0\n",
    "    if (so2<=40):\n",
    "     si= so2*(50/40)\n",
    "    elif (so2>40 and so2<=80):\n",
    "     si= 50+(so2-40)*(50/40)\n",
    "    elif (so2>80 and so2<=380):\n",
    "     si= 100+(so2-80)*(100/300)\n",
    "    elif (so2>380 and so2<=800):\n",
    "     si= 200+(so2-380)*(100/420)\n",
    "    elif (so2>800 and so2<=1600):\n",
    "     si= 300+(so2-800)*(100/800)\n",
    "    elif (so2>1600):\n",
    "     si= 400+(so2-1600)*(100/800)\n",
    "    return si\n",
    "data['SOi']=data['so2'].apply(cal_SOi)\n",
    "df= data[['so2','SOi']]\n",
    "df.head()"
   ]
  },
  {
   "cell_type": "markdown",
   "metadata": {
    "colab_type": "text",
    "id": "7S3kNPHw5_jI"
   },
   "source": [
    "# CALCULATE  AIR QUALITY INDEX FOR NO2 BASED ON FORMULA"
   ]
  },
  {
   "cell_type": "code",
   "execution_count": 38,
   "metadata": {
    "colab": {
     "base_uri": "https://localhost:8080/",
     "height": 204
    },
    "colab_type": "code",
    "id": "W-MVY1b_5_jL",
    "outputId": "9ba2ce53-131b-4be0-a346-8b19a32d8106"
   },
   "outputs": [
    {
     "data": {
      "text/html": [
       "<div>\n",
       "<style scoped>\n",
       "    .dataframe tbody tr th:only-of-type {\n",
       "        vertical-align: middle;\n",
       "    }\n",
       "\n",
       "    .dataframe tbody tr th {\n",
       "        vertical-align: top;\n",
       "    }\n",
       "\n",
       "    .dataframe thead th {\n",
       "        text-align: right;\n",
       "    }\n",
       "</style>\n",
       "<table border=\"1\" class=\"dataframe\">\n",
       "  <thead>\n",
       "    <tr style=\"text-align: right;\">\n",
       "      <th></th>\n",
       "      <th>no2</th>\n",
       "      <th>Noi</th>\n",
       "    </tr>\n",
       "  </thead>\n",
       "  <tbody>\n",
       "    <tr>\n",
       "      <th>0</th>\n",
       "      <td>17.4</td>\n",
       "      <td>21.750</td>\n",
       "    </tr>\n",
       "    <tr>\n",
       "      <th>1</th>\n",
       "      <td>7.0</td>\n",
       "      <td>8.750</td>\n",
       "    </tr>\n",
       "    <tr>\n",
       "      <th>2</th>\n",
       "      <td>28.5</td>\n",
       "      <td>35.625</td>\n",
       "    </tr>\n",
       "    <tr>\n",
       "      <th>3</th>\n",
       "      <td>14.7</td>\n",
       "      <td>18.375</td>\n",
       "    </tr>\n",
       "    <tr>\n",
       "      <th>4</th>\n",
       "      <td>7.5</td>\n",
       "      <td>9.375</td>\n",
       "    </tr>\n",
       "  </tbody>\n",
       "</table>\n",
       "</div>"
      ],
      "text/plain": [
       "    no2     Noi\n",
       "0  17.4  21.750\n",
       "1   7.0   8.750\n",
       "2  28.5  35.625\n",
       "3  14.7  18.375\n",
       "4   7.5   9.375"
      ]
     },
     "execution_count": 38,
     "metadata": {
      "tags": []
     },
     "output_type": "execute_result"
    }
   ],
   "source": [
    "def cal_Noi(no2):\n",
    "    ni=0\n",
    "    if(no2<=40):\n",
    "     ni= no2*50/40\n",
    "    elif(no2>40 and no2<=80):\n",
    "     ni= 50+(no2-40)*(50/40)\n",
    "    elif(no2>80 and no2<=180):\n",
    "     ni= 100+(no2-80)*(100/100)\n",
    "    elif(no2>180 and no2<=280):\n",
    "     ni= 200+(no2-180)*(100/100)\n",
    "    elif(no2>280 and no2<=400):\n",
    "     ni= 300+(no2-280)*(100/120)\n",
    "    else:\n",
    "     ni= 400+(no2-400)*(100/120)\n",
    "    return ni\n",
    "data['Noi']=data['no2'].apply(cal_Noi)\n",
    "df= data[['no2','Noi']]\n",
    "df.head()"
   ]
  },
  {
   "cell_type": "markdown",
   "metadata": {
    "colab_type": "text",
    "id": "txCnxxYO5_jR"
   },
   "source": [
    "# CALCULATE  AIR QUALITY INDEX FOR RSPM BASED ON FORMULA"
   ]
  },
  {
   "cell_type": "code",
   "execution_count": 39,
   "metadata": {
    "colab": {
     "base_uri": "https://localhost:8080/",
     "height": 204
    },
    "colab_type": "code",
    "id": "PmFjnKYO5_jS",
    "outputId": "c1b032db-e0f3-4cf0-d498-06609e8a5e40"
   },
   "outputs": [
    {
     "data": {
      "text/html": [
       "<div>\n",
       "<style scoped>\n",
       "    .dataframe tbody tr th:only-of-type {\n",
       "        vertical-align: middle;\n",
       "    }\n",
       "\n",
       "    .dataframe tbody tr th {\n",
       "        vertical-align: top;\n",
       "    }\n",
       "\n",
       "    .dataframe thead th {\n",
       "        text-align: right;\n",
       "    }\n",
       "</style>\n",
       "<table border=\"1\" class=\"dataframe\">\n",
       "  <thead>\n",
       "    <tr style=\"text-align: right;\">\n",
       "      <th></th>\n",
       "      <th>rspm</th>\n",
       "      <th>RSPMi</th>\n",
       "    </tr>\n",
       "  </thead>\n",
       "  <tbody>\n",
       "    <tr>\n",
       "      <th>0</th>\n",
       "      <td>78.182824</td>\n",
       "      <td>78.182824</td>\n",
       "    </tr>\n",
       "    <tr>\n",
       "      <th>1</th>\n",
       "      <td>78.182824</td>\n",
       "      <td>78.182824</td>\n",
       "    </tr>\n",
       "    <tr>\n",
       "      <th>2</th>\n",
       "      <td>78.182824</td>\n",
       "      <td>78.182824</td>\n",
       "    </tr>\n",
       "    <tr>\n",
       "      <th>3</th>\n",
       "      <td>78.182824</td>\n",
       "      <td>78.182824</td>\n",
       "    </tr>\n",
       "    <tr>\n",
       "      <th>4</th>\n",
       "      <td>78.182824</td>\n",
       "      <td>78.182824</td>\n",
       "    </tr>\n",
       "  </tbody>\n",
       "</table>\n",
       "</div>"
      ],
      "text/plain": [
       "        rspm      RSPMi\n",
       "0  78.182824  78.182824\n",
       "1  78.182824  78.182824\n",
       "2  78.182824  78.182824\n",
       "3  78.182824  78.182824\n",
       "4  78.182824  78.182824"
      ]
     },
     "execution_count": 39,
     "metadata": {
      "tags": []
     },
     "output_type": "execute_result"
    }
   ],
   "source": [
    "def cal_RSPMi(rspm):\n",
    "    rpi=0\n",
    "    if(rspm<=100):\n",
    "     rpi = rspm\n",
    "    elif(rspm>=101 and rspm<=150):\n",
    "     rpi= 101+(rspm-101)*((200-101)/(150-101))\n",
    "    elif(rspm>=151 and rspm<=350):\n",
    "     ni= 201+(rspm-151)*((300-201)/(350-151))\n",
    "    elif(rspm>=351 and rspm<=420):\n",
    "     ni= 301+(rspm-351)*((400-301)/(420-351))\n",
    "    elif(rspm>420):\n",
    "     ni= 401+(rspm-420)*((500-401)/(420-351))\n",
    "    return rpi\n",
    "data['RSPMi']=data['rspm'].apply(cal_RSPMi)\n",
    "df= data[['rspm','RSPMi']]\n",
    "df.head()"
   ]
  },
  {
   "cell_type": "code",
   "execution_count": 40,
   "metadata": {
    "colab": {
     "base_uri": "https://localhost:8080/",
     "height": 204
    },
    "colab_type": "code",
    "id": "rpoGNERG5_jk",
    "outputId": "4379bbad-a622-4884-e7b4-0d9234ba37f8"
   },
   "outputs": [
    {
     "data": {
      "text/html": [
       "<div>\n",
       "<style scoped>\n",
       "    .dataframe tbody tr th:only-of-type {\n",
       "        vertical-align: middle;\n",
       "    }\n",
       "\n",
       "    .dataframe tbody tr th {\n",
       "        vertical-align: top;\n",
       "    }\n",
       "\n",
       "    .dataframe thead th {\n",
       "        text-align: right;\n",
       "    }\n",
       "</style>\n",
       "<table border=\"1\" class=\"dataframe\">\n",
       "  <thead>\n",
       "    <tr style=\"text-align: right;\">\n",
       "      <th></th>\n",
       "      <th>rspm</th>\n",
       "      <th>RSPMi</th>\n",
       "    </tr>\n",
       "  </thead>\n",
       "  <tbody>\n",
       "    <tr>\n",
       "      <th>306815</th>\n",
       "      <td>277.000000</td>\n",
       "      <td>0.0</td>\n",
       "    </tr>\n",
       "    <tr>\n",
       "      <th>306816</th>\n",
       "      <td>245.000000</td>\n",
       "      <td>0.0</td>\n",
       "    </tr>\n",
       "    <tr>\n",
       "      <th>306817</th>\n",
       "      <td>272.000000</td>\n",
       "      <td>0.0</td>\n",
       "    </tr>\n",
       "    <tr>\n",
       "      <th>306818</th>\n",
       "      <td>215.000000</td>\n",
       "      <td>0.0</td>\n",
       "    </tr>\n",
       "    <tr>\n",
       "      <th>306819</th>\n",
       "      <td>204.160109</td>\n",
       "      <td>0.0</td>\n",
       "    </tr>\n",
       "  </tbody>\n",
       "</table>\n",
       "</div>"
      ],
      "text/plain": [
       "              rspm  RSPMi\n",
       "306815  277.000000    0.0\n",
       "306816  245.000000    0.0\n",
       "306817  272.000000    0.0\n",
       "306818  215.000000    0.0\n",
       "306819  204.160109    0.0"
      ]
     },
     "execution_count": 40,
     "metadata": {
      "tags": []
     },
     "output_type": "execute_result"
    }
   ],
   "source": [
    "df.tail()"
   ]
  },
  {
   "cell_type": "markdown",
   "metadata": {
    "colab_type": "text",
    "id": "ne5riExW5_jz"
   },
   "source": [
    "# CALCULATE  AIR QUALITY INDEX FOR SPM BASED ON FORMULA"
   ]
  },
  {
   "cell_type": "code",
   "execution_count": 41,
   "metadata": {
    "colab": {
     "base_uri": "https://localhost:8080/",
     "height": 204
    },
    "colab_type": "code",
    "id": "z-jlUqit5_j2",
    "outputId": "e587bbc7-730a-4c4b-b3c4-763d5791fd30"
   },
   "outputs": [
    {
     "data": {
      "text/html": [
       "<div>\n",
       "<style scoped>\n",
       "    .dataframe tbody tr th:only-of-type {\n",
       "        vertical-align: middle;\n",
       "    }\n",
       "\n",
       "    .dataframe tbody tr th {\n",
       "        vertical-align: top;\n",
       "    }\n",
       "\n",
       "    .dataframe thead th {\n",
       "        text-align: right;\n",
       "    }\n",
       "</style>\n",
       "<table border=\"1\" class=\"dataframe\">\n",
       "  <thead>\n",
       "    <tr style=\"text-align: right;\">\n",
       "      <th></th>\n",
       "      <th>spm</th>\n",
       "      <th>SPMi</th>\n",
       "    </tr>\n",
       "  </thead>\n",
       "  <tbody>\n",
       "    <tr>\n",
       "      <th>0</th>\n",
       "      <td>200.260378</td>\n",
       "      <td>166.840252</td>\n",
       "    </tr>\n",
       "    <tr>\n",
       "      <th>1</th>\n",
       "      <td>200.260378</td>\n",
       "      <td>166.840252</td>\n",
       "    </tr>\n",
       "    <tr>\n",
       "      <th>2</th>\n",
       "      <td>200.260378</td>\n",
       "      <td>166.840252</td>\n",
       "    </tr>\n",
       "    <tr>\n",
       "      <th>3</th>\n",
       "      <td>200.260378</td>\n",
       "      <td>166.840252</td>\n",
       "    </tr>\n",
       "    <tr>\n",
       "      <th>4</th>\n",
       "      <td>200.260378</td>\n",
       "      <td>166.840252</td>\n",
       "    </tr>\n",
       "  </tbody>\n",
       "</table>\n",
       "</div>"
      ],
      "text/plain": [
       "          spm        SPMi\n",
       "0  200.260378  166.840252\n",
       "1  200.260378  166.840252\n",
       "2  200.260378  166.840252\n",
       "3  200.260378  166.840252\n",
       "4  200.260378  166.840252"
      ]
     },
     "execution_count": 41,
     "metadata": {
      "tags": []
     },
     "output_type": "execute_result"
    }
   ],
   "source": [
    "def cal_SPMi(spm):\n",
    "    spi=0\n",
    "    if(spm<=50):\n",
    "     spi=spm*50/50\n",
    "    elif(spm>50 and spm<=100):\n",
    "     spi=50+(spm-50)*(50/50)\n",
    "    elif(spm>100 and spm<=250):\n",
    "     spi= 100+(spm-100)*(100/150)\n",
    "    elif(spm>250 and spm<=350):\n",
    "     spi=200+(spm-250)*(100/100)\n",
    "    elif(spm>350 and spm<=430):\n",
    "     spi=300+(spm-350)*(100/80)\n",
    "    else:\n",
    "     spi=400+(spm-430)*(100/430)\n",
    "    return spi\n",
    "   \n",
    "data['SPMi']=data['spm'].apply(cal_SPMi)\n",
    "df= data[['spm','SPMi']]\n",
    "df.head()"
   ]
  },
  {
   "cell_type": "markdown",
   "metadata": {
    "colab_type": "text",
    "id": "ZP9ECyjU5_j-"
   },
   "source": [
    "# CALCULATE  AIR QUALITY INDEX FOR PM 2.5 BASED ON FORMULA"
   ]
  },
  {
   "cell_type": "code",
   "execution_count": 42,
   "metadata": {
    "colab": {
     "base_uri": "https://localhost:8080/",
     "height": 204
    },
    "colab_type": "code",
    "id": "mEkDnApH5_kB",
    "outputId": "08af30a0-136f-4759-8401-56da9851bea4"
   },
   "outputs": [
    {
     "data": {
      "text/html": [
       "<div>\n",
       "<style scoped>\n",
       "    .dataframe tbody tr th:only-of-type {\n",
       "        vertical-align: middle;\n",
       "    }\n",
       "\n",
       "    .dataframe tbody tr th {\n",
       "        vertical-align: top;\n",
       "    }\n",
       "\n",
       "    .dataframe thead th {\n",
       "        text-align: right;\n",
       "    }\n",
       "</style>\n",
       "<table border=\"1\" class=\"dataframe\">\n",
       "  <thead>\n",
       "    <tr style=\"text-align: right;\">\n",
       "      <th></th>\n",
       "      <th>pm2_5</th>\n",
       "      <th>PMi</th>\n",
       "    </tr>\n",
       "  </thead>\n",
       "  <tbody>\n",
       "    <tr>\n",
       "      <th>0</th>\n",
       "      <td>NaN</td>\n",
       "      <td>NaN</td>\n",
       "    </tr>\n",
       "    <tr>\n",
       "      <th>1</th>\n",
       "      <td>NaN</td>\n",
       "      <td>NaN</td>\n",
       "    </tr>\n",
       "    <tr>\n",
       "      <th>2</th>\n",
       "      <td>NaN</td>\n",
       "      <td>NaN</td>\n",
       "    </tr>\n",
       "    <tr>\n",
       "      <th>3</th>\n",
       "      <td>NaN</td>\n",
       "      <td>NaN</td>\n",
       "    </tr>\n",
       "    <tr>\n",
       "      <th>4</th>\n",
       "      <td>NaN</td>\n",
       "      <td>NaN</td>\n",
       "    </tr>\n",
       "  </tbody>\n",
       "</table>\n",
       "</div>"
      ],
      "text/plain": [
       "   pm2_5  PMi\n",
       "0    NaN  NaN\n",
       "1    NaN  NaN\n",
       "2    NaN  NaN\n",
       "3    NaN  NaN\n",
       "4    NaN  NaN"
      ]
     },
     "execution_count": 42,
     "metadata": {
      "tags": []
     },
     "output_type": "execute_result"
    }
   ],
   "source": [
    "def cal_pmi(pm2_5):\n",
    "    pmi=0\n",
    "    if(pm2_5<=50):\n",
    "     pmi=pm2_5*(50/50)\n",
    "    elif(pm2_5>50 and pm2_5<=100):\n",
    "     pmi=50+(pm2_5-50)*(50/50)\n",
    "    elif(pm2_5>100 and pm2_5<=250):\n",
    "     pmi= 100+(pm2_5-100)*(100/150)\n",
    "    elif(pm2_5>250 and pm2_5<=350):\n",
    "     pmi=200+(pm2_5-250)*(100/100)\n",
    "    elif(pm2_5>350 and pm2_5<=450):\n",
    "     pmi=300+(pm2_5-350)*(100/100)\n",
    "    else:\n",
    "     pmi=400+(pm2_5-430)*(100/80)\n",
    "    return pmi\n",
    "data['PMi']=data['pm2_5'].apply(cal_pmi)\n",
    "df= data[['pm2_5','PMi']]\n",
    "df.head()\n"
   ]
  },
  {
   "cell_type": "code",
   "execution_count": 43,
   "metadata": {
    "colab": {
     "base_uri": "https://localhost:8080/",
     "height": 34
    },
    "colab_type": "code",
    "id": "avoYr5AS5_kH",
    "outputId": "da890b50-8e2a-4c80-eaff-b8cdaa97a6ea"
   },
   "outputs": [
    {
     "data": {
      "text/plain": [
       "pandas.core.series.Series"
      ]
     },
     "execution_count": 43,
     "metadata": {
      "tags": []
     },
     "output_type": "execute_result"
    }
   ],
   "source": [
    "type(data['PMi'])"
   ]
  },
  {
   "cell_type": "markdown",
   "metadata": {
    "colab_type": "text",
    "id": "PC6xv1JN5_kQ"
   },
   "source": [
    "Based on the measured ambient concentrations, corresponding standards and likely health impact, a sub-index is calculated for each of these pollutants. The worst sub-index reflects overall AQI.If multiple pollutants are measured at a monitoring site, then the largest or \"dominant\" AQI value is reported for the location"
   ]
  },
  {
   "cell_type": "code",
   "execution_count": 44,
   "metadata": {
    "colab": {
     "base_uri": "https://localhost:8080/",
     "height": 204
    },
    "colab_type": "code",
    "id": "kpjmtewE5_kS",
    "outputId": "e0e85e89-36a7-4c3a-d411-70e265ae0dd4"
   },
   "outputs": [
    {
     "data": {
      "text/html": [
       "<div>\n",
       "<style scoped>\n",
       "    .dataframe tbody tr th:only-of-type {\n",
       "        vertical-align: middle;\n",
       "    }\n",
       "\n",
       "    .dataframe tbody tr th {\n",
       "        vertical-align: top;\n",
       "    }\n",
       "\n",
       "    .dataframe thead th {\n",
       "        text-align: right;\n",
       "    }\n",
       "</style>\n",
       "<table border=\"1\" class=\"dataframe\">\n",
       "  <thead>\n",
       "    <tr style=\"text-align: right;\">\n",
       "      <th></th>\n",
       "      <th>state</th>\n",
       "      <th>SOi</th>\n",
       "      <th>Noi</th>\n",
       "      <th>RSPMi</th>\n",
       "      <th>SPMi</th>\n",
       "      <th>AQI</th>\n",
       "    </tr>\n",
       "  </thead>\n",
       "  <tbody>\n",
       "    <tr>\n",
       "      <th>0</th>\n",
       "      <td>Andhra Pradesh</td>\n",
       "      <td>6.000</td>\n",
       "      <td>21.750</td>\n",
       "      <td>78.182824</td>\n",
       "      <td>166.840252</td>\n",
       "      <td>166.840252</td>\n",
       "    </tr>\n",
       "    <tr>\n",
       "      <th>1</th>\n",
       "      <td>Andhra Pradesh</td>\n",
       "      <td>3.875</td>\n",
       "      <td>8.750</td>\n",
       "      <td>78.182824</td>\n",
       "      <td>166.840252</td>\n",
       "      <td>166.840252</td>\n",
       "    </tr>\n",
       "    <tr>\n",
       "      <th>2</th>\n",
       "      <td>Andhra Pradesh</td>\n",
       "      <td>7.750</td>\n",
       "      <td>35.625</td>\n",
       "      <td>78.182824</td>\n",
       "      <td>166.840252</td>\n",
       "      <td>166.840252</td>\n",
       "    </tr>\n",
       "    <tr>\n",
       "      <th>3</th>\n",
       "      <td>Andhra Pradesh</td>\n",
       "      <td>7.875</td>\n",
       "      <td>18.375</td>\n",
       "      <td>78.182824</td>\n",
       "      <td>166.840252</td>\n",
       "      <td>166.840252</td>\n",
       "    </tr>\n",
       "    <tr>\n",
       "      <th>4</th>\n",
       "      <td>Andhra Pradesh</td>\n",
       "      <td>5.875</td>\n",
       "      <td>9.375</td>\n",
       "      <td>78.182824</td>\n",
       "      <td>166.840252</td>\n",
       "      <td>166.840252</td>\n",
       "    </tr>\n",
       "  </tbody>\n",
       "</table>\n",
       "</div>"
      ],
      "text/plain": [
       "            state    SOi     Noi      RSPMi        SPMi         AQI\n",
       "0  Andhra Pradesh  6.000  21.750  78.182824  166.840252  166.840252\n",
       "1  Andhra Pradesh  3.875   8.750  78.182824  166.840252  166.840252\n",
       "2  Andhra Pradesh  7.750  35.625  78.182824  166.840252  166.840252\n",
       "3  Andhra Pradesh  7.875  18.375  78.182824  166.840252  166.840252\n",
       "4  Andhra Pradesh  5.875   9.375  78.182824  166.840252  166.840252"
      ]
     },
     "execution_count": 44,
     "metadata": {
      "tags": []
     },
     "output_type": "execute_result"
    }
   ],
   "source": [
    "def cal_aqi(si,ni,rspmi,spmi):\n",
    "    aqi=0\n",
    "    if(si>ni and si>rspmi and si>spmi):\n",
    "     aqi=si\n",
    "    if(ni>si and ni>rspmi and ni>spmi ):\n",
    "     aqi=ni\n",
    "    if(rspmi>si and rspmi>ni and rspmi>spmi ):\n",
    "     aqi=rspmi\n",
    "    if(spmi>si and spmi>ni and spmi>rspmi):\n",
    "     aqi=spmi\n",
    "    return aqi\n",
    "\n",
    "data['AQI']=data.apply(lambda x:cal_aqi(x['SOi'],x['Noi'],x['RSPMi'],x['SPMi']),axis=1)\n",
    "df= data[['state','SOi','Noi','RSPMi','SPMi','AQI']]\n",
    "df.head()\n"
   ]
  },
  {
   "cell_type": "code",
   "execution_count": 45,
   "metadata": {
    "colab": {
     "base_uri": "https://localhost:8080/",
     "height": 289
    },
    "colab_type": "code",
    "id": "6gdGBwCU5_ka",
    "outputId": "d157d28c-1acd-4004-d4ec-521b127caea1"
   },
   "outputs": [
    {
     "data": {
      "text/html": [
       "<div>\n",
       "<style scoped>\n",
       "    .dataframe tbody tr th:only-of-type {\n",
       "        vertical-align: middle;\n",
       "    }\n",
       "\n",
       "    .dataframe tbody tr th {\n",
       "        vertical-align: top;\n",
       "    }\n",
       "\n",
       "    .dataframe thead th {\n",
       "        text-align: right;\n",
       "    }\n",
       "</style>\n",
       "<table border=\"1\" class=\"dataframe\">\n",
       "  <thead>\n",
       "    <tr style=\"text-align: right;\">\n",
       "      <th></th>\n",
       "      <th>state</th>\n",
       "      <th>location</th>\n",
       "      <th>type</th>\n",
       "      <th>so2</th>\n",
       "      <th>no2</th>\n",
       "      <th>rspm</th>\n",
       "      <th>spm</th>\n",
       "      <th>pm2_5</th>\n",
       "      <th>date</th>\n",
       "      <th>SOi</th>\n",
       "      <th>Noi</th>\n",
       "      <th>RSPMi</th>\n",
       "      <th>SPMi</th>\n",
       "      <th>PMi</th>\n",
       "      <th>AQI</th>\n",
       "    </tr>\n",
       "  </thead>\n",
       "  <tbody>\n",
       "    <tr>\n",
       "      <th>0</th>\n",
       "      <td>Andhra Pradesh</td>\n",
       "      <td>Hyderabad</td>\n",
       "      <td>Residential, Rural and other Areas</td>\n",
       "      <td>4.8</td>\n",
       "      <td>17.4</td>\n",
       "      <td>78.182824</td>\n",
       "      <td>200.260378</td>\n",
       "      <td>NaN</td>\n",
       "      <td>1990-02-01</td>\n",
       "      <td>6.000</td>\n",
       "      <td>21.750</td>\n",
       "      <td>78.182824</td>\n",
       "      <td>166.840252</td>\n",
       "      <td>NaN</td>\n",
       "      <td>166.840252</td>\n",
       "    </tr>\n",
       "    <tr>\n",
       "      <th>1</th>\n",
       "      <td>Andhra Pradesh</td>\n",
       "      <td>Hyderabad</td>\n",
       "      <td>Industrial Area</td>\n",
       "      <td>3.1</td>\n",
       "      <td>7.0</td>\n",
       "      <td>78.182824</td>\n",
       "      <td>200.260378</td>\n",
       "      <td>NaN</td>\n",
       "      <td>1990-02-01</td>\n",
       "      <td>3.875</td>\n",
       "      <td>8.750</td>\n",
       "      <td>78.182824</td>\n",
       "      <td>166.840252</td>\n",
       "      <td>NaN</td>\n",
       "      <td>166.840252</td>\n",
       "    </tr>\n",
       "    <tr>\n",
       "      <th>2</th>\n",
       "      <td>Andhra Pradesh</td>\n",
       "      <td>Hyderabad</td>\n",
       "      <td>Residential, Rural and other Areas</td>\n",
       "      <td>6.2</td>\n",
       "      <td>28.5</td>\n",
       "      <td>78.182824</td>\n",
       "      <td>200.260378</td>\n",
       "      <td>NaN</td>\n",
       "      <td>1990-02-01</td>\n",
       "      <td>7.750</td>\n",
       "      <td>35.625</td>\n",
       "      <td>78.182824</td>\n",
       "      <td>166.840252</td>\n",
       "      <td>NaN</td>\n",
       "      <td>166.840252</td>\n",
       "    </tr>\n",
       "    <tr>\n",
       "      <th>3</th>\n",
       "      <td>Andhra Pradesh</td>\n",
       "      <td>Hyderabad</td>\n",
       "      <td>Residential, Rural and other Areas</td>\n",
       "      <td>6.3</td>\n",
       "      <td>14.7</td>\n",
       "      <td>78.182824</td>\n",
       "      <td>200.260378</td>\n",
       "      <td>NaN</td>\n",
       "      <td>1990-03-01</td>\n",
       "      <td>7.875</td>\n",
       "      <td>18.375</td>\n",
       "      <td>78.182824</td>\n",
       "      <td>166.840252</td>\n",
       "      <td>NaN</td>\n",
       "      <td>166.840252</td>\n",
       "    </tr>\n",
       "    <tr>\n",
       "      <th>4</th>\n",
       "      <td>Andhra Pradesh</td>\n",
       "      <td>Hyderabad</td>\n",
       "      <td>Industrial Area</td>\n",
       "      <td>4.7</td>\n",
       "      <td>7.5</td>\n",
       "      <td>78.182824</td>\n",
       "      <td>200.260378</td>\n",
       "      <td>NaN</td>\n",
       "      <td>1990-03-01</td>\n",
       "      <td>5.875</td>\n",
       "      <td>9.375</td>\n",
       "      <td>78.182824</td>\n",
       "      <td>166.840252</td>\n",
       "      <td>NaN</td>\n",
       "      <td>166.840252</td>\n",
       "    </tr>\n",
       "  </tbody>\n",
       "</table>\n",
       "</div>"
      ],
      "text/plain": [
       "            state   location  ... PMi         AQI\n",
       "0  Andhra Pradesh  Hyderabad  ... NaN  166.840252\n",
       "1  Andhra Pradesh  Hyderabad  ... NaN  166.840252\n",
       "2  Andhra Pradesh  Hyderabad  ... NaN  166.840252\n",
       "3  Andhra Pradesh  Hyderabad  ... NaN  166.840252\n",
       "4  Andhra Pradesh  Hyderabad  ... NaN  166.840252\n",
       "\n",
       "[5 rows x 15 columns]"
      ]
     },
     "execution_count": 45,
     "metadata": {
      "tags": []
     },
     "output_type": "execute_result"
    }
   ],
   "source": [
    "data.head()"
   ]
  },
  {
   "cell_type": "code",
   "execution_count": 0,
   "metadata": {
    "colab": {},
    "colab_type": "code",
    "collapsed": true,
    "id": "7V6Ncg0u5_ki"
   },
   "outputs": [],
   "source": []
  },
  {
   "cell_type": "markdown",
   "metadata": {
    "colab_type": "text",
    "id": "pjLTDKOc5_kn"
   },
   "source": [
    "# AQI RANGE for corresponding AQI value "
   ]
  },
  {
   "cell_type": "code",
   "execution_count": 46,
   "metadata": {
    "colab": {
     "base_uri": "https://localhost:8080/",
     "height": 289
    },
    "colab_type": "code",
    "id": "BkDGgy_g5_ko",
    "outputId": "cd045510-6a2d-49e6-89c9-9d505d122773"
   },
   "outputs": [
    {
     "data": {
      "text/html": [
       "<div>\n",
       "<style scoped>\n",
       "    .dataframe tbody tr th:only-of-type {\n",
       "        vertical-align: middle;\n",
       "    }\n",
       "\n",
       "    .dataframe tbody tr th {\n",
       "        vertical-align: top;\n",
       "    }\n",
       "\n",
       "    .dataframe thead th {\n",
       "        text-align: right;\n",
       "    }\n",
       "</style>\n",
       "<table border=\"1\" class=\"dataframe\">\n",
       "  <thead>\n",
       "    <tr style=\"text-align: right;\">\n",
       "      <th></th>\n",
       "      <th>state</th>\n",
       "      <th>location</th>\n",
       "      <th>type</th>\n",
       "      <th>so2</th>\n",
       "      <th>no2</th>\n",
       "      <th>rspm</th>\n",
       "      <th>spm</th>\n",
       "      <th>pm2_5</th>\n",
       "      <th>date</th>\n",
       "      <th>SOi</th>\n",
       "      <th>Noi</th>\n",
       "      <th>RSPMi</th>\n",
       "      <th>SPMi</th>\n",
       "      <th>PMi</th>\n",
       "      <th>AQI</th>\n",
       "      <th>AQI_Range</th>\n",
       "    </tr>\n",
       "  </thead>\n",
       "  <tbody>\n",
       "    <tr>\n",
       "      <th>0</th>\n",
       "      <td>Andhra Pradesh</td>\n",
       "      <td>Hyderabad</td>\n",
       "      <td>Residential, Rural and other Areas</td>\n",
       "      <td>4.8</td>\n",
       "      <td>17.4</td>\n",
       "      <td>78.182824</td>\n",
       "      <td>200.260378</td>\n",
       "      <td>NaN</td>\n",
       "      <td>1990-02-01</td>\n",
       "      <td>6.000</td>\n",
       "      <td>21.750</td>\n",
       "      <td>78.182824</td>\n",
       "      <td>166.840252</td>\n",
       "      <td>NaN</td>\n",
       "      <td>166.840252</td>\n",
       "      <td>Poor</td>\n",
       "    </tr>\n",
       "    <tr>\n",
       "      <th>1</th>\n",
       "      <td>Andhra Pradesh</td>\n",
       "      <td>Hyderabad</td>\n",
       "      <td>Industrial Area</td>\n",
       "      <td>3.1</td>\n",
       "      <td>7.0</td>\n",
       "      <td>78.182824</td>\n",
       "      <td>200.260378</td>\n",
       "      <td>NaN</td>\n",
       "      <td>1990-02-01</td>\n",
       "      <td>3.875</td>\n",
       "      <td>8.750</td>\n",
       "      <td>78.182824</td>\n",
       "      <td>166.840252</td>\n",
       "      <td>NaN</td>\n",
       "      <td>166.840252</td>\n",
       "      <td>Poor</td>\n",
       "    </tr>\n",
       "    <tr>\n",
       "      <th>2</th>\n",
       "      <td>Andhra Pradesh</td>\n",
       "      <td>Hyderabad</td>\n",
       "      <td>Residential, Rural and other Areas</td>\n",
       "      <td>6.2</td>\n",
       "      <td>28.5</td>\n",
       "      <td>78.182824</td>\n",
       "      <td>200.260378</td>\n",
       "      <td>NaN</td>\n",
       "      <td>1990-02-01</td>\n",
       "      <td>7.750</td>\n",
       "      <td>35.625</td>\n",
       "      <td>78.182824</td>\n",
       "      <td>166.840252</td>\n",
       "      <td>NaN</td>\n",
       "      <td>166.840252</td>\n",
       "      <td>Poor</td>\n",
       "    </tr>\n",
       "    <tr>\n",
       "      <th>3</th>\n",
       "      <td>Andhra Pradesh</td>\n",
       "      <td>Hyderabad</td>\n",
       "      <td>Residential, Rural and other Areas</td>\n",
       "      <td>6.3</td>\n",
       "      <td>14.7</td>\n",
       "      <td>78.182824</td>\n",
       "      <td>200.260378</td>\n",
       "      <td>NaN</td>\n",
       "      <td>1990-03-01</td>\n",
       "      <td>7.875</td>\n",
       "      <td>18.375</td>\n",
       "      <td>78.182824</td>\n",
       "      <td>166.840252</td>\n",
       "      <td>NaN</td>\n",
       "      <td>166.840252</td>\n",
       "      <td>Poor</td>\n",
       "    </tr>\n",
       "    <tr>\n",
       "      <th>4</th>\n",
       "      <td>Andhra Pradesh</td>\n",
       "      <td>Hyderabad</td>\n",
       "      <td>Industrial Area</td>\n",
       "      <td>4.7</td>\n",
       "      <td>7.5</td>\n",
       "      <td>78.182824</td>\n",
       "      <td>200.260378</td>\n",
       "      <td>NaN</td>\n",
       "      <td>1990-03-01</td>\n",
       "      <td>5.875</td>\n",
       "      <td>9.375</td>\n",
       "      <td>78.182824</td>\n",
       "      <td>166.840252</td>\n",
       "      <td>NaN</td>\n",
       "      <td>166.840252</td>\n",
       "      <td>Poor</td>\n",
       "    </tr>\n",
       "  </tbody>\n",
       "</table>\n",
       "</div>"
      ],
      "text/plain": [
       "            state   location  ...         AQI  AQI_Range\n",
       "0  Andhra Pradesh  Hyderabad  ...  166.840252       Poor\n",
       "1  Andhra Pradesh  Hyderabad  ...  166.840252       Poor\n",
       "2  Andhra Pradesh  Hyderabad  ...  166.840252       Poor\n",
       "3  Andhra Pradesh  Hyderabad  ...  166.840252       Poor\n",
       "4  Andhra Pradesh  Hyderabad  ...  166.840252       Poor\n",
       "\n",
       "[5 rows x 16 columns]"
      ]
     },
     "execution_count": 46,
     "metadata": {
      "tags": []
     },
     "output_type": "execute_result"
    }
   ],
   "source": [
    "def AQI_Range(x):\n",
    "    if x<=50:\n",
    "        return \"Good\"\n",
    "    elif x>50 and x<=100:\n",
    "        return \"Moderate\"\n",
    "    elif x>100 and x<=200:\n",
    "        return \"Poor\"\n",
    "    elif x>200 and x<=300:\n",
    "        return \"Unhealthy\"\n",
    "    elif x>300 and x<=400:\n",
    "        return \"Very unhealthy\"\n",
    "    elif x>400:\n",
    "        return \"Hazardous\"\n",
    "\n",
    "data['AQI_Range'] = data['AQI'] .apply(AQI_Range)\n",
    "data.head()\n"
   ]
  },
  {
   "cell_type": "markdown",
   "metadata": {
    "colab_type": "text",
    "id": "8nEN60Te5_ks"
   },
   "source": []
  },
  {
   "cell_type": "code",
   "execution_count": 47,
   "metadata": {
    "colab": {
     "base_uri": "https://localhost:8080/",
     "height": 289
    },
    "colab_type": "code",
    "id": "PD-OIkyM5_ks",
    "outputId": "bf719525-4814-4366-f280-22ec706acc28"
   },
   "outputs": [
    {
     "data": {
      "text/html": [
       "<div>\n",
       "<style scoped>\n",
       "    .dataframe tbody tr th:only-of-type {\n",
       "        vertical-align: middle;\n",
       "    }\n",
       "\n",
       "    .dataframe tbody tr th {\n",
       "        vertical-align: top;\n",
       "    }\n",
       "\n",
       "    .dataframe thead th {\n",
       "        text-align: right;\n",
       "    }\n",
       "</style>\n",
       "<table border=\"1\" class=\"dataframe\">\n",
       "  <thead>\n",
       "    <tr style=\"text-align: right;\">\n",
       "      <th></th>\n",
       "      <th>state</th>\n",
       "      <th>location</th>\n",
       "      <th>type</th>\n",
       "      <th>so2</th>\n",
       "      <th>no2</th>\n",
       "      <th>rspm</th>\n",
       "      <th>spm</th>\n",
       "      <th>pm2_5</th>\n",
       "      <th>date</th>\n",
       "      <th>SOi</th>\n",
       "      <th>Noi</th>\n",
       "      <th>RSPMi</th>\n",
       "      <th>SPMi</th>\n",
       "      <th>PMi</th>\n",
       "      <th>AQI</th>\n",
       "      <th>AQI_Range</th>\n",
       "    </tr>\n",
       "  </thead>\n",
       "  <tbody>\n",
       "    <tr>\n",
       "      <th>0</th>\n",
       "      <td>Andhra Pradesh</td>\n",
       "      <td>Hyderabad</td>\n",
       "      <td>Residential, Rural and other Areas</td>\n",
       "      <td>4.8</td>\n",
       "      <td>17.4</td>\n",
       "      <td>78.182824</td>\n",
       "      <td>200.260378</td>\n",
       "      <td>NaN</td>\n",
       "      <td>1990-02-01</td>\n",
       "      <td>6.000</td>\n",
       "      <td>21.750</td>\n",
       "      <td>78.182824</td>\n",
       "      <td>166.840252</td>\n",
       "      <td>NaN</td>\n",
       "      <td>166.840252</td>\n",
       "      <td>Poor</td>\n",
       "    </tr>\n",
       "    <tr>\n",
       "      <th>1</th>\n",
       "      <td>Andhra Pradesh</td>\n",
       "      <td>Hyderabad</td>\n",
       "      <td>Industrial Area</td>\n",
       "      <td>3.1</td>\n",
       "      <td>7.0</td>\n",
       "      <td>78.182824</td>\n",
       "      <td>200.260378</td>\n",
       "      <td>NaN</td>\n",
       "      <td>1990-02-01</td>\n",
       "      <td>3.875</td>\n",
       "      <td>8.750</td>\n",
       "      <td>78.182824</td>\n",
       "      <td>166.840252</td>\n",
       "      <td>NaN</td>\n",
       "      <td>166.840252</td>\n",
       "      <td>Poor</td>\n",
       "    </tr>\n",
       "    <tr>\n",
       "      <th>2</th>\n",
       "      <td>Andhra Pradesh</td>\n",
       "      <td>Hyderabad</td>\n",
       "      <td>Residential, Rural and other Areas</td>\n",
       "      <td>6.2</td>\n",
       "      <td>28.5</td>\n",
       "      <td>78.182824</td>\n",
       "      <td>200.260378</td>\n",
       "      <td>NaN</td>\n",
       "      <td>1990-02-01</td>\n",
       "      <td>7.750</td>\n",
       "      <td>35.625</td>\n",
       "      <td>78.182824</td>\n",
       "      <td>166.840252</td>\n",
       "      <td>NaN</td>\n",
       "      <td>166.840252</td>\n",
       "      <td>Poor</td>\n",
       "    </tr>\n",
       "    <tr>\n",
       "      <th>3</th>\n",
       "      <td>Andhra Pradesh</td>\n",
       "      <td>Hyderabad</td>\n",
       "      <td>Residential, Rural and other Areas</td>\n",
       "      <td>6.3</td>\n",
       "      <td>14.7</td>\n",
       "      <td>78.182824</td>\n",
       "      <td>200.260378</td>\n",
       "      <td>NaN</td>\n",
       "      <td>1990-03-01</td>\n",
       "      <td>7.875</td>\n",
       "      <td>18.375</td>\n",
       "      <td>78.182824</td>\n",
       "      <td>166.840252</td>\n",
       "      <td>NaN</td>\n",
       "      <td>166.840252</td>\n",
       "      <td>Poor</td>\n",
       "    </tr>\n",
       "    <tr>\n",
       "      <th>4</th>\n",
       "      <td>Andhra Pradesh</td>\n",
       "      <td>Hyderabad</td>\n",
       "      <td>Industrial Area</td>\n",
       "      <td>4.7</td>\n",
       "      <td>7.5</td>\n",
       "      <td>78.182824</td>\n",
       "      <td>200.260378</td>\n",
       "      <td>NaN</td>\n",
       "      <td>1990-03-01</td>\n",
       "      <td>5.875</td>\n",
       "      <td>9.375</td>\n",
       "      <td>78.182824</td>\n",
       "      <td>166.840252</td>\n",
       "      <td>NaN</td>\n",
       "      <td>166.840252</td>\n",
       "      <td>Poor</td>\n",
       "    </tr>\n",
       "  </tbody>\n",
       "</table>\n",
       "</div>"
      ],
      "text/plain": [
       "            state   location  ...         AQI  AQI_Range\n",
       "0  Andhra Pradesh  Hyderabad  ...  166.840252       Poor\n",
       "1  Andhra Pradesh  Hyderabad  ...  166.840252       Poor\n",
       "2  Andhra Pradesh  Hyderabad  ...  166.840252       Poor\n",
       "3  Andhra Pradesh  Hyderabad  ...  166.840252       Poor\n",
       "4  Andhra Pradesh  Hyderabad  ...  166.840252       Poor\n",
       "\n",
       "[5 rows x 16 columns]"
      ]
     },
     "execution_count": 47,
     "metadata": {
      "tags": []
     },
     "output_type": "execute_result"
    }
   ],
   "source": [
    "d=data #saving data in new value\n",
    "d.head()"
   ]
  },
  {
   "cell_type": "markdown",
   "metadata": {
    "colab_type": "text",
    "id": "Qqb4LMvZ5_kw"
   },
   "source": [
    "Remove the rows with null values"
   ]
  },
  {
   "cell_type": "code",
   "execution_count": 0,
   "metadata": {
    "colab": {},
    "colab_type": "code",
    "collapsed": true,
    "id": "2zUzxNrZ5_ky"
   },
   "outputs": [],
   "source": [
    "data=data.dropna(subset=['spm']) #spm"
   ]
  },
  {
   "cell_type": "code",
   "execution_count": 0,
   "metadata": {
    "colab": {},
    "colab_type": "code",
    "collapsed": true,
    "id": "mntpyR3y5_k1"
   },
   "outputs": [],
   "source": [
    "data=data.dropna(subset=['pm2_5']) #spm"
   ]
  },
  {
   "cell_type": "code",
   "execution_count": 50,
   "metadata": {
    "colab": {
     "base_uri": "https://localhost:8080/",
     "height": 306
    },
    "colab_type": "code",
    "id": "gr9FeeW85_k3",
    "outputId": "c758ab8d-f465-4f7f-a267-074f5d07246f"
   },
   "outputs": [
    {
     "data": {
      "text/plain": [
       "state           0\n",
       "location        0\n",
       "type         1571\n",
       "so2             0\n",
       "no2             0\n",
       "rspm            0\n",
       "spm             0\n",
       "pm2_5           0\n",
       "date            1\n",
       "SOi             0\n",
       "Noi             0\n",
       "RSPMi           0\n",
       "SPMi            0\n",
       "PMi             0\n",
       "AQI             0\n",
       "AQI_Range       0\n",
       "dtype: int64"
      ]
     },
     "execution_count": 50,
     "metadata": {
      "tags": []
     },
     "output_type": "execute_result"
    }
   ],
   "source": [
    "data.isna().sum() #all null values removed "
   ]
  },
  {
   "cell_type": "markdown",
   "metadata": {
    "colab_type": "text",
    "id": "64GB1c0X5_k7"
   },
   "source": [
    "# Linear Regression prediction"
   ]
  },
  {
   "cell_type": "markdown",
   "metadata": {
    "colab_type": "text",
    "id": "KKr_FswL5_k9"
   },
   "source": [
    "1. Using SOi, NOi, RSPMi, SPMi TO PREDICT AQI"
   ]
  },
  {
   "cell_type": "code",
   "execution_count": 0,
   "metadata": {
    "colab": {},
    "colab_type": "code",
    "collapsed": true,
    "id": "kfwS5QF75_k-"
   },
   "outputs": [],
   "source": [
    "from sklearn.model_selection import train_test_split\n",
    "from sklearn.linear_model import LinearRegression\n",
    "from sklearn.metrics import mean_squared_log_error\n",
    "from sklearn.metrics import mean_squared_error\n",
    "from sklearn.metrics import r2_score, mean_squared_error\n",
    "from sklearn.model_selection import KFold\n",
    "from sklearn.model_selection import cross_val_score"
   ]
  },
  {
   "cell_type": "code",
   "execution_count": 52,
   "metadata": {
    "colab": {
     "base_uri": "https://localhost:8080/",
     "height": 119
    },
    "colab_type": "code",
    "id": "_BXQpVHk5_lF",
    "outputId": "55970167-efb1-4813-b511-b14e7c0673d2"
   },
   "outputs": [
    {
     "data": {
      "text/plain": [
       "64445    76.53653\n",
       "64446    76.53653\n",
       "64447    76.53653\n",
       "64448    76.53653\n",
       "64449    76.53653\n",
       "Name: AQI, dtype: float64"
      ]
     },
     "execution_count": 52,
     "metadata": {
      "tags": []
     },
     "output_type": "execute_result"
    }
   ],
   "source": [
    "X = data[['SOi','Noi','RSPMi','SPMi']]\n",
    "y = data['AQI']\n",
    "y.head()"
   ]
  },
  {
   "cell_type": "code",
   "execution_count": 0,
   "metadata": {
    "colab": {},
    "colab_type": "code",
    "collapsed": true,
    "id": "p7Pr0Y6o5_lJ"
   },
   "outputs": [],
   "source": [
    "X_train, X_test, y_train, y_test = train_test_split(X,y, test_size=0.2,random_state=101)"
   ]
  },
  {
   "cell_type": "code",
   "execution_count": 54,
   "metadata": {
    "colab": {
     "base_uri": "https://localhost:8080/",
     "height": 204
    },
    "colab_type": "code",
    "id": "fU03-zVV5_lN",
    "outputId": "eb76ddd2-1148-4ae0-864f-cdd542a7641b"
   },
   "outputs": [
    {
     "data": {
      "text/html": [
       "<div>\n",
       "<style scoped>\n",
       "    .dataframe tbody tr th:only-of-type {\n",
       "        vertical-align: middle;\n",
       "    }\n",
       "\n",
       "    .dataframe tbody tr th {\n",
       "        vertical-align: top;\n",
       "    }\n",
       "\n",
       "    .dataframe thead th {\n",
       "        text-align: right;\n",
       "    }\n",
       "</style>\n",
       "<table border=\"1\" class=\"dataframe\">\n",
       "  <thead>\n",
       "    <tr style=\"text-align: right;\">\n",
       "      <th></th>\n",
       "      <th>SOi</th>\n",
       "      <th>Noi</th>\n",
       "      <th>RSPMi</th>\n",
       "      <th>SPMi</th>\n",
       "    </tr>\n",
       "  </thead>\n",
       "  <tbody>\n",
       "    <tr>\n",
       "      <th>278387</th>\n",
       "      <td>15.500</td>\n",
       "      <td>29.625</td>\n",
       "      <td>98.000000</td>\n",
       "      <td>148.000000</td>\n",
       "    </tr>\n",
       "    <tr>\n",
       "      <th>86756</th>\n",
       "      <td>19.750</td>\n",
       "      <td>38.250</td>\n",
       "      <td>92.000000</td>\n",
       "      <td>134.000000</td>\n",
       "    </tr>\n",
       "    <tr>\n",
       "      <th>283737</th>\n",
       "      <td>10.000</td>\n",
       "      <td>25.000</td>\n",
       "      <td>111.102041</td>\n",
       "      <td>145.073229</td>\n",
       "    </tr>\n",
       "    <tr>\n",
       "      <th>178198</th>\n",
       "      <td>40.625</td>\n",
       "      <td>64.000</td>\n",
       "      <td>128.715893</td>\n",
       "      <td>221.000000</td>\n",
       "    </tr>\n",
       "    <tr>\n",
       "      <th>285556</th>\n",
       "      <td>6.250</td>\n",
       "      <td>26.250</td>\n",
       "      <td>74.000000</td>\n",
       "      <td>145.073229</td>\n",
       "    </tr>\n",
       "  </tbody>\n",
       "</table>\n",
       "</div>"
      ],
      "text/plain": [
       "           SOi     Noi       RSPMi        SPMi\n",
       "278387  15.500  29.625   98.000000  148.000000\n",
       "86756   19.750  38.250   92.000000  134.000000\n",
       "283737  10.000  25.000  111.102041  145.073229\n",
       "178198  40.625  64.000  128.715893  221.000000\n",
       "285556   6.250  26.250   74.000000  145.073229"
      ]
     },
     "execution_count": 54,
     "metadata": {
      "tags": []
     },
     "output_type": "execute_result"
    }
   ],
   "source": [
    "X_train.head()"
   ]
  },
  {
   "cell_type": "code",
   "execution_count": 55,
   "metadata": {
    "colab": {
     "base_uri": "https://localhost:8080/",
     "height": 34
    },
    "colab_type": "code",
    "id": "0eOrv_ZE5_lS",
    "outputId": "616ac368-a9b9-472a-f086-f829e7e95122"
   },
   "outputs": [
    {
     "data": {
      "text/plain": [
       "LinearRegression(copy_X=True, fit_intercept=True, n_jobs=None, normalize=False)"
      ]
     },
     "execution_count": 55,
     "metadata": {
      "tags": []
     },
     "output_type": "execute_result"
    }
   ],
   "source": [
    "LR = LinearRegression() \n",
    "LR.fit(X_train, y_train)"
   ]
  },
  {
   "cell_type": "code",
   "execution_count": 56,
   "metadata": {
    "colab": {
     "base_uri": "https://localhost:8080/",
     "height": 34
    },
    "colab_type": "code",
    "id": "Sgfyan1w5_lV",
    "outputId": "4129bb1b-2d7b-44a7-bd21-57a5b3512e08"
   },
   "outputs": [
    {
     "name": "stdout",
     "output_type": "stream",
     "text": [
      "Intercept 6.765242054464267\n"
     ]
    }
   ],
   "source": [
    "print('Intercept',LR.intercept_)"
   ]
  },
  {
   "cell_type": "code",
   "execution_count": 57,
   "metadata": {
    "colab": {
     "base_uri": "https://localhost:8080/",
     "height": 34
    },
    "colab_type": "code",
    "id": "0a818Dtk5_lZ",
    "outputId": "18304325-54a1-4d59-e0bc-5bea7dad8b5d"
   },
   "outputs": [
    {
     "name": "stdout",
     "output_type": "stream",
     "text": [
      "Coefficients [3.88857701e-04 1.40399765e-01 4.35904310e-02 9.38364186e-01]\n"
     ]
    }
   ],
   "source": [
    "print('Coefficients',LR.coef_)"
   ]
  },
  {
   "cell_type": "code",
   "execution_count": 0,
   "metadata": {
    "colab": {},
    "colab_type": "code",
    "collapsed": true,
    "id": "cnNUZKS-5_lb"
   },
   "outputs": [],
   "source": [
    "predictions = LR.predict(X_test)"
   ]
  },
  {
   "cell_type": "code",
   "execution_count": 59,
   "metadata": {
    "colab": {
     "base_uri": "https://localhost:8080/",
     "height": 296
    },
    "colab_type": "code",
    "id": "3Fbbg2LW5_ll",
    "outputId": "07df1061-df8b-4945-be70-f0f6d81abdda"
   },
   "outputs": [
    {
     "data": {
      "text/plain": [
       "Text(0, 0.5, 'Predicted Y')"
      ]
     },
     "execution_count": 59,
     "metadata": {
      "tags": []
     },
     "output_type": "execute_result"
    },
    {
     "data": {
      "image/png": "[encoded data removed]",
      "text/plain": [
       "<Figure size 432x288 with 1 Axes>"
      ]
     },
     "metadata": {
      "tags": []
     },
     "output_type": "display_data"
    }
   ],
   "source": [
    "plt.scatter(y_test,predictions)\n",
    "plt.xlabel('Y Test')\n",
    "plt.ylabel('Predicted Y')"
   ]
  },
  {
   "cell_type": "code",
   "execution_count": 60,
   "metadata": {
    "colab": {
     "base_uri": "https://localhost:8080/",
     "height": 34
    },
    "colab_type": "code",
    "id": "kke-iVSC5_lq",
    "outputId": "00144356-4db4-4e79-d267-6e9e3936eca9"
   },
   "outputs": [
    {
     "data": {
      "text/plain": [
       "0.979751152309336"
      ]
     },
     "execution_count": 60,
     "metadata": {
      "tags": []
     },
     "output_type": "execute_result"
    }
   ],
   "source": [
    "LR.score(X_test,y_test) "
   ]
  },
  {
   "cell_type": "code",
   "execution_count": 61,
   "metadata": {
    "colab": {
     "base_uri": "https://localhost:8080/",
     "height": 34
    },
    "colab_type": "code",
    "id": "mpwqi7fI5_lu",
    "outputId": "516c8366-d8bb-4d97-db85-a31877af9eb5"
   },
   "outputs": [
    {
     "data": {
      "text/plain": [
       "array([107.065122])"
      ]
     },
     "execution_count": 61,
     "metadata": {
      "tags": []
     },
     "output_type": "execute_result"
    }
   ],
   "source": [
    "LR.predict([[4.8,21.75,78.18,100]]) "
   ]
  },
  {
   "cell_type": "code",
   "execution_count": 62,
   "metadata": {
    "colab": {
     "base_uri": "https://localhost:8080/",
     "height": 34
    },
    "colab_type": "code",
    "id": "N35PrDSB5_lz",
    "outputId": "4f2ed08e-8781-4d9c-ce4a-4b6e8fa52d2a"
   },
   "outputs": [
    {
     "data": {
      "text/plain": [
       "array([81.55110199])"
      ]
     },
     "execution_count": 62,
     "metadata": {
      "tags": []
     },
     "output_type": "execute_result"
    }
   ],
   "source": [
    "LR.predict([[5.2,7.625,76.53,75.0]])"
   ]
  },
  {
   "cell_type": "code",
   "execution_count": 63,
   "metadata": {
    "colab": {
     "base_uri": "https://localhost:8080/",
     "height": 296
    },
    "colab_type": "code",
    "id": "AneoocVI5_l2",
    "outputId": "d751c99b-87a5-43a5-9058-c314164c70a8"
   },
   "outputs": [
    {
     "data": {
      "text/plain": [
       "<matplotlib.axes._subplots.AxesSubplot at 0x7fe52b586710>"
      ]
     },
     "execution_count": 63,
     "metadata": {
      "tags": []
     },
     "output_type": "execute_result"
    },
    {
     "data": {
      "image/png": "[encoded data removed]",
      "text/plain": [
       "<Figure size 432x288 with 1 Axes>"
      ]
     },
     "metadata": {
      "tags": []
     },
     "output_type": "display_data"
    }
   ],
   "source": [
    "sns.regplot(y_test,predictions)"
   ]
  },
  {
   "cell_type": "code",
   "execution_count": 64,
   "metadata": {
    "colab": {
     "base_uri": "https://localhost:8080/",
     "height": 51
    },
    "colab_type": "code",
    "id": "foY_nhmo5_l6",
    "outputId": "6fbca827-28d7-4a15-81b3-9ef16d86d34e"
   },
   "outputs": [
    {
     "name": "stdout",
     "output_type": "stream",
     "text": [
      "R^2_Square:0.98 \n",
      "MSE:12.90 \n"
     ]
    }
   ],
   "source": [
    "print('R^2_Square:%.2f '% r2_score(y_test, predictions))\n",
    "print('MSE:%.2f '% np.sqrt(mean_squared_error(y_test, predictions)))"
   ]
  },
  {
   "cell_type": "markdown",
   "metadata": {
    "colab_type": "text",
    "id": "YY66Civh5_l_"
   },
   "source": [
    "# Linear Regression Model 2\n",
    "Using so2, no2, rspm, spm"
   ]
  },
  {
   "cell_type": "code",
   "execution_count": 65,
   "metadata": {
    "colab": {
     "base_uri": "https://localhost:8080/",
     "height": 119
    },
    "colab_type": "code",
    "id": "-9tyn1rV5_mB",
    "outputId": "b15ff764-940b-4756-ccbe-5006800c8f3a"
   },
   "outputs": [
    {
     "data": {
      "text/plain": [
       "288625    145.073229\n",
       "288626    145.073229\n",
       "288627    145.073229\n",
       "288628    145.073229\n",
       "288629    145.073229\n",
       "Name: AQI, dtype: float64"
      ]
     },
     "execution_count": 65,
     "metadata": {
      "tags": []
     },
     "output_type": "execute_result"
    }
   ],
   "source": [
    "X1= data[['so2','no2','rspm','spm']]\n",
    "y1 = data['AQI']\n",
    "y.tail()"
   ]
  },
  {
   "cell_type": "code",
   "execution_count": 0,
   "metadata": {
    "colab": {},
    "colab_type": "code",
    "collapsed": true,
    "id": "PZqjtq7_5_mG"
   },
   "outputs": [],
   "source": [
    "X_train1, X_test1, y_train1, y_test1 = train_test_split(X1,y1, test_size=0.2,random_state=101)"
   ]
  },
  {
   "cell_type": "code",
   "execution_count": 67,
   "metadata": {
    "colab": {
     "base_uri": "https://localhost:8080/",
     "height": 204
    },
    "colab_type": "code",
    "id": "krZ4AjM15_mK",
    "outputId": "2e9f6cc5-a08e-413b-b5b5-74a366f59dd3"
   },
   "outputs": [
    {
     "data": {
      "text/html": [
       "<div>\n",
       "<style scoped>\n",
       "    .dataframe tbody tr th:only-of-type {\n",
       "        vertical-align: middle;\n",
       "    }\n",
       "\n",
       "    .dataframe tbody tr th {\n",
       "        vertical-align: top;\n",
       "    }\n",
       "\n",
       "    .dataframe thead th {\n",
       "        text-align: right;\n",
       "    }\n",
       "</style>\n",
       "<table border=\"1\" class=\"dataframe\">\n",
       "  <thead>\n",
       "    <tr style=\"text-align: right;\">\n",
       "      <th></th>\n",
       "      <th>so2</th>\n",
       "      <th>no2</th>\n",
       "      <th>rspm</th>\n",
       "      <th>spm</th>\n",
       "    </tr>\n",
       "  </thead>\n",
       "  <tbody>\n",
       "    <tr>\n",
       "      <th>278387</th>\n",
       "      <td>12.4</td>\n",
       "      <td>23.7</td>\n",
       "      <td>98.000000</td>\n",
       "      <td>172.000000</td>\n",
       "    </tr>\n",
       "    <tr>\n",
       "      <th>86756</th>\n",
       "      <td>15.8</td>\n",
       "      <td>30.6</td>\n",
       "      <td>92.000000</td>\n",
       "      <td>151.000000</td>\n",
       "    </tr>\n",
       "    <tr>\n",
       "      <th>283737</th>\n",
       "      <td>8.0</td>\n",
       "      <td>20.0</td>\n",
       "      <td>106.000000</td>\n",
       "      <td>167.609844</td>\n",
       "    </tr>\n",
       "    <tr>\n",
       "      <th>178198</th>\n",
       "      <td>32.5</td>\n",
       "      <td>51.2</td>\n",
       "      <td>114.717967</td>\n",
       "      <td>271.000000</td>\n",
       "    </tr>\n",
       "    <tr>\n",
       "      <th>285556</th>\n",
       "      <td>5.0</td>\n",
       "      <td>21.0</td>\n",
       "      <td>74.000000</td>\n",
       "      <td>167.609844</td>\n",
       "    </tr>\n",
       "  </tbody>\n",
       "</table>\n",
       "</div>"
      ],
      "text/plain": [
       "         so2   no2        rspm         spm\n",
       "278387  12.4  23.7   98.000000  172.000000\n",
       "86756   15.8  30.6   92.000000  151.000000\n",
       "283737   8.0  20.0  106.000000  167.609844\n",
       "178198  32.5  51.2  114.717967  271.000000\n",
       "285556   5.0  21.0   74.000000  167.609844"
      ]
     },
     "execution_count": 67,
     "metadata": {
      "tags": []
     },
     "output_type": "execute_result"
    }
   ],
   "source": [
    "X_train1.head()"
   ]
  },
  {
   "cell_type": "code",
   "execution_count": 68,
   "metadata": {
    "colab": {
     "base_uri": "https://localhost:8080/",
     "height": 34
    },
    "colab_type": "code",
    "id": "ZJXUrcgk5_mQ",
    "outputId": "ec721e58-5176-4b54-d39c-fbe490a83b83"
   },
   "outputs": [
    {
     "data": {
      "text/plain": [
       "LinearRegression(copy_X=True, fit_intercept=True, n_jobs=None, normalize=False)"
      ]
     },
     "execution_count": 68,
     "metadata": {
      "tags": []
     },
     "output_type": "execute_result"
    }
   ],
   "source": [
    "LR1 = LinearRegression()\n",
    "LR1.fit(X_train1, y_train1)"
   ]
  },
  {
   "cell_type": "code",
   "execution_count": 0,
   "metadata": {
    "colab": {},
    "colab_type": "code",
    "collapsed": true,
    "id": "RK7ALatV5_mT"
   },
   "outputs": [],
   "source": [
    "prediction1 = LR1.predict(X_test1)"
   ]
  },
  {
   "cell_type": "code",
   "execution_count": 70,
   "metadata": {
    "colab": {
     "base_uri": "https://localhost:8080/",
     "height": 296
    },
    "colab_type": "code",
    "id": "Yq9MpP8i5_mZ",
    "outputId": "10d2248a-4113-473b-dccd-6f742d928ca2"
   },
   "outputs": [
    {
     "data": {
      "text/plain": [
       "Text(0, 0.5, 'Predicted Y')"
      ]
     },
     "execution_count": 70,
     "metadata": {
      "tags": []
     },
     "output_type": "execute_result"
    },
    {
     "data": {
      "image/png": "[encoded data removed]",
      "text/plain": [
       "<Figure size 432x288 with 1 Axes>"
      ]
     },
     "metadata": {
      "tags": []
     },
     "output_type": "display_data"
    }
   ],
   "source": [
    "plt.scatter(y_test1,prediction1) #scatter plot for actual and predicted values\n",
    "plt.xlabel('Y Test')\n",
    "plt.ylabel('Predicted Y')"
   ]
  },
  {
   "cell_type": "code",
   "execution_count": 71,
   "metadata": {
    "colab": {
     "base_uri": "https://localhost:8080/",
     "height": 34
    },
    "colab_type": "code",
    "id": "xVTyE6k85_mc",
    "outputId": "39fbb72a-21e4-43a5-a567-34b68f4bb301"
   },
   "outputs": [
    {
     "data": {
      "text/plain": [
       "array([155.13066979])"
      ]
     },
     "execution_count": 71,
     "metadata": {
      "tags": []
     },
     "output_type": "execute_result"
    }
   ],
   "source": [
    "LR1.predict([[9.1,16.3,67,179]])"
   ]
  },
  {
   "cell_type": "code",
   "execution_count": 72,
   "metadata": {
    "colab": {
     "base_uri": "https://localhost:8080/",
     "height": 296
    },
    "colab_type": "code",
    "id": "pzMDcaeA5_mn",
    "outputId": "8987a928-9663-4022-c098-19961e20bc55"
   },
   "outputs": [
    {
     "data": {
      "text/plain": [
       "<matplotlib.axes._subplots.AxesSubplot at 0x7fe52980d438>"
      ]
     },
     "execution_count": 72,
     "metadata": {
      "tags": []
     },
     "output_type": "execute_result"
    },
    {
     "data": {
      "image/png": "[encoded data removed]",
      "text/plain": [
       "<Figure size 432x288 with 1 Axes>"
      ]
     },
     "metadata": {
      "tags": []
     },
     "output_type": "display_data"
    }
   ],
   "source": [
    "sns.regplot(y_test1,prediction1) #regression plot"
   ]
  },
  {
   "cell_type": "code",
   "execution_count": 0,
   "metadata": {
    "colab": {},
    "colab_type": "code",
    "collapsed": true,
    "id": "rzOyO-0t5_mp"
   },
   "outputs": [],
   "source": [
    "y_test1_np= np.array(y_test1)\n",
    "prediction1_np = np.array(prediction1)"
   ]
  },
  {
   "cell_type": "code",
   "execution_count": 74,
   "metadata": {
    "colab": {
     "base_uri": "https://localhost:8080/",
     "height": 34
    },
    "colab_type": "code",
    "id": "BV3y0kbh5_mr",
    "outputId": "43db9a72-18cb-42ca-975d-6b45291f2a1b"
   },
   "outputs": [
    {
     "data": {
      "text/plain": [
       "0.9443847609127416"
      ]
     },
     "execution_count": 74,
     "metadata": {
      "tags": []
     },
     "output_type": "execute_result"
    }
   ],
   "source": [
    "LR1.score(X_test1,y_test1) #accuracy score 76.82%"
   ]
  },
  {
   "cell_type": "markdown",
   "metadata": {
    "colab_type": "text",
    "id": "Bx32ke_P5_mt"
   },
   "source": [
    "Mean Squared error, R^2 sqaured"
   ]
  },
  {
   "cell_type": "code",
   "execution_count": 75,
   "metadata": {
    "colab": {
     "base_uri": "https://localhost:8080/",
     "height": 51
    },
    "colab_type": "code",
    "id": "8VdIoSZ_5_mv",
    "outputId": "9405eb11-1c10-43bf-f8d8-0a921bc81b4a"
   },
   "outputs": [
    {
     "name": "stdout",
     "output_type": "stream",
     "text": [
      "R^2_Square:0.94 \n",
      "MSE:21.38 \n"
     ]
    }
   ],
   "source": [
    "print('R^2_Square:%.2f '% r2_score(y_test1, prediction1))\n",
    "print('MSE:%.2f '% np.sqrt(mean_squared_error(y_test1, prediction1)))"
   ]
  },
  {
   "cell_type": "markdown",
   "metadata": {
    "colab_type": "text",
    "id": "MC1NNI9Q5_my"
   },
   "source": [
    "# Classification of AQI"
   ]
  },
  {
   "cell_type": "markdown",
   "metadata": {
    "colab_type": "text",
    "id": "KZfdzY725_my"
   },
   "source": [
    "## Logistic Regression"
   ]
  },
  {
   "cell_type": "markdown",
   "metadata": {
    "colab_type": "text",
    "id": "Ocw4_Oo75_mz"
   },
   "source": [
    "1.Using SOi, Noi, RSPMi, SPMi\n",
    "    "
   ]
  },
  {
   "cell_type": "code",
   "execution_count": 0,
   "metadata": {
    "colab": {},
    "colab_type": "code",
    "collapsed": true,
    "id": "oP939c2k5_m0"
   },
   "outputs": [],
   "source": [
    "from sklearn.linear_model import LogisticRegression"
   ]
  },
  {
   "cell_type": "code",
   "execution_count": 0,
   "metadata": {
    "colab": {},
    "colab_type": "code",
    "collapsed": true,
    "id": "VZrQjErF5_m4"
   },
   "outputs": [],
   "source": [
    "X2 = data[['SOi','Noi','RSPMi','SPMi']]\n",
    "y2 = data['AQI_Range']"
   ]
  },
  {
   "cell_type": "code",
   "execution_count": 0,
   "metadata": {
    "colab": {},
    "colab_type": "code",
    "collapsed": true,
    "id": "Mu4JHAlu5_m6"
   },
   "outputs": [],
   "source": [
    "X_train2, X_test2, y_train2, y_test2 = train_test_split(X2, y2, test_size=0.33, random_state=42)"
   ]
  },
  {
   "cell_type": "code",
   "execution_count": 79,
   "metadata": {
    "colab": {
     "base_uri": "https://localhost:8080/",
     "height": 0
    },
    "colab_type": "code",
    "id": "n-EwTYOp5_m9",
    "outputId": "4cbd2b14-ca20-40d7-fc48-db0f553f4820"
   },
   "outputs": [
    {
     "name": "stderr",
     "output_type": "stream",
     "text": [
      "/usr/local/lib/python3.6/dist-packages/sklearn/linear_model/_logistic.py:940: ConvergenceWarning: lbfgs failed to converge (status=1):\n",
      "STOP: TOTAL NO. of ITERATIONS REACHED LIMIT.\n",
      "\n",
      "Increase the number of iterations (max_iter) or scale the data as shown in:\n",
      "    https://scikit-learn.org/stable/modules/preprocessing.html\n",
      "Please also refer to the documentation for alternative solver options:\n",
      "    https://scikit-learn.org/stable/modules/linear_model.html#logistic-regression\n",
      "  extra_warning_msg=_LOGISTIC_SOLVER_CONVERGENCE_MSG)\n"
     ]
    },
    {
     "data": {
      "text/plain": [
       "LogisticRegression(C=1.0, class_weight=None, dual=False, fit_intercept=True,\n",
       "                   intercept_scaling=1, l1_ratio=None, max_iter=100,\n",
       "                   multi_class='auto', n_jobs=None, penalty='l2',\n",
       "                   random_state=None, solver='lbfgs', tol=0.0001, verbose=0,\n",
       "                   warm_start=False)"
      ]
     },
     "execution_count": 79,
     "metadata": {
      "tags": []
     },
     "output_type": "execute_result"
    }
   ],
   "source": [
    "logmodel = LogisticRegression()\n",
    "logmodel.fit(X_train2,y_train2)"
   ]
  },
  {
   "cell_type": "code",
   "execution_count": 0,
   "metadata": {
    "colab": {},
    "colab_type": "code",
    "collapsed": true,
    "id": "1gFJdS5w5_nA"
   },
   "outputs": [],
   "source": [
    "predictions = logmodel.predict(X_test)"
   ]
  },
  {
   "cell_type": "code",
   "execution_count": 81,
   "metadata": {
    "colab": {
     "base_uri": "https://localhost:8080/",
     "height": 0
    },
    "colab_type": "code",
    "id": "ojquUgmt5_nE",
    "outputId": "b3f4375a-5805-43a2-d0a9-845823260a0a"
   },
   "outputs": [
    {
     "data": {
      "text/plain": [
       "0.6899387230677999"
      ]
     },
     "execution_count": 81,
     "metadata": {
      "tags": []
     },
     "output_type": "execute_result"
    }
   ],
   "source": [
    "logmodel.score(X_test2,y_test2) #accuracy score 89.25 %"
   ]
  },
  {
   "cell_type": "markdown",
   "metadata": {
    "colab_type": "text",
    "id": "DUeiZ8Lg5_nI"
   },
   "source": [
    "Creating new csv file to store AQI range values inorder to cross verify predicted value"
   ]
  },
  {
   "cell_type": "code",
   "execution_count": 0,
   "metadata": {
    "colab": {},
    "colab_type": "code",
    "collapsed": true,
    "id": "6CNXFKjj5_nL"
   },
   "outputs": [],
   "source": [
    "new = pd.DataFrame(d)\n",
    "file1 = 'new1.csv'\n",
    "new.to_csv(file1,index=True)"
   ]
  },
  {
   "cell_type": "code",
   "execution_count": 83,
   "metadata": {
    "colab": {
     "base_uri": "https://localhost:8080/",
     "height": 0
    },
    "colab_type": "code",
    "id": "y134Tjb75_nP",
    "outputId": "6df05b4f-0738-4acb-bf36-57dfcd5908ce"
   },
   "outputs": [
    {
     "data": {
      "text/html": [
       "<div>\n",
       "<style scoped>\n",
       "    .dataframe tbody tr th:only-of-type {\n",
       "        vertical-align: middle;\n",
       "    }\n",
       "\n",
       "    .dataframe tbody tr th {\n",
       "        vertical-align: top;\n",
       "    }\n",
       "\n",
       "    .dataframe thead th {\n",
       "        text-align: right;\n",
       "    }\n",
       "</style>\n",
       "<table border=\"1\" class=\"dataframe\">\n",
       "  <thead>\n",
       "    <tr style=\"text-align: right;\">\n",
       "      <th></th>\n",
       "      <th>state</th>\n",
       "      <th>location</th>\n",
       "      <th>type</th>\n",
       "      <th>so2</th>\n",
       "      <th>no2</th>\n",
       "      <th>rspm</th>\n",
       "      <th>spm</th>\n",
       "      <th>pm2_5</th>\n",
       "      <th>date</th>\n",
       "      <th>SOi</th>\n",
       "      <th>Noi</th>\n",
       "      <th>RSPMi</th>\n",
       "      <th>SPMi</th>\n",
       "      <th>PMi</th>\n",
       "      <th>AQI</th>\n",
       "      <th>AQI_Range</th>\n",
       "    </tr>\n",
       "  </thead>\n",
       "  <tbody>\n",
       "    <tr>\n",
       "      <th>306815</th>\n",
       "      <td>Punjab</td>\n",
       "      <td>Khanna</td>\n",
       "      <td>Industrial Area</td>\n",
       "      <td>10.500000</td>\n",
       "      <td>31.500000</td>\n",
       "      <td>277.000000</td>\n",
       "      <td>244.955519</td>\n",
       "      <td>NaN</td>\n",
       "      <td>2011-10-05</td>\n",
       "      <td>13.125000</td>\n",
       "      <td>39.375000</td>\n",
       "      <td>0.0</td>\n",
       "      <td>196.637013</td>\n",
       "      <td>NaN</td>\n",
       "      <td>196.637013</td>\n",
       "      <td>Poor</td>\n",
       "    </tr>\n",
       "    <tr>\n",
       "      <th>306816</th>\n",
       "      <td>Punjab</td>\n",
       "      <td>Khanna</td>\n",
       "      <td>Industrial Area</td>\n",
       "      <td>11.300000</td>\n",
       "      <td>29.800000</td>\n",
       "      <td>245.000000</td>\n",
       "      <td>244.955519</td>\n",
       "      <td>NaN</td>\n",
       "      <td>2011-12-05</td>\n",
       "      <td>14.125000</td>\n",
       "      <td>37.250000</td>\n",
       "      <td>0.0</td>\n",
       "      <td>196.637013</td>\n",
       "      <td>NaN</td>\n",
       "      <td>196.637013</td>\n",
       "      <td>Poor</td>\n",
       "    </tr>\n",
       "    <tr>\n",
       "      <th>306817</th>\n",
       "      <td>Punjab</td>\n",
       "      <td>Khanna</td>\n",
       "      <td>Industrial Area</td>\n",
       "      <td>11.500000</td>\n",
       "      <td>31.000000</td>\n",
       "      <td>272.000000</td>\n",
       "      <td>244.955519</td>\n",
       "      <td>NaN</td>\n",
       "      <td>2011-05-14</td>\n",
       "      <td>14.375000</td>\n",
       "      <td>38.750000</td>\n",
       "      <td>0.0</td>\n",
       "      <td>196.637013</td>\n",
       "      <td>NaN</td>\n",
       "      <td>196.637013</td>\n",
       "      <td>Poor</td>\n",
       "    </tr>\n",
       "    <tr>\n",
       "      <th>306818</th>\n",
       "      <td>Punjab</td>\n",
       "      <td>Khanna</td>\n",
       "      <td>Industrial Area</td>\n",
       "      <td>11.500000</td>\n",
       "      <td>31.500000</td>\n",
       "      <td>215.000000</td>\n",
       "      <td>244.955519</td>\n",
       "      <td>NaN</td>\n",
       "      <td>2011-05-17</td>\n",
       "      <td>14.375000</td>\n",
       "      <td>39.375000</td>\n",
       "      <td>0.0</td>\n",
       "      <td>196.637013</td>\n",
       "      <td>NaN</td>\n",
       "      <td>196.637013</td>\n",
       "      <td>Poor</td>\n",
       "    </tr>\n",
       "    <tr>\n",
       "      <th>306819</th>\n",
       "      <td>Punjab</td>\n",
       "      <td>Kh</td>\n",
       "      <td>NaN</td>\n",
       "      <td>11.687963</td>\n",
       "      <td>30.947417</td>\n",
       "      <td>204.160109</td>\n",
       "      <td>244.955519</td>\n",
       "      <td>NaN</td>\n",
       "      <td>NaN</td>\n",
       "      <td>14.609954</td>\n",
       "      <td>38.684271</td>\n",
       "      <td>0.0</td>\n",
       "      <td>196.637013</td>\n",
       "      <td>NaN</td>\n",
       "      <td>196.637013</td>\n",
       "      <td>Poor</td>\n",
       "    </tr>\n",
       "  </tbody>\n",
       "</table>\n",
       "</div>"
      ],
      "text/plain": [
       "         state location             type  ...  PMi         AQI  AQI_Range\n",
       "306815  Punjab   Khanna  Industrial Area  ...  NaN  196.637013       Poor\n",
       "306816  Punjab   Khanna  Industrial Area  ...  NaN  196.637013       Poor\n",
       "306817  Punjab   Khanna  Industrial Area  ...  NaN  196.637013       Poor\n",
       "306818  Punjab   Khanna  Industrial Area  ...  NaN  196.637013       Poor\n",
       "306819  Punjab       Kh              NaN  ...  NaN  196.637013       Poor\n",
       "\n",
       "[5 rows x 16 columns]"
      ]
     },
     "execution_count": 83,
     "metadata": {
      "tags": []
     },
     "output_type": "execute_result"
    }
   ],
   "source": [
    "d.tail()"
   ]
  },
  {
   "cell_type": "code",
   "execution_count": 84,
   "metadata": {
    "colab": {
     "base_uri": "https://localhost:8080/",
     "height": 0
    },
    "colab_type": "code",
    "id": "eI6Nt03r5_nY",
    "outputId": "9c782f9a-685b-4b47-f321-04936df36e37"
   },
   "outputs": [
    {
     "data": {
      "text/plain": [
       "array(['Good'], dtype=object)"
      ]
     },
     "execution_count": 84,
     "metadata": {
      "tags": []
     },
     "output_type": "execute_result"
    }
   ],
   "source": [
    "logmodel.predict([[77.4,147.7,78.182,100]]) #correct"
   ]
  },
  {
   "cell_type": "code",
   "execution_count": 85,
   "metadata": {
    "colab": {
     "base_uri": "https://localhost:8080/",
     "height": 0
    },
    "colab_type": "code",
    "id": "wD1ly2iF5_nf",
    "outputId": "7ce15952-2289-4ec4-969a-edda7a174f9b"
   },
   "outputs": [
    {
     "data": {
      "text/plain": [
       "array(['Poor'], dtype=object)"
      ]
     },
     "execution_count": 85,
     "metadata": {
      "tags": []
     },
     "output_type": "execute_result"
    }
   ],
   "source": [
    "logmodel.predict([[32.7,35,78.182,203]]) #correct"
   ]
  },
  {
   "cell_type": "code",
   "execution_count": 86,
   "metadata": {
    "colab": {
     "base_uri": "https://localhost:8080/",
     "height": 0
    },
    "colab_type": "code",
    "id": "I_Dc11NO5_nn",
    "outputId": "94e6ee6f-5847-4a6e-d971-7cbec18c8746"
   },
   "outputs": [
    {
     "data": {
      "text/plain": [
       "array(['Poor'], dtype=object)"
      ]
     },
     "execution_count": 86,
     "metadata": {
      "tags": []
     },
     "output_type": "execute_result"
    }
   ],
   "source": [
    "logmodel.predict([[100,182.2,78.182,400]]) #correct"
   ]
  },
  {
   "cell_type": "markdown",
   "metadata": {
    "colab_type": "text",
    "id": "JZGP5iTP5_np"
   },
   "source": [
    "# Logistic regression model 2"
   ]
  },
  {
   "cell_type": "markdown",
   "metadata": {
    "colab_type": "text",
    "id": "vZxIB4XT5_nq"
   },
   "source": [
    "2.Using so2,no2,rspm,spm"
   ]
  },
  {
   "cell_type": "code",
   "execution_count": 0,
   "metadata": {
    "colab": {},
    "colab_type": "code",
    "collapsed": true,
    "id": "QHvxSefG5_nq"
   },
   "outputs": [],
   "source": [
    "X3 = data[['so2','no2','rspm','spm']]\n",
    "y3 = data['AQI_Range']"
   ]
  },
  {
   "cell_type": "code",
   "execution_count": 0,
   "metadata": {
    "colab": {},
    "colab_type": "code",
    "collapsed": true,
    "id": "aNlHg8fg5_oJ"
   },
   "outputs": [],
   "source": [
    "X_train3, X_test3, y_train3, y_test3 = train_test_split(X3, y3, test_size=0.33, random_state=42)"
   ]
  },
  {
   "cell_type": "code",
   "execution_count": 89,
   "metadata": {
    "colab": {
     "base_uri": "https://localhost:8080/",
     "height": 238
    },
    "colab_type": "code",
    "id": "o-p4J8Nn5_oL",
    "outputId": "5d215f51-18fe-4074-b7b6-f0a16c5ebcdd"
   },
   "outputs": [
    {
     "name": "stderr",
     "output_type": "stream",
     "text": [
      "/usr/local/lib/python3.6/dist-packages/sklearn/linear_model/_logistic.py:940: ConvergenceWarning: lbfgs failed to converge (status=1):\n",
      "STOP: TOTAL NO. of ITERATIONS REACHED LIMIT.\n",
      "\n",
      "Increase the number of iterations (max_iter) or scale the data as shown in:\n",
      "    https://scikit-learn.org/stable/modules/preprocessing.html\n",
      "Please also refer to the documentation for alternative solver options:\n",
      "    https://scikit-learn.org/stable/modules/linear_model.html#logistic-regression\n",
      "  extra_warning_msg=_LOGISTIC_SOLVER_CONVERGENCE_MSG)\n"
     ]
    },
    {
     "data": {
      "text/plain": [
       "LogisticRegression(C=1.0, class_weight=None, dual=False, fit_intercept=True,\n",
       "                   intercept_scaling=1, l1_ratio=None, max_iter=100,\n",
       "                   multi_class='auto', n_jobs=None, penalty='l2',\n",
       "                   random_state=None, solver='lbfgs', tol=0.0001, verbose=0,\n",
       "                   warm_start=False)"
      ]
     },
     "execution_count": 89,
     "metadata": {
      "tags": []
     },
     "output_type": "execute_result"
    }
   ],
   "source": [
    "logmodel2 = LogisticRegression()\n",
    "logmodel2.fit(X_train3,y_train3)"
   ]
  },
  {
   "cell_type": "code",
   "execution_count": 90,
   "metadata": {
    "colab": {
     "base_uri": "https://localhost:8080/",
     "height": 34
    },
    "colab_type": "code",
    "id": "mXLyG9us5_oN",
    "outputId": "950df45c-a54a-4460-bb36-558a1509c0d6"
   },
   "outputs": [
    {
     "data": {
      "text/plain": [
       "0.6589049219213283"
      ]
     },
     "execution_count": 90,
     "metadata": {
      "tags": []
     },
     "output_type": "execute_result"
    }
   ],
   "source": [
    "logmodel2.score(X_test3,y_test3) #very low accuracy score"
   ]
  },
  {
   "cell_type": "code",
   "execution_count": 91,
   "metadata": {
    "colab": {
     "base_uri": "https://localhost:8080/",
     "height": 34
    },
    "colab_type": "code",
    "id": "9lXekyU-5_oR",
    "outputId": "f93147f5-93b2-4e72-fe7e-17b5c0a9150a"
   },
   "outputs": [
    {
     "data": {
      "text/plain": [
       "array(['Poor'], dtype=object)"
      ]
     },
     "execution_count": 91,
     "metadata": {
      "tags": []
     },
     "output_type": "execute_result"
    }
   ],
   "source": [
    "logmodel2.predict([[4.8,17.4,78.48,200]]) #correct"
   ]
  },
  {
   "cell_type": "code",
   "execution_count": 92,
   "metadata": {
    "colab": {
     "base_uri": "https://localhost:8080/",
     "height": 34
    },
    "colab_type": "code",
    "id": "0tuPWHQi5_oX",
    "outputId": "fdd7a74a-f8f3-43e1-88fa-9a79a0228947"
   },
   "outputs": [
    {
     "data": {
      "text/plain": [
       "array(['Moderate'], dtype=object)"
      ]
     },
     "execution_count": 92,
     "metadata": {
      "tags": []
     },
     "output_type": "execute_result"
    }
   ],
   "source": [
    "logmodel2.predict([[67.4,127.7,78.48,215]]) #correct"
   ]
  },
  {
   "cell_type": "code",
   "execution_count": 93,
   "metadata": {
    "colab": {
     "base_uri": "https://localhost:8080/",
     "height": 34
    },
    "colab_type": "code",
    "id": "6nQTk3Bg5_oa",
    "outputId": "b6dfcc78-03a3-43e2-91b6-8fcae1475366"
   },
   "outputs": [
    {
     "data": {
      "text/plain": [
       "array(['Hazardous'], dtype=object)"
      ]
     },
     "execution_count": 93,
     "metadata": {
      "tags": []
     },
     "output_type": "execute_result"
    }
   ],
   "source": [
    "logmodel2.predict([[2.059,8.94,102,256]])  #wrong"
   ]
  },
  {
   "cell_type": "markdown",
   "metadata": {
    "colab_type": "text",
    "id": "YhsayHFO5_og"
   },
   "source": [
    "#  Using Random forest classifier"
   ]
  },
  {
   "cell_type": "code",
   "execution_count": 0,
   "metadata": {
    "colab": {},
    "colab_type": "code",
    "collapsed": true,
    "id": "206VmtB75_og"
   },
   "outputs": [],
   "source": [
    "from sklearn.ensemble import RandomForestClassifier"
   ]
  },
  {
   "cell_type": "code",
   "execution_count": 95,
   "metadata": {
    "colab": {
     "base_uri": "https://localhost:8080/",
     "height": 153
    },
    "colab_type": "code",
    "id": "IyWaRWdj5_ol",
    "outputId": "044870a4-f35b-4d58-a74d-b198165663aa"
   },
   "outputs": [
    {
     "data": {
      "text/plain": [
       "RandomForestClassifier(bootstrap=True, ccp_alpha=0.0, class_weight=None,\n",
       "                       criterion='gini', max_depth=None, max_features='auto',\n",
       "                       max_leaf_nodes=None, max_samples=None,\n",
       "                       min_impurity_decrease=0.0, min_impurity_split=None,\n",
       "                       min_samples_leaf=1, min_samples_split=2,\n",
       "                       min_weight_fraction_leaf=0.0, n_estimators=10,\n",
       "                       n_jobs=None, oob_score=False, random_state=None,\n",
       "                       verbose=0, warm_start=False)"
      ]
     },
     "execution_count": 95,
     "metadata": {
      "tags": []
     },
     "output_type": "execute_result"
    }
   ],
   "source": [
    "model = RandomForestClassifier(n_estimators=10)\n",
    "model.fit(X_train3,y_train3)"
   ]
  },
  {
   "cell_type": "code",
   "execution_count": 96,
   "metadata": {
    "colab": {
     "base_uri": "https://localhost:8080/",
     "height": 34
    },
    "colab_type": "code",
    "id": "uhKvwTiD5_oo",
    "outputId": "98ef89bd-a226-4e8e-d6b1-1dd0651a031f"
   },
   "outputs": [
    {
     "data": {
      "text/plain": [
       "0.9997232654674837"
      ]
     },
     "execution_count": 96,
     "metadata": {
      "tags": []
     },
     "output_type": "execute_result"
    }
   ],
   "source": [
    "model.score(X_test3,y_test3) #high accuracy score of 99.97 %"
   ]
  },
  {
   "cell_type": "code",
   "execution_count": 97,
   "metadata": {
    "colab": {
     "base_uri": "https://localhost:8080/",
     "height": 204
    },
    "colab_type": "code",
    "id": "qFXLcTCX5_oq",
    "outputId": "c7adc1bb-30b9-41f5-d452-dff0cbcb4b34"
   },
   "outputs": [
    {
     "data": {
      "text/html": [
       "<div>\n",
       "<style scoped>\n",
       "    .dataframe tbody tr th:only-of-type {\n",
       "        vertical-align: middle;\n",
       "    }\n",
       "\n",
       "    .dataframe tbody tr th {\n",
       "        vertical-align: top;\n",
       "    }\n",
       "\n",
       "    .dataframe thead th {\n",
       "        text-align: right;\n",
       "    }\n",
       "</style>\n",
       "<table border=\"1\" class=\"dataframe\">\n",
       "  <thead>\n",
       "    <tr style=\"text-align: right;\">\n",
       "      <th></th>\n",
       "      <th>so2</th>\n",
       "      <th>no2</th>\n",
       "      <th>rspm</th>\n",
       "      <th>spm</th>\n",
       "    </tr>\n",
       "  </thead>\n",
       "  <tbody>\n",
       "    <tr>\n",
       "      <th>177799</th>\n",
       "      <td>3.0</td>\n",
       "      <td>13.0</td>\n",
       "      <td>114.717967</td>\n",
       "      <td>210.067545</td>\n",
       "    </tr>\n",
       "    <tr>\n",
       "      <th>87321</th>\n",
       "      <td>17.6</td>\n",
       "      <td>29.9</td>\n",
       "      <td>165.000000</td>\n",
       "      <td>270.000000</td>\n",
       "    </tr>\n",
       "    <tr>\n",
       "      <th>181906</th>\n",
       "      <td>22.7</td>\n",
       "      <td>29.0</td>\n",
       "      <td>92.000000</td>\n",
       "      <td>106.000000</td>\n",
       "    </tr>\n",
       "    <tr>\n",
       "      <th>178571</th>\n",
       "      <td>17.4</td>\n",
       "      <td>25.1</td>\n",
       "      <td>114.717967</td>\n",
       "      <td>341.000000</td>\n",
       "    </tr>\n",
       "    <tr>\n",
       "      <th>100436</th>\n",
       "      <td>15.0</td>\n",
       "      <td>20.0</td>\n",
       "      <td>95.000000</td>\n",
       "      <td>191.567930</td>\n",
       "    </tr>\n",
       "  </tbody>\n",
       "</table>\n",
       "</div>"
      ],
      "text/plain": [
       "         so2   no2        rspm         spm\n",
       "177799   3.0  13.0  114.717967  210.067545\n",
       "87321   17.6  29.9  165.000000  270.000000\n",
       "181906  22.7  29.0   92.000000  106.000000\n",
       "178571  17.4  25.1  114.717967  341.000000\n",
       "100436  15.0  20.0   95.000000  191.567930"
      ]
     },
     "execution_count": 97,
     "metadata": {
      "tags": []
     },
     "output_type": "execute_result"
    }
   ],
   "source": [
    "X_train3.head()"
   ]
  },
  {
   "cell_type": "code",
   "execution_count": 98,
   "metadata": {
    "colab": {
     "base_uri": "https://localhost:8080/",
     "height": 34
    },
    "colab_type": "code",
    "id": "0R1R_URp5_os",
    "outputId": "eeb2af7a-d675-45c9-ed09-36fb0033fd18"
   },
   "outputs": [
    {
     "data": {
      "text/plain": [
       "array(['Unhealthy'], dtype=object)"
      ]
     },
     "execution_count": 98,
     "metadata": {
      "tags": []
     },
     "output_type": "execute_result"
    }
   ],
   "source": [
    "model.predict([[2.059,8.94,102,256]]) #correct"
   ]
  },
  {
   "cell_type": "markdown",
   "metadata": {
    "colab_type": "text",
    "id": "TMUiIZyv5_ou"
   },
   "source": [
    "# Using Decision Tree Classifier"
   ]
  },
  {
   "cell_type": "code",
   "execution_count": 0,
   "metadata": {
    "colab": {},
    "colab_type": "code",
    "collapsed": true,
    "id": "GQjTTpEy5_ou"
   },
   "outputs": [],
   "source": [
    "from sklearn import tree"
   ]
  },
  {
   "cell_type": "code",
   "execution_count": 0,
   "metadata": {
    "colab": {},
    "colab_type": "code",
    "collapsed": true,
    "id": "mSC1bsGP5_ox"
   },
   "outputs": [],
   "source": [
    "model2 = tree.DecisionTreeClassifier()"
   ]
  },
  {
   "cell_type": "code",
   "execution_count": 101,
   "metadata": {
    "colab": {
     "base_uri": "https://localhost:8080/",
     "height": 119
    },
    "colab_type": "code",
    "id": "71QG8ZKW5_o1",
    "outputId": "95f97c19-2bd9-4341-decf-c62c01123532"
   },
   "outputs": [
    {
     "data": {
      "text/plain": [
       "DecisionTreeClassifier(ccp_alpha=0.0, class_weight=None, criterion='gini',\n",
       "                       max_depth=None, max_features=None, max_leaf_nodes=None,\n",
       "                       min_impurity_decrease=0.0, min_impurity_split=None,\n",
       "                       min_samples_leaf=1, min_samples_split=2,\n",
       "                       min_weight_fraction_leaf=0.0, presort='deprecated',\n",
       "                       random_state=None, splitter='best')"
      ]
     },
     "execution_count": 101,
     "metadata": {
      "tags": []
     },
     "output_type": "execute_result"
    }
   ],
   "source": [
    "model2.fit(X_train3,y_train3)"
   ]
  },
  {
   "cell_type": "code",
   "execution_count": 102,
   "metadata": {
    "colab": {
     "base_uri": "https://localhost:8080/",
     "height": 34
    },
    "colab_type": "code",
    "id": "g1Ji6Nvj5_o5",
    "outputId": "2a827365-addd-425e-9254-191fd23c619e"
   },
   "outputs": [
    {
     "data": {
      "text/plain": [
       "0.9999209329907096"
      ]
     },
     "execution_count": 102,
     "metadata": {
      "tags": []
     },
     "output_type": "execute_result"
    }
   ],
   "source": [
    "model2.score(X_test3,y_test3) #high accuracy score of 99.98%"
   ]
  },
  {
   "cell_type": "markdown",
   "metadata": {
    "colab_type": "text",
    "id": "JHZLB6xD5_o-"
   },
   "source": [
    "Some predictions"
   ]
  },
  {
   "cell_type": "code",
   "execution_count": 103,
   "metadata": {
    "colab": {
     "base_uri": "https://localhost:8080/",
     "height": 34
    },
    "colab_type": "code",
    "id": "lTvCz8xg5_o_",
    "outputId": "17a80252-2853-4f92-8ef7-a3523e1a659c"
   },
   "outputs": [
    {
     "data": {
      "text/plain": [
       "array(['Poor'], dtype=object)"
      ]
     },
     "execution_count": 103,
     "metadata": {
      "tags": []
     },
     "output_type": "execute_result"
    }
   ],
   "source": [
    "model2.predict([[9,31,51,205.25]]) # correct"
   ]
  },
  {
   "cell_type": "code",
   "execution_count": 104,
   "metadata": {
    "colab": {
     "base_uri": "https://localhost:8080/",
     "height": 34
    },
    "colab_type": "code",
    "id": "ABa_y4Nz5_pB",
    "outputId": "a10fca74-54e7-4999-fccf-7dff6855c5ef"
   },
   "outputs": [
    {
     "data": {
      "text/plain": [
       "array(['Good'], dtype=object)"
      ]
     },
     "execution_count": 104,
     "metadata": {
      "tags": []
     },
     "output_type": "execute_result"
    }
   ],
   "source": [
    "model2.predict([[2,5.8,17,36]]) # correct"
   ]
  },
  {
   "cell_type": "code",
   "execution_count": 105,
   "metadata": {
    "colab": {
     "base_uri": "https://localhost:8080/",
     "height": 34
    },
    "colab_type": "code",
    "id": "HFXBfq4j5_pC",
    "outputId": "a444b8f0-41a5-4527-ed9a-6f14aefe364e"
   },
   "outputs": [
    {
     "data": {
      "text/plain": [
       "array(['Unhealthy'], dtype=object)"
      ]
     },
     "execution_count": 105,
     "metadata": {
      "tags": []
     },
     "output_type": "execute_result"
    }
   ],
   "source": [
    "model2.predict([[18.6,48.3,142,285]]) # correct"
   ]
  },
  {
   "cell_type": "code",
   "execution_count": 106,
   "metadata": {
    "colab": {
     "base_uri": "https://localhost:8080/",
     "height": 34
    },
    "colab_type": "code",
    "id": "cMG-P0C_5_pG",
    "outputId": "9fdf99fa-358c-4af5-cc2d-066945b60e8e"
   },
   "outputs": [
    {
     "data": {
      "text/plain": [
       "array(['Poor'], dtype=object)"
      ]
     },
     "execution_count": 106,
     "metadata": {
      "tags": []
     },
     "output_type": "execute_result"
    }
   ],
   "source": [
    "model2.predict([[6,11,109,84.41]]) # correct"
   ]
  },
  {
   "cell_type": "code",
   "execution_count": 107,
   "metadata": {
    "colab": {
     "base_uri": "https://localhost:8080/",
     "height": 34
    },
    "colab_type": "code",
    "id": "rJGtATuS5_pJ",
    "outputId": "dd1446b6-5f69-4de7-964b-4c2ba015c9f9"
   },
   "outputs": [
    {
     "data": {
      "text/plain": [
       "array(['Very unhealthy'], dtype=object)"
      ]
     },
     "execution_count": 107,
     "metadata": {
      "tags": []
     },
     "output_type": "execute_result"
    }
   ],
   "source": [
    "model2.predict([[10,16,156,372.66]]) # correct"
   ]
  },
  {
   "cell_type": "markdown",
   "metadata": {
    "colab_type": "text",
    "id": "SJUY0lWt5_pR"
   },
   "source": [
    "<h1>Conclusion</h1>\n",
    "<p>\n",
    "<li>AQI is highly correlated with all the independent variables(so2, no2, rspm, spm)</li>\n",
    "<li>AQI has been increasing over the years.</li>\n",
    "<h4>Best models for AQI range classification :</h4>\n",
    "<ol>\n",
    "<li>Random Forest Classifier</li>\n",
    "<li>Decision Tree Classifier</li>\n",
    "</ol>\n",
    "</p>\n",
    "\n"
   ]
  },
  {
   "cell_type": "code",
   "execution_count": 0,
   "metadata": {
    "colab": {},
    "colab_type": "code",
    "collapsed": true,
    "id": "jQFdKa0c5_pW"
   },
   "outputs": [],
   "source": []
  }
 ],
 "metadata": {
  "colab": {
   "name": "India Air Quality (Project).ipynb",
   "provenance": []
  },
  "kernelspec": {
   "display_name": "Python 3",
   "language": "python",
   "name": "python3"
  },
  "language_info": {
   "codemirror_mode": {
    "name": "ipython",
    "version": 3
   },
   "file_extension": ".py",
   "mimetype": "text/x-python",
   "name": "python",
   "nbconvert_exporter": "python",
   "pygments_lexer": "ipython3",
   "version": "3.7.4"
  }
 },
 "nbformat": 4,
 "nbformat_minor": 1
}
