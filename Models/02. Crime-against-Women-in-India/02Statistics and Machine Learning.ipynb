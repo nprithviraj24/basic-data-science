{
 "cells": [
  {
   "cell_type": "markdown",
   "metadata": {},
   "source": [
    "### Import the data "
   ]
  },
  {
   "cell_type": "code",
   "execution_count": 26,
   "metadata": {},
   "outputs": [],
   "source": [
    "import pandas as pd\n",
    "data1 = pd.read_csv('data/data1.csv')\n"
   ]
  },
  {
   "cell_type": "markdown",
   "metadata": {},
   "source": [
    "## What is correlation between two variables?\n",
    "\n",
    "Correlation is a bivariate analysis that measures the strength of association between two variables and the direction of the relationship.  In terms of the strength of relationship, the value of the correlation coefficient varies between +1 and -1.  A value of ± 1 indicates a perfect degree of association between the two variables.  As the correlation coefficient value goes towards 0, the relationship between the two variables will be weaker.  The direction of the relationship is indicated by the sign of the coefficient; a + sign indicates a positive relationship and a – sign indicates a negative relationship. "
   ]
  },
  {
   "cell_type": "markdown",
   "metadata": {},
   "source": [
    "#### Data preprocessing:\n",
    "< State, District, Year, Rape, Kidnapping and Abduction, Dowry Deaths, Assault on women with intent to outrage her modesty, Insult to modesty of women, Cruelty by Husband or his Relatives, Importation of Girls>\n",
    "\n",
    "\n",
    "- I'm aggregating all the district values into corresponding State of different assaults on women. \n",
    "- Aggregating all the State values of different assaults to form reported crimes of that particular year."
   ]
  },
  {
   "cell_type": "code",
   "execution_count": 2,
   "metadata": {},
   "outputs": [],
   "source": [
    "# Like wise.. show values of  all years with grouping each state/ut: India \n",
    "\n",
    "yrs = [2001, 2002, 2003, 2004, 2005, 2006, 2007, 2008, 2009, 2010, 2011, 2012]\n",
    "yrsdata = data1[data1.Year.isin(yrs)]\n",
    "yrs_total = yrsdata[yrsdata.DISTRICT == \"TOTAL\"]\n",
    "yrs_total_delhi = yrsdata[yrsdata.DISTRICT == \"DELHI UT TOTAL\"]\n",
    "yrs_total = pd.concat([yrs_total, yrs_total_delhi])\n",
    "\n",
    "total = yrs_total.sum()\n",
    "#keep it as yrs_total and dont change it to data1.. values will be duplicated.\n",
    "total = yrs_total.groupby(['Year']).sum()\n",
    "total['Year'] = yrs\n"
   ]
  },
  {
   "cell_type": "markdown",
   "metadata": {},
   "source": [
    "Since population data ranges from 2001 to 2011. We need to remove last element from r_total(total rape cases) to maintain consistency because r_total has 12 elements."
   ]
  },
  {
   "cell_type": "code",
   "execution_count": 3,
   "metadata": {},
   "outputs": [],
   "source": [
    "dowryD = total[\"Dowry Deaths\"]\n",
    "dowryD = dowryD.drop(dowryD.index[-1])\n",
    "\n",
    "cruelty = total[\"Cruelty by Husband or his Relatives\"]\n",
    "cruelty = cruelty.drop(cruelty.index[-1])\n",
    "\n",
    "importation = total[\"Importation of Girls\"]\n",
    "importation = importation.drop(importation.index[-1])\n",
    "\n",
    "AOW = total[\"Assault on women with intent to outrage her modesty\"]\n",
    "AOW = AOW.drop(AOW.index[-1])\n",
    "\n",
    "insult = total[\"Insult to modesty of Women\"]\n",
    "insult = insult.drop(insult.index[-1])\n",
    "\n",
    "r_total = total[\"Rape\"]\n",
    "r_total = r_total.drop(r_total.index[-1])\n",
    "\n",
    "kidnap = total[\"Kidnapping and Abduction\"]\n",
    "kidnap = kidnap.drop(kidnap.index[-1])\n",
    "\n",
    "\n",
    "\n",
    "# type(r_total)"
   ]
  },
  {
   "cell_type": "markdown",
   "metadata": {},
   "source": [
    "Reading the population data"
   ]
  },
  {
   "cell_type": "code",
   "execution_count": 4,
   "metadata": {},
   "outputs": [],
   "source": [
    "pop = pd.read_csv('data/pop.csv')\n",
    "pop_total = pop.sum()\n",
    "yearWisePop = list() \n",
    "for i in range (0, 11):\n",
    "    yearWisePop.append(pop_total[str(yrs[i])])"
   ]
  },
  {
   "cell_type": "markdown",
   "metadata": {},
   "source": [
    "### Scipy's Pearson R\n",
    "We are using Scipy library's function pearsonr.\n",
    "##### Calculation Pearson's correlation coefficient measures the linear relationship between two datasets. \n",
    "- Pearson correlation coefficients varies between -1 and +1 with 0 implying no correlation. \n",
    "- Correlations of -1 or +1 imply an exact linear relationship.\n",
    "- Positive correlation imply that as __x increases so does y__.\n"
   ]
  },
  {
   "cell_type": "code",
   "execution_count": 6,
   "metadata": {},
   "outputs": [
    {
     "data": {
      "text/plain": [
       "0.9768003888946082"
      ]
     },
     "execution_count": 6,
     "metadata": {},
     "output_type": "execute_result"
    }
   ],
   "source": [
    "import scipy.stats as sci\n",
    "# Rape cases\n",
    "r_coefficient = sci.pearsonr(yearWisePop, r_total)\n",
    "r_coefficient[0]"
   ]
  },
  {
   "cell_type": "markdown",
   "metadata": {},
   "source": [
    "The value is almost close to 1, which specified that Rape cases reported is highly correlated with population."
   ]
  },
  {
   "cell_type": "markdown",
   "metadata": {},
   "source": [
    "### Dowry Deaths"
   ]
  },
  {
   "cell_type": "code",
   "execution_count": 7,
   "metadata": {},
   "outputs": [
    {
     "data": {
      "text/plain": [
       "0.9156808172941565"
      ]
     },
     "execution_count": 7,
     "metadata": {},
     "output_type": "execute_result"
    }
   ],
   "source": [
    "dowry_coefficient = sci.pearsonr(yearWisePop, dowryD)\n",
    "dowry_coefficient[0]"
   ]
  },
  {
   "cell_type": "markdown",
   "metadata": {},
   "source": [
    "### Cruelty by Husband or his relatives"
   ]
  },
  {
   "cell_type": "code",
   "execution_count": 8,
   "metadata": {},
   "outputs": [
    {
     "data": {
      "text/plain": [
       "0.9776682035355758"
      ]
     },
     "execution_count": 8,
     "metadata": {},
     "output_type": "execute_result"
    }
   ],
   "source": [
    "cruelty_coefficient = sci.pearsonr(yearWisePop, cruelty)\n",
    "cruelty_coefficient[0]"
   ]
  },
  {
   "cell_type": "markdown",
   "metadata": {},
   "source": [
    "### Assault on woman with intent to outgrade her modesty"
   ]
  },
  {
   "cell_type": "code",
   "execution_count": 9,
   "metadata": {},
   "outputs": [
    {
     "data": {
      "text/plain": [
       "0.9314610517843717"
      ]
     },
     "execution_count": 9,
     "metadata": {},
     "output_type": "execute_result"
    }
   ],
   "source": [
    "AOW_coefficient = sci.pearsonr(yearWisePop, AOW)\n",
    "AOW_coefficient[0]"
   ]
  },
  {
   "cell_type": "markdown",
   "metadata": {},
   "source": [
    "### Importation of girls: \n"
   ]
  },
  {
   "cell_type": "code",
   "execution_count": 10,
   "metadata": {},
   "outputs": [
    {
     "data": {
      "text/plain": [
       "-0.42173415607411013"
      ]
     },
     "execution_count": 10,
     "metadata": {},
     "output_type": "execute_result"
    }
   ],
   "source": [
    "importation_coefficient = sci.pearsonr(yearWisePop, importation)\n",
    "importation_coefficient[0]"
   ]
  },
  {
   "cell_type": "markdown",
   "metadata": {},
   "source": [
    "### Insult to modesty of women"
   ]
  },
  {
   "cell_type": "code",
   "execution_count": 11,
   "metadata": {},
   "outputs": [
    {
     "data": {
      "text/plain": [
       "-0.142283787806352"
      ]
     },
     "execution_count": 11,
     "metadata": {},
     "output_type": "execute_result"
    }
   ],
   "source": [
    "insult_coefficient = sci.pearsonr(yearWisePop, insult)\n",
    "insult_coefficient[0]"
   ]
  },
  {
   "cell_type": "markdown",
   "metadata": {},
   "source": [
    "Since the value is negative and close to 0, we can concur that insult to modesty of women is not correlated with the population."
   ]
  },
  {
   "cell_type": "code",
   "execution_count": 24,
   "metadata": {},
   "outputs": [],
   "source": [
    "from scipy import stats\n",
    "slope, intercept, r_value, p_value, std_err= stats.linregress(yearWisePop, r_total)"
   ]
  },
  {
   "cell_type": "markdown",
   "metadata": {},
   "source": [
    "### A linear regression model that predicts the number of rape cases provided the population of the country.\n",
    "\n",
    "__Input data:__ population from 2001-20011 and it's corresponding Rape cases reported at that time.\n",
    "\n",
    "__Libraries used:__ Sklearn, numpy."
   ]
  },
  {
   "cell_type": "code",
   "execution_count": 25,
   "metadata": {},
   "outputs": [],
   "source": [
    "from sklearn.linear_model import LinearRegression\n",
    "import numpy as np\n",
    "r_total=np.asarray(r_total)\n",
    "\n",
    "popList = np.ndarray(shape=(11,))\n",
    "r_numpy =  np.ndarray(shape=(11,))\n",
    "for i in range(0, len(yearWisePop)):\n",
    "    popList[i] =yearWisePop[i]\n",
    "    r_numpy[i]= int(r_total[i])\n",
    "\n",
    "\n",
    "reg = LinearRegression().fit(popList.reshape(-1,1), r_numpy)\n"
   ]
  },
  {
   "cell_type": "markdown",
   "metadata": {},
   "source": [
    "#### We are validating our model by using inbuilt __Score__ function that calculates Y' = reg.predict(X) and then compares Y' to actual Y in the training data. This is done to give an accuracy measure. \n",
    "\n",
    "##### If the value is closer to1, it is said to be accurate."
   ]
  },
  {
   "cell_type": "code",
   "execution_count": 21,
   "metadata": {},
   "outputs": [
    {
     "data": {
      "text/plain": [
       "0.9541389997446578"
      ]
     },
     "execution_count": 21,
     "metadata": {},
     "output_type": "execute_result"
    }
   ],
   "source": [
    "reg.score(popList.reshape(-1,1), r_numpy)"
   ]
  },
  {
   "cell_type": "markdown",
   "metadata": {},
   "source": [
    "### We will predict number of rape cases if the population of the whole country is 1.23 billion."
   ]
  },
  {
   "cell_type": "code",
   "execution_count": 22,
   "metadata": {},
   "outputs": [
    {
     "data": {
      "text/plain": [
       "array([24656.9264845])"
      ]
     },
     "execution_count": 22,
     "metadata": {},
     "output_type": "execute_result"
    }
   ],
   "source": [
    "reg.predict(np.array([[1236005000]]))"
   ]
  },
  {
   "cell_type": "markdown",
   "metadata": {},
   "source": [
    "#### So there are almost 24k rape cases"
   ]
  }
 ],
 "metadata": {
  "kernelspec": {
   "display_name": "Python 3",
   "language": "python",
   "name": "python3"
  },
  "language_info": {
   "codemirror_mode": {
    "name": "ipython",
    "version": 3
   },
   "file_extension": ".py",
   "mimetype": "text/x-python",
   "name": "python",
   "nbconvert_exporter": "python",
   "pygments_lexer": "ipython3",
   "version": "3.7.3"
  }
 },
 "nbformat": 4,
 "nbformat_minor": 2
}
