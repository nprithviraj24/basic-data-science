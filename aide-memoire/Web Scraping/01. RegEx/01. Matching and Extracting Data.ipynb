{
 "cells": [
  {
   "cell_type": "markdown",
   "metadata": {},
   "source": [
    "## Getting Started with RegEx\n",
    "\n",
    "#### Matching a string: Returns True/False depending on whether the string matches the regular expression\n",
    "\n",
    "```python\n",
    "import re\n",
    "re.search() \n",
    "```\n",
    "\n",
    "\n",
    "#### If we actually want the matching strings to be extracted we use\n",
    "```python\n",
    "re.findall() \n",
    "\n",
    "```"
   ]
  },
  {
   "cell_type": "markdown",
   "metadata": {},
   "source": [
    "### Curious Case of Square Brackets:\n",
    "\n",
    "Everything inside square bracket is one characters. \n",
    "\n",
    "We can have a list of things,\n",
    "like AEIOU would be vowels.\n",
    "Zero through nine is digit.\n",
    "So, bracket zero dash nine bracket is a single digit.\n",
    "But then, we added a plus to it and that says one or more digits. \n",
    "\n",
    "\n",
    "```python\n",
    "re.findall( <some expr here>, <string> )\n",
    "\n",
    "```\n",
    "What it does is it runs\n",
    "all the way through the texts that you've asked it to look for,\n",
    "checking to see when this matches,\n",
    "and it gives us back a list of the matches.\n",
    "So, it extracts out the pieces. \n",
    "\n",
    "\n",
    "We get back a list of the matches (if there's a asterisk we will be getting list of empty string) from ```re.findall()``` of all the possible matches. "
   ]
  },
  {
   "cell_type": "code",
   "execution_count": null,
   "metadata": {},
   "outputs": [],
   "source": [
    "import re\n",
    "x = 'My 2 favourite numbers are 19 and 42'\n",
    "y  =re.findall('[0-9]+',x)\n",
    "y"
   ]
  },
  {
   "cell_type": "code",
   "execution_count": 2,
   "metadata": {},
   "outputs": [
    {
     "data": {
      "text/plain": [
       "[]"
      ]
     },
     "execution_count": 2,
     "metadata": {},
     "output_type": "execute_result"
    }
   ],
   "source": [
    "z = re.findall('[AEIOU]+',x)\n",
    "z"
   ]
  },
  {
   "cell_type": "markdown",
   "metadata": {},
   "source": [
    "### Warning: Greedy Matching\n",
    "\n",
    "The repear characters (* and +) push outward in both directions (greedy) to match the largest possible string."
   ]
  },
  {
   "cell_type": "code",
   "execution_count": 3,
   "metadata": {},
   "outputs": [
    {
     "data": {
      "text/plain": [
       "['From: Using the :']"
      ]
     },
     "execution_count": 3,
     "metadata": {},
     "output_type": "execute_result"
    }
   ],
   "source": [
    "import re\n",
    "x = 'From: Using the : characters'\n",
    "y = re.findall('^F.+:', x)\n",
    "y"
   ]
  },
  {
   "cell_type": "markdown",
   "metadata": {},
   "source": [
    "What if we wanted to search only for string 'From:', not the whole redundant stuff that comes along with it. "
   ]
  },
  {
   "cell_type": "markdown",
   "metadata": {},
   "source": [
    "#### Non-Greedy Matching\n",
    "\n",
    "Not all regular expression repeat codes are greedy! If you add a `?` character, the `+` and `*` will stop being pushy (i.e forcefully find the largest string possible to match with) "
   ]
  },
  {
   "cell_type": "code",
   "execution_count": 4,
   "metadata": {},
   "outputs": [
    {
     "data": {
      "text/plain": [
       "['From:']"
      ]
     },
     "execution_count": 4,
     "metadata": {},
     "output_type": "execute_result"
    }
   ],
   "source": [
    "### Example of Non-Greedy\n",
    "\n",
    "## First character in the is an F, \n",
    "## + indicates to match for One or more characters\n",
    "## Last character in the match is colon (:)\n",
    "z = re.findall('F.+?:', x)\n",
    "z"
   ]
  },
  {
   "cell_type": "code",
   "execution_count": 5,
   "metadata": {},
   "outputs": [
    {
     "name": "stdout",
     "output_type": "stream",
     "text": [
      "['nprithviraj24@gmail.com']\n",
      "['nprithviraj24@g']\n"
     ]
    }
   ],
   "source": [
    "### EXtracting email in greedy and non-greedy way\n",
    "example =  'From nprithviraj24@gmail.com to asdf246'\n",
    "greedy = re.findall('\\S+@\\S+', example); print(greedy)\n",
    "non_greedy = re.findall('[\\S]+?@[\\S]+?', example); print(non_greedy)"
   ]
  },
  {
   "cell_type": "markdown",
   "metadata": {},
   "source": [
    "### Fine Tuning String Extraction\n",
    "\n",
    "`Parantheses` are not part of the match - but they tell where to start and stop what stringt to extract. Following examples.\n",
    "\n"
   ]
  },
  {
   "cell_type": "code",
   "execution_count": 6,
   "metadata": {},
   "outputs": [
    {
     "data": {
      "text/plain": [
       "['nprithviraj24@gmail.com']"
      ]
     },
     "execution_count": 6,
     "metadata": {},
     "output_type": "execute_result"
    }
   ],
   "source": [
    "fullmail = re.findall('^From (\\S+@\\S+)', example)\n",
    "fullmail"
   ]
  },
  {
   "cell_type": "code",
   "execution_count": 7,
   "metadata": {},
   "outputs": [
    {
     "data": {
      "text/plain": [
       "[]"
      ]
     },
     "execution_count": 7,
     "metadata": {},
     "output_type": "execute_result"
    }
   ],
   "source": [
    "re.findall('@(\\S+@\\S+)', example)"
   ]
  },
  {
   "cell_type": "markdown",
   "metadata": {},
   "source": [
    "```\n",
    "'^From (\\S+@\\S+)'\n",
    "```\n",
    "\n",
    "\n",
    "what I'm doing is I'm saying,\n",
    "start extracting after the space.\n",
    "`(^From` is part of the match but the extracted part starts here, `(\\S+ ...)` and then the extracted part ends at closed parantheses.\n",
    "\n",
    "\n",
    "So, that says, this is the part that I\n",
    "want to extracted even though I demand `^From` to match.\n",
    "So, I'm demanding, I'm extracting less than what I'm matching.\n",
    "I'm using the matching to be very precise as to the lines I want,\n",
    "and then I'm using the parentheses that I add to pull out what I want.\n",
    "So, here I get back exactly the email address. "
   ]
  },
  {
   "cell_type": "code",
   "execution_count": 8,
   "metadata": {},
   "outputs": [
    {
     "data": {
      "text/plain": [
       "['gmail.com']"
      ]
     },
     "execution_count": 8,
     "metadata": {},
     "output_type": "execute_result"
    }
   ],
   "source": [
    "mail = re.findall('@([^ ]*)', example); mail\n",
    "### Match a non-black character -  `[^ ]`\n",
    "### MAtch many of them - `*`"
   ]
  },
  {
   "cell_type": "markdown",
   "metadata": {},
   "source": [
    "```\n",
    "'@([^ ]*)'\n",
    "```\n",
    "find me an `@` sign,\n",
    "followed by some number of non-blank characters.\n",
    "I don't want to extract the at sign,\n",
    "see where I put the parentheses,\n",
    "I want to start extracting after the at sign\n",
    "and up to the rest of those non-blank characters. \n",
    "\n",
    "Also `[^ ]*`\n",
    "\n",
    "Match a non-blank character, that's with the brackets,\n",
    "so that's another syntax and that is,\n",
    "this is a single character but if the first letter\n",
    "of the set inside there is the character,\n",
    "that means not, everything but.\n",
    "So, that means everything but a space, that's non-blank"
   ]
  },
  {
   "cell_type": "markdown",
   "metadata": {},
   "source": [
    "### Fine tune \n",
    "\n",
    "```\n",
    "'^From .*@([^ ]*)'\n",
    "```\n",
    "\n",
    "fine tune this by saying I want to start with `^From` in the line,\n",
    "I want to have a space,\n",
    "but I want any number of characters - ` .*` up to an `@` i.e. `^From .*@`\n",
    "and then I want to begin extracting all the non-blank characters, `([^ ]*`\n",
    "and then end extracting i.e. `([^ ]*)` (closed parantheses). \n",
    "\n",
    "Important NOTE:\n",
    "\n",
    "So, if you if you didn't have a `From .... ` line,\n",
    "you would get nothing back,\n",
    "and you're not finding email addresses in the middle of text,\n",
    "you're just finding email addresses on lines that start with `From` space"
   ]
  },
  {
   "cell_type": "markdown",
   "metadata": {},
   "source": [
    "#### Escape Character\n",
    "\n",
    "If we want a special regular expression character to just behave normally, we prefix it with\n",
    "` \\`"
   ]
  },
  {
   "cell_type": "code",
   "execution_count": 9,
   "metadata": {},
   "outputs": [
    {
     "data": {
      "text/plain": [
       "['$10']"
      ]
     },
     "execution_count": 9,
     "metadata": {},
     "output_type": "execute_result"
    }
   ],
   "source": [
    "dollar = ' Ten dollar is $10'\n",
    "y = re.findall('\\$[0-9]+', dollar)\n",
    "y"
   ]
  }
 ],
 "metadata": {
  "kernelspec": {
   "display_name": "Python 3",
   "language": "python",
   "name": "python3"
  },
  "language_info": {
   "codemirror_mode": {
    "name": "ipython",
    "version": 3
   },
   "file_extension": ".py",
   "mimetype": "text/x-python",
   "name": "python",
   "nbconvert_exporter": "python",
   "pygments_lexer": "ipython3",
   "version": "3.7.4"
  }
 },
 "nbformat": 4,
 "nbformat_minor": 4
}
