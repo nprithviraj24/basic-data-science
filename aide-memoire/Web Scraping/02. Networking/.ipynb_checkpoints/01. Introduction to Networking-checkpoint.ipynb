{
 "cells": [
  {
   "cell_type": "markdown",
   "metadata": {},
   "source": [
    "Since TCP (and Python) gives us a reliable socket, what do we want to do with socket?\n",
    "\n",
    "- Application Protocols\n",
    "    - Mail\n",
    "    - World wide web\n",
    "\n",
    "#### What is a Protocol and Why should we use it?\n",
    "\n",
    "- A set of rules that all parties follow so we can predict each other's behaviour.\n",
    "\n",
    "- And not bump into each other\n",
    "    - On two-way roads, drive on left-hand side of the road.\n",
    "    - On two-way roads in different countries, drive on the right-hand side of the country.\n",
    "    \n",
    " - It helps us maintain a regime for standard way to transfer data.\n",
    " \n",
    "    \n",
    "### HyperText Transfer Protocol\n",
    "\n",
    "The HypetText Transfer Protocol is the set of rules to allow browsers to retrieve web documents from servers over the internet of rules\n",
    "\n",
    "\n",
    "- The dominant application layer protocol on the Internet.\n",
    "\n",
    "- Invented for the Web - to Retrieve HTML, Images, Documents etc\n",
    "\n",
    "- Extended to be data in addition to documents- RSS, Web Services, etc. Basic concept\n",
    "        - Make Connection\n",
    "        - Request a document\n",
    "        - Retrieve the Document\n",
    "        - Close the connection\n",
    "        \n",
    "\n",
    "Generally, internet browser has to be the one dealing with all this. If you are building one, ensure that you comply with HTTP protocols in order to connect to the internet.\n",
    "\n"
   ]
  },
  {
   "cell_type": "markdown",
   "metadata": {},
   "source": [
    "### URLs\n",
    "\n",
    "One of the things that HTTP standardize, was this protocol of Uniform Resource Locators or URLs. \n",
    "\n",
    "![](./images/URL.png)"
   ]
  },
  {
   "cell_type": "markdown",
   "metadata": {},
   "source": [
    "#### Getting Data From the Server\n",
    "\n",
    "Each user clicks on an anchor tag with an href= value to switch to a new page, the browser makes a connection to the web server and issues a \"GET\" request - to GET the content of the page at the specified URL\n",
    "\n",
    "\n",
    "The server returns the HTML document to the Browser which formats and displays the documents to the user."
   ]
  },
  {
   "cell_type": "markdown",
   "metadata": {},
   "source": [
    "#### Request Response Cycle\n",
    "\n",
    "![](./images/request-response.png)"
   ]
  },
  {
   "cell_type": "markdown",
   "metadata": {},
   "source": [
    "### REQUEST\n",
    "\n",
    "- From the HTTP RFC\n",
    "\n",
    "![](./images/Request.png)\n",
    "\n",
    "\n",
    "\n",
    "#### Making a HTTP Request\n",
    "\n",
    "```\n",
    "<GET/POST..>   <URL>  <PROTOCOL>\n",
    "```\n",
    "\n",
    "\n",
    "![](./images/making_a_http_request.png)\n"
   ]
  },
  {
   "cell_type": "markdown",
   "metadata": {},
   "source": [
    "#### Using Telnet we can do the same thing.\n",
    "\n",
    "##### Hacking Networks\n",
    "\n",
    "Make connections, send stuff on those connections \n",
    "\n",
    "Reference: [Matrix movie](http://nmap.org/movies.html)"
   ]
  },
  {
   "cell_type": "markdown",
   "metadata": {},
   "source": [
    "### Following: HTTP Request in Python"
   ]
  },
  {
   "cell_type": "code",
   "execution_count": null,
   "metadata": {},
   "outputs": [],
   "source": [
    "import socket\n",
    "\n",
    "# mysock = socket.socket(socket.AF_INET, socket.SOCK_STREAM)\n",
    "# mysock.connect(('127.0.0.1', 8888))"
   ]
  },
  {
   "cell_type": "markdown",
   "metadata": {},
   "source": [
    "### The above code creates a socket that the following diagram illustrates.\n",
    "\n",
    "```python\n",
    "# By importing socket library, we are creating a porthole\n",
    "import socket\n",
    "\n",
    "# It's like a doorway out of your computer, \n",
    "# but the doorways not open and the doorways not connected to it yet. \n",
    "```\n",
    "- Socket is a object (i.e. instance of a class). \n",
    "- The cloud is the website (In the image \n",
    "\n",
    "\n",
    "```python\n",
    "mysock = socket.socket(socket.AF_INET, socket.SOCK_STREAM)\n",
    "mysock.connect(('127.0.0.1', 8888))\n",
    "# socket object is now connected, and now it can send and recieve.\n",
    "```\n",
    "\n",
    "![](./images/socket.png)"
   ]
  },
  {
   "cell_type": "code",
   "execution_count": null,
   "metadata": {},
   "outputs": [],
   "source": [
    "### Request Response example\n",
    "''' open a socket, send a command, and then retrieve the data.'''\n",
    "\n",
    "\n",
    "target_host = \"http://data.pr4e.org/page1.htm\" \n",
    " \n",
    "target_port = 80  # create a socket object \n",
    "client = socket.socket(socket.AF_INET, socket.SOCK_STREAM)  \n",
    " \n",
    "# connect the client \n",
    "client.connect((target_host,target_port))  \n",
    " \n",
    "# send some data using HTTP protocol\n",
    "request = \"GET http://data.pr4e.org/page1.htm HTTP/1.0\\n\\n\"\n",
    "client.send(request.encode())  \n",
    " \n",
    "# receive some data \n",
    "# response = client.recv(512)  \n",
    "http_response = repr(response)\n",
    "http_response_len = len(http_response)\n",
    " \n",
    "#display the response\n",
    "while True:\n",
    "    data = client.recv(512)\n",
    "    if (http_response_len < 1):\n",
    "        print(\"break\")\n",
    "        break\n",
    "        \n",
    "    print(data.decode())\n",
    "client.close()\n",
    "\n",
    "\n",
    "### The response will be same that of Telnet"
   ]
  },
  {
   "cell_type": "markdown",
   "metadata": {},
   "source": [
    "```python\n",
    ".encode()\n",
    "```\n",
    "We encode the request because there are strings inside of Python that are in unicode, and\n",
    "we have to send them out is what's called UTF-8. And encode converts from unicode internally to UTF-8. "
   ]
  }
 ],
 "metadata": {
  "kernelspec": {
   "display_name": "Python 3",
   "language": "python",
   "name": "python3"
  },
  "language_info": {
   "codemirror_mode": {
    "name": "ipython",
    "version": 3
   },
   "file_extension": ".py",
   "mimetype": "text/x-python",
   "name": "python",
   "nbconvert_exporter": "python",
   "pygments_lexer": "ipython3",
   "version": "3.7.4"
  }
 },
 "nbformat": 4,
 "nbformat_minor": 4
}
