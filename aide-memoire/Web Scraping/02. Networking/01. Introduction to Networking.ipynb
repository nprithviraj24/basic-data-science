{
 "cells": [
  {
   "cell_type": "markdown",
   "metadata": {},
   "source": [
    "## Sockets\n",
    "\n",
    "Since TCP (and Python) gives us a reliable socket, what do we want to do with socket?\n",
    "\n",
    "- Application Protocols\n",
    "    - Mail\n",
    "    - World wide web\n",
    "\n",
    "#### What is a Protocol and Why should we use it?\n",
    "\n",
    "- A set of rules that all parties follow so we can predict each other's behaviour.\n",
    "\n",
    "- And not bump into each other\n",
    "    - On two-way roads, drive on left-hand side of the road.\n",
    "    - On two-way roads in different countries, drive on the right-hand side of the country.\n",
    "    \n",
    " - It helps us maintain a regime for standard way to transfer data.\n",
    " \n",
    "    \n",
    "### HyperText Transfer Protocol\n",
    "\n",
    "The HypetText Transfer Protocol is the set of rules to allow browsers to retrieve web documents from servers over the internet of rules\n",
    "\n",
    "\n",
    "- The dominant application layer protocol on the Internet.\n",
    "\n",
    "- Invented for the Web - to Retrieve HTML, Images, Documents etc\n",
    "\n",
    "- Extended to be data in addition to documents- RSS, Web Services, etc. Basic concept\n",
    "        - Make Connection\n",
    "        - Request a document\n",
    "        - Retrieve the Document\n",
    "        - Close the connection\n",
    "        \n",
    "\n",
    "Generally, internet browser has to be the one dealing with all this. If you are building one, ensure that you comply with HTTP protocols in order to connect to the internet.\n",
    "\n"
   ]
  },
  {
   "cell_type": "markdown",
   "metadata": {},
   "source": [
    "### URLs\n",
    "\n",
    "One of the things that HTTP standardize, was this protocol of Uniform Resource Locators or URLs. \n",
    "\n",
    "![](./images/URL.png)"
   ]
  },
  {
   "cell_type": "markdown",
   "metadata": {},
   "source": [
    "#### Getting Data From the Server\n",
    "\n",
    "Each user clicks on an anchor tag with an ``href=`` value to switch to a new page, the browser makes a connection to the web server and issues a \"GET\" request - to GET the content of the page at the specified URL\n",
    "\n",
    "\n",
    "The server returns the HTML document to the Browser which formats and displays the documents to the user."
   ]
  },
  {
   "cell_type": "markdown",
   "metadata": {},
   "source": [
    "#### Request Response Cycle\n",
    "\n",
    "![](./images/request-response.png)"
   ]
  },
  {
   "cell_type": "markdown",
   "metadata": {},
   "source": [
    "### REQUEST\n",
    "\n",
    "- From the HTTP RFC\n",
    "\n",
    "![](./images/Request.png)\n",
    "\n",
    "\n",
    "\n",
    "#### Making a HTTP Request\n",
    "\n",
    "```\n",
    "<GET/POST..>   <URL>  <PROTOCOL>\n",
    "```\n",
    "\n",
    "\n",
    "![](./images/making_a_http_request.png)\n"
   ]
  },
  {
   "cell_type": "markdown",
   "metadata": {},
   "source": [
    "#### Using Telnet we can do the same thing.\n",
    "\n",
    "##### Hacking Networks\n",
    "\n",
    "Make connections, send stuff on those connections \n",
    "\n",
    "Reference: [Matrix movie](http://nmap.org/movies.html)"
   ]
  },
  {
   "cell_type": "markdown",
   "metadata": {},
   "source": [
    "### Following: HTTP Request in Python"
   ]
  },
  {
   "cell_type": "code",
   "execution_count": 2,
   "metadata": {},
   "outputs": [],
   "source": [
    "import socket\n",
    "\n",
    "# mysock = socket.socket(socket.AF_INET, socket.SOCK_STREAM)\n",
    "# mysock.connect(('127.0.0.1', 8888))"
   ]
  },
  {
   "cell_type": "markdown",
   "metadata": {},
   "source": [
    "### The above code creates a socket that the following diagram illustrates.\n",
    "\n",
    "```python\n",
    "# By importing socket library, we are creating a porthole\n",
    "import socket\n",
    "\n",
    "# It's like a doorway out of your computer, \n",
    "# but the doorways not open and the doorways not connected to it yet. \n",
    "```\n",
    "- Socket is a object (i.e. instance of a class). \n",
    "- The cloud is the website (In the image \n",
    "\n",
    "\n",
    "```python\n",
    "mysock = socket.socket(socket.AF_INET, socket.SOCK_STREAM)\n",
    "mysock.connect(('127.0.0.1', 8888))\n",
    "# socket object is now connected, and now it can send and recieve.\n",
    "```\n",
    "\n",
    "![](./images/socket.png)"
   ]
  },
  {
   "cell_type": "code",
   "execution_count": 14,
   "metadata": {},
   "outputs": [
    {
     "name": "stdout",
     "output_type": "stream",
     "text": [
      "HTTP/1.1 200 OK\n",
      "Date: Sat, 04 Jul 2020 12:18:03 GMT\n",
      "Server: Apache/2.4.18 (Ubuntu)\n",
      "Last-Modified: Sat, 13 May 2017 11:22:22 GMT\n",
      "ETag: \"1d3-54f6609240717\"\n",
      "Accept-Ranges: bytes\n",
      "Content-Length: 467\n",
      "Cache-Control: max-age=0, no-cache, no-store, must-revalidate\n",
      "Pragma: no-cache\n",
      "Expires: Wed, 11 Jan 1984 05:00:00 GMT\n",
      "Connection: close\n",
      "Content-Type: text/plain\n",
      "\n",
      "Why should you learn to write programs?\n",
      "\n",
      "Writing programs (or programming) is a very creative \n",
      "and rewarding activity.  You can write programs for \n",
      "many reasons, ranging from making your living to solving\n",
      "a difficult data analysis problem to having fun to helping\n",
      "someone else solve a problem.  This book assumes that \n",
      "everyone needs to know how to program, and that once \n",
      "you know how to program you will figure out what you want \n",
      "to do with your newfound skills.  \n"
     ]
    }
   ],
   "source": [
    "import socket\n",
    "\n",
    "mysock = socket.socket(socket.AF_INET, socket.SOCK_STREAM)\n",
    "mysock.connect(('data.pr4e.org', 80))\n",
    "cmd = 'GET http://data.pr4e.org/intro-short.txt HTTP/1.0\\r\\n\\r\\n'.encode()\n",
    "mysock.send(cmd)\n",
    "\n",
    "while True:\n",
    "    data = mysock.recv(512)\n",
    "    if len(data) < 1:\n",
    "        break\n",
    "    print(data.decode(),end='')\n",
    "\n",
    "mysock.close()"
   ]
  },
  {
   "cell_type": "markdown",
   "metadata": {},
   "source": [
    "```python\n",
    ".encode()\n",
    "```\n",
    "We encode the request because there are strings inside of Python that are in unicode, and\n",
    "we have to send them out is what's called UTF-8. And encode converts from unicode internally to UTF-8. "
   ]
  },
  {
   "cell_type": "markdown",
   "metadata": {},
   "source": [
    "### Unicodes\n",
    "\n",
    "Since computers only understand numbers, we have to find a way to represent each of these letters/symbols/numbers to the standard number that it understand. \n",
    "\n",
    "One of the most early implementation of \"encoding\" was ASCII.\n",
    "\n",
    "\n",
    "### Representing Simple Strings\n",
    "\n",
    "- Each character is represented by a number netween 0 and 256 stored in 8 bits of memory.\n",
    "\n",
    "- We refer to \"8 bits of memory as a \"byte\" of memory - (i.e. my dis drive contains 3 Terabytes of memory)\n",
    "\n",
    "- The `ord()` function tells us the numberic value of a simple ASCII character."
   ]
  },
  {
   "cell_type": "code",
   "execution_count": 12,
   "metadata": {},
   "outputs": [
    {
     "name": "stdout",
     "output_type": "stream",
     "text": [
      "72 , new line:10\n"
     ]
    }
   ],
   "source": [
    "print(str(ord('H'))+' , new line:'+str(ord('\\n')))"
   ]
  },
  {
   "cell_type": "markdown",
   "metadata": {},
   "source": [
    "![](./images/kinds-of-string.png)"
   ]
  },
  {
   "cell_type": "markdown",
   "metadata": {},
   "source": [
    "### Multi-Byte Characters\n",
    "\n",
    "Byte : 8 bits of character!\n",
    "\n",
    "\n",
    "To represent the wide range of characters computers must handle we represent characyers with more than one byte.\n",
    "\n",
    "- UTF-16 - Fixed length - Takes two bytes represent a character.\n",
    "- UTF-32 - Fixed length - Takes Four bytes to represent each character.\n",
    "- UTF-8 - Variable length with a \"seperator\"\n",
    "    - Upwards compatible with ASCII\n",
    "    - Automatic detection between ASCII and UTF-8\n",
    "\n",
    "UTF-8 is recommended practice for encoding data to be exchanged between systems.\n",
    "\n",
    "### Why?\n",
    "\n",
    "Suppose you have a 16GB pendrive by the way, a 16 gigabyte USB stick, that means there are 16 billion bytes of memory on there. So we can input 16 billion ASCII characters.\n",
    "\n",
    "If UTF-32 is used to encode the characters, we can only use 4 billion characters.\n",
    "\n",
    "In case of UTF-16, 8 billion characters only.\n",
    "\n",
    "But in case of UTF-8, which encodes character depending on the type of character, we can encode somewhere between 4-16 billion characters depending on the characters that we are storing."
   ]
  },
  {
   "cell_type": "markdown",
   "metadata": {},
   "source": [
    "### Byte string vs Unicode in Python\n",
    "\n",
    "Following pictures shouws how a byte string is represented in Python2 and 3\n",
    "\n",
    "![](./images/byte.png)\n",
    "\n",
    "\n",
    "However, inside Python everything is Unicode.\n",
    "\n",
    "#### Byte String\n",
    "\n",
    "Byte String  is raw, unencoded, that might be UTF-8, might be UTF-16, it might be ASCII.\n",
    "We don't know what it is, we don't know what its encoding is. \n",
    "\n",
    "\n",
    "In Python3, all string internall are UNICODE.\n",
    "\n",
    "Working with string variables in Python programs and reading data from files usually \"just works\"\n",
    "\n",
    "When we talk to a network resource using sockets or talk to a database we have to encode and decode data (usually to UTF-8)\n",
    "\n",
    "\n",
    "### Decoding\n",
    "\n",
    "We have to realise what kind of stuff are we pulling in, and most of the websites use utf-8.\n",
    "\n",
    "\n",
    "### Python Strings to Bytes\n",
    "\n",
    "- When we talk to an external resource like a network socket we send bytes, so we need to encode Python3 strings into a given character encoding.\n",
    "\n",
    "- When we read data from an external resource, we must decode it based on the charaacter se tos it properly represented in Python3 as a string.\n",
    "\n",
    "\n",
    "```python\n",
    "while True:\n",
    "    data = mysock.recv(512) ## Here type(data) is bytes\n",
    "    if (len(data) <1):\n",
    "        break\n",
    "    mystring = data.decode()\n",
    "    print(mystring)\n",
    "\n",
    "```\n",
    "\n",
    "assumes UTF-8 by default, but we can mention it in the argument.\n",
    "```\n",
    ".decode()  # -> Goes from bytes (data) to unicode (mystring)\n",
    "```\n",
    "\n",
    "Similarly, ``` encode()```  takes the string and makes it into bytes, and assumes to encode in UTF-8 by default.\n",
    "\n",
    "\n",
    "![](./images/encode-decode.png)\n"
   ]
  },
  {
   "cell_type": "markdown",
   "metadata": {},
   "source": [
    "#### Sending and Recieving data\n",
    "\n",
    "\n",
    "![](./images/send-recieve.png)\n",
    "\n",
    "\n",
    "\n",
    "We assume that data we recieve from the Network encodes it in UTF-8 (if we are not passing arguments through our encode and decode functions)\n"
   ]
  },
  {
   "cell_type": "code",
   "execution_count": null,
   "metadata": {},
   "outputs": [],
   "source": []
  }
 ],
 "metadata": {
  "kernelspec": {
   "display_name": "Python 3",
   "language": "python",
   "name": "python3"
  },
  "language_info": {
   "codemirror_mode": {
    "name": "ipython",
    "version": 3
   },
   "file_extension": ".py",
   "mimetype": "text/x-python",
   "name": "python",
   "nbconvert_exporter": "python",
   "pygments_lexer": "ipython3",
   "version": "3.7.6"
  }
 },
 "nbformat": 4,
 "nbformat_minor": 4
}
