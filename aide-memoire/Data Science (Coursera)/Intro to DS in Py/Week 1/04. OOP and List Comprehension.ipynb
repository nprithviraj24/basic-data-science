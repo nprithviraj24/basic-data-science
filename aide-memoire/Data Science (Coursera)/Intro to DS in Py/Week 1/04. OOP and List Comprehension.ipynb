{
 "cells": [
  {
   "cell_type": "markdown",
   "metadata": {},
   "source": [
    "### Class in Python"
   ]
  },
  {
   "cell_type": "code",
   "execution_count": 1,
   "metadata": {},
   "outputs": [],
   "source": [
    "class Animal:\n",
    "    category = 'Dog'\n",
    "    \n",
    "    def set_breed(self, new_breed):\n",
    "        self.breed = new_breed\n",
    "    \n",
    "    def set_raised(self, new_type):\n",
    "        self.raised = new_type\n"
   ]
  },
  {
   "cell_type": "code",
   "execution_count": 2,
   "metadata": {},
   "outputs": [
    {
     "name": "stdout",
     "output_type": "stream",
     "text": [
      "Today I saw a Alsatian breed Dog, which seemed like a Pet Dog.\n"
     ]
    }
   ],
   "source": [
    "dog = Animal()\n",
    "\n",
    "dog.set_breed('Alsatian')\n",
    "dog.set_raised('Pet')\n",
    "\n",
    "print('Today I saw a {} breed {}, which seemed like a {} {}.'.format(dog.breed, dog.category, dog.raised, dog.category) )"
   ]
  },
  {
   "cell_type": "markdown",
   "metadata": {},
   "source": [
    "###  Mapping the `min`/`max` function between two list\n",
    "\n",
    "Compares index values of two different list with same size to find the `min` or `max` value out of two. \n",
    "\n",
    "#### if anything is not subscriptable, convert it to list"
   ]
  },
  {
   "cell_type": "code",
   "execution_count": 3,
   "metadata": {},
   "outputs": [
    {
     "data": {
      "text/plain": [
       "<map at 0x7f18f8070a50>"
      ]
     },
     "execution_count": 3,
     "metadata": {},
     "output_type": "execute_result"
    }
   ],
   "source": [
    "store1 = [10.00, 11.00, 12.34, 2.34]\n",
    "store2 = [9.00, 11.10, 12.34, 2.01]\n",
    "cheapest = map(min, store1, store2)\n",
    "cheapest"
   ]
  },
  {
   "cell_type": "code",
   "execution_count": 4,
   "metadata": {},
   "outputs": [
    {
     "name": "stdout",
     "output_type": "stream",
     "text": [
      "9.0\n",
      "11.0\n",
      "12.34\n",
      "2.01\n"
     ]
    }
   ],
   "source": [
    "for item in cheapest:\n",
    "    print(item)"
   ]
  },
  {
   "cell_type": "markdown",
   "metadata": {},
   "source": [
    "### Lambda\n",
    "\n",
    "`lambda` can beone time use, and more often used as throw away functions which won't have a name.\n",
    "<br>\n",
    "Here's an example of lambda that takes in three parameters and adds the first two.\n",
    "\n",
    "```python\n",
    "\n",
    ">>> a = lambda x : 1 + x\n",
    ">>> a(5)\n",
    "6\n",
    "\n",
    "```\n",
    "\n",
    "#### Nested Function:\n",
    "\n",
    "```python\n",
    ">>> def b(x): return 1 + x\n",
    ">>> b(5)\n",
    "6\n",
    "```\n",
    "\n",
    "Two Differences:\n",
    "\n",
    "The first is about what they do and what they return:\n",
    "\n",
    " - `def` is a keyword that doesn't return anything and creates a 'name' in the local namespace.\n",
    "\n",
    " - `lambda` is a keyword that returns a function object and does not create a 'name' in the local namespace.\n",
    "\n",
    "The second difference is about what the actual function is allowed to do.\n",
    "\n",
    "- A function defined with `def` can contain any python code\n",
    "- A function defined with `lambda` has to evaluate to an expression, and can thus not contain statements like `print`, `import`, `raise`, ...\n",
    "\n",
    "\n",
    "```def p(x): print(x)``` Works as expected\n",
    "\n",
    "\n",
    "```lambda x: print(x)``` is a SyntaxError\n",
    "\n",
    "\n",
    "Hence, if you need to call a function that takes a function object, the only way to do that in one line of python code is with a lambda. There's no equivalent with def.\n"
   ]
  },
  {
   "cell_type": "code",
   "execution_count": 5,
   "metadata": {},
   "outputs": [
    {
     "data": {
      "text/plain": [
       "3"
      ]
     },
     "execution_count": 5,
     "metadata": {},
     "output_type": "execute_result"
    }
   ],
   "source": [
    "my_function = lambda a, b, c : a + b\n",
    "my_function (1,2,3)"
   ]
  },
  {
   "cell_type": "markdown",
   "metadata": {},
   "source": [
    "### Loops vs List comprehensions"
   ]
  },
  {
   "cell_type": "code",
   "execution_count": 6,
   "metadata": {},
   "outputs": [],
   "source": [
    "my_list = []\n",
    "for number in range(0, 1000):\n",
    "    if number % 2 == 0:\n",
    "        my_list.append(number)\n",
    "# my_list"
   ]
  },
  {
   "cell_type": "code",
   "execution_count": 7,
   "metadata": {},
   "outputs": [],
   "source": [
    "my_list = [number for number in range(0,100) if number%2 == 0]"
   ]
  },
  {
   "cell_type": "markdown",
   "metadata": {},
   "source": [
    "The builtins map() and filter() need function objects, but list comprehensions and generator expressions are generally more readable than those functions and can cover all use cases, without the need of lambdas. "
   ]
  },
  {
   "cell_type": "code",
   "execution_count": null,
   "metadata": {},
   "outputs": [],
   "source": []
  }
 ],
 "metadata": {
  "kernelspec": {
   "display_name": "Python 3",
   "language": "python",
   "name": "python3"
  },
  "language_info": {
   "codemirror_mode": {
    "name": "ipython",
    "version": 3
   },
   "file_extension": ".py",
   "mimetype": "text/x-python",
   "name": "python",
   "nbconvert_exporter": "python",
   "pygments_lexer": "ipython3",
   "version": "3.7.4"
  }
 },
 "nbformat": 4,
 "nbformat_minor": 4
}
