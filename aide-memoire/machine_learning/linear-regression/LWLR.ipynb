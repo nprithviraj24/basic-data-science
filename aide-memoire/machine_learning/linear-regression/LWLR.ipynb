{
 "cells": [
  {
   "cell_type": "code",
   "execution_count": 8,
   "metadata": {},
   "outputs": [
    {
     "data": {
      "text/plain": [
       "3.059915354781435"
      ]
     },
     "execution_count": 8,
     "metadata": {},
     "output_type": "execute_result"
    }
   ],
   "source": [
    "import numpy as np\n",
    "\n",
    "x = np.random.uniform(0,6,300)\n",
    "y = np.sin(np.pi * x/2) + np.random.normal(0,0.25,300)\n",
    "\n",
    "W = np.array(300,)\n",
    "# fig1 = plt.figure()\n",
    "# # ax = plt.axes()\n",
    "# plt.grid(axis='both', alpha=.25)\n",
    "# plt.plot(x,y,'b.')\n",
    "# # print(y)\n",
    "\n",
    "\n",
    "train_split = len(x) *80 /100\n",
    "test_split = len(x) * 20/100\n",
    "\n",
    "\n",
    "train_x, train_y = x[:int(train_split)], y[:int(train_split)]\n",
    "validation_x, validation_y = x[int(train_split):], y[int(train_split):]\n",
    "# validation_y.shape\n",
    "validation_x[0]"
   ]
  },
  {
   "cell_type": "code",
   "execution_count": 30,
   "metadata": {},
   "outputs": [
    {
     "name": "stdout",
     "output_type": "stream",
     "text": [
      "(240,)\n",
      "(2, 240)\n",
      "(2, 240)\n"
     ]
    }
   ],
   "source": [
    "tau = 0.2\n",
    "theta = np.empty((len(train_x)+1, 2))\n",
    "# def local_regression(x0, X, Y, tau):\n",
    "for i in range(1):\n",
    "    # add bias term\n",
    "    x0 = np.r_[1, validation_x[i]]\n",
    "#     print(x0.shape)\n",
    "    X = np.c_[np.ones(len(train_x)), train_x]\n",
    "    \n",
    "    # fit model: normal equations with kernel\n",
    "    xw = X.T * radial_kernel(x0, X, tau)\n",
    "    print(radial_kernel(x0,X,tau).shape)\n",
    "    print(X.T.shape)\n",
    "    print(xw.shape)\n",
    "    theta = np.linalg.pinv(xw.T * X)\n",
    "    \n",
    "    # predict value\n",
    "    "
   ]
  },
  {
   "cell_type": "code",
   "execution_count": 5,
   "metadata": {},
   "outputs": [],
   "source": [
    "def radial_kernel(x0, X, tau):\n",
    "    return np.exp(np.sum((X - x0) ** 2, axis=1) / (-2 * tau * tau))"
   ]
  },
  {
   "cell_type": "code",
   "execution_count": 4,
   "metadata": {},
   "outputs": [],
   "source": [
    "n = 1000\n",
    "\n",
    "# generate dataset\n",
    "X = np.linspace(-3, 3, num=n)\n",
    "Y = np.log(np.abs(X ** 2 - 1) + .5)\n",
    "\n",
    "# jitter X\n",
    "X += np.random.normal(scale=.1, size=n)"
   ]
  },
  {
   "cell_type": "code",
   "execution_count": null,
   "metadata": {},
   "outputs": [],
   "source": []
  }
 ],
 "metadata": {
  "kernelspec": {
   "display_name": "Python 3",
   "language": "python",
   "name": "python3"
  },
  "language_info": {
   "codemirror_mode": {
    "name": "ipython",
    "version": 3
   },
   "file_extension": ".py",
   "mimetype": "text/x-python",
   "name": "python",
   "nbconvert_exporter": "python",
   "pygments_lexer": "ipython3",
   "version": "3.7.3"
  }
 },
 "nbformat": 4,
 "nbformat_minor": 2
}
