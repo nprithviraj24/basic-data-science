{
 "cells": [
  {
   "cell_type": "markdown",
   "metadata": {},
   "source": [
    "### Background check\n",
    "\n",
    "Locally weighted linear regression is a non-parametric method for fitting data points. What does that mean?\n",
    "\n",
    "- Instead of fitting a single regression line, you fit many linear regression models. The final resulting smooth curve is the product of all those regression models.\n",
    "- Obviously, we can't fit the same linear model again and again. Instead, for each linear model we want to fit, we find a point x and use that for fitting a local regression model.\n",
    "- We find points that closest to x to fit each of our local regression model. That's why you'll see the algorithm is also known as nearest neighbours algorithm in the literature.\n",
    "\n",
    "Now, if your data points have the x-values from 1 to 100: [1,2,3 ... 98, 99, 100]. The algorithm would fit a linear model for 1,2,3...,98,99,100. That means, you'll have 100 regression models.\n",
    "\n",
    "Source: Stackoverflow"
   ]
  },
  {
   "cell_type": "code",
   "execution_count": 2,
   "metadata": {},
   "outputs": [
    {
     "data": {
      "image/png": "[encoded data removed]",
      "text/plain": [
       "<Figure size 432x288 with 1 Axes>"
      ]
     },
     "metadata": {
      "needs_background": "light"
     },
     "output_type": "display_data"
    }
   ],
   "source": [
    "import numpy as np\n",
    "import matplotlib.pyplot as plt\n",
    "\n",
    "n=300\n",
    "\n",
    "x = np.random.uniform(0,6,n)\n",
    "y = np.sin(np.pi * x/2) + np.random.normal(0,0.25,n)\n",
    "# print(x[0])\n",
    "# print(y[0])\n",
    "W = np.array(n,)\n",
    "fig1 = plt.figure()\n",
    "# ax = plt.axes()\n",
    "plt.grid(axis='both', alpha=.25)\n",
    "plt.plot(x,y,'b.')\n",
    "plt.show()\n",
    "# print(y)\n",
    "# y.shape"
   ]
  },
  {
   "cell_type": "markdown",
   "metadata": {},
   "source": [
    "## Splitting the data"
   ]
  },
  {
   "cell_type": "code",
   "execution_count": 2,
   "metadata": {},
   "outputs": [
    {
     "name": "stdout",
     "output_type": "stream",
     "text": [
      "(240,)\n"
     ]
    }
   ],
   "source": [
    "\n",
    "train_split = len(x) *80 /100\n",
    "test_split = len(x) * 20/100\n",
    "\n",
    "\n",
    "train_x = x[:int(train_split)]\n",
    "train_y = y[:int(train_split)]\n",
    "validation_x = x[int(train_split):]\n",
    "validation_y  = y[int(train_split):]\n",
    "# validation_y.shape\n",
    "validation_x[0]\n",
    "print(train_y.shape)"
   ]
  },
  {
   "cell_type": "markdown",
   "metadata": {},
   "source": [
    "### RBF kernel in sklearn\n",
    "\n"
   ]
  },
  {
   "cell_type": "code",
   "execution_count": 3,
   "metadata": {},
   "outputs": [],
   "source": [
    "from sklearn.metrics.pairwise import rbf_kernel as rbf\n",
    "\n",
    "def calculate_theta(x, tau):    \n",
    "    X = np.c_[np.ones(len(train_x)), train_x]\n",
    "    W = rbf(x.reshape(-1,1), X[:,1].reshape(-1,1), 2*tau*tau)\n",
    "    xw = X.T * W\n",
    "    theta = np.linalg.pinv(xw.T * X) * xw * train_y\n",
    "    return theta\n",
    "\n",
    "# a = rbf(train_x[0].reshape(-1,1),validation_x[0].reshape(-1,1), 2*0.2*0.2)\n",
    "# b = rbf(train_x.reshape(-1,1),validation_x[0].reshape(-1,1), 2*0.3*0.3)"
   ]
  },
  {
   "cell_type": "markdown",
   "metadata": {},
   "source": [
    "## Loss function"
   ]
  },
  {
   "cell_type": "code",
   "execution_count": 4,
   "metadata": {},
   "outputs": [],
   "source": [
    "def loss(X, y, theta):\n",
    "    error = y - X.dot(theta)\n",
    "    error = error.T * error\n",
    "    return error.sum()"
   ]
  },
  {
   "cell_type": "markdown",
   "metadata": {},
   "source": [
    "#### with Tau"
   ]
  },
  {
   "cell_type": "code",
   "execution_count": 10,
   "metadata": {},
   "outputs": [
    {
     "name": "stdout",
     "output_type": "stream",
     "text": [
      "with tau= 0.2 error:  8185.417803903393\n"
     ]
    }
   ],
   "source": [
    "tau = 0.2\n",
    "err=0\n",
    "for i in range(len(validation_x)):\n",
    "    theta = calculate_theta(validation_x[i], tau)\n",
    "    x = np.r_[1, validation_x[i]]\n",
    "    predict = theta.T.dot(x)\n",
    "    err += loss(x, train_y, theta)\n",
    "\n",
    "print(\"with tau=\",tau, \"error: \",err)\n",
    "      "
   ]
  },
  {
   "cell_type": "markdown",
   "metadata": {},
   "source": [
    "## Selecting the best possible tau\n",
    "  \n",
    "  \n",
    "  Between 0.1 and 3 with 0.1 difference between each values."
   ]
  },
  {
   "cell_type": "code",
   "execution_count": 12,
   "metadata": {},
   "outputs": [
    {
     "name": "stdout",
     "output_type": "stream",
     "text": [
      "Best tau:  2.1  with error:  8181.094027038583\n"
     ]
    }
   ],
   "source": [
    "tau = np.arange(0.1,3,0.1)\n",
    "err = np.empty_like(tau)\n",
    "optimal = 0\n",
    "min_error = float(\"inf\")\n",
    "# print(min_error)\n",
    "for j in range(len(tau)):\n",
    "    for i in range(len(validation_x)):\n",
    "        theta = calculate_theta(validation_x[i], tau[j])\n",
    "        x = np.r_[1, validation_x[i]]\n",
    "        predict = theta.T.dot(x)\n",
    "        err[j] += loss(x, train_y, theta)\n",
    "    if err[j] < min_error:\n",
    "        min_error = err[j]\n",
    "        optimal = tau[j]\n",
    "\n",
    "print(\"Best tau: \", optimal , \" with error: \", min_error)"
   ]
  },
  {
   "cell_type": "code",
   "execution_count": 13,
   "metadata": {},
   "outputs": [
    {
     "data": {
      "text/plain": [
       "[<matplotlib.lines.Line2D at 0x7fb6482a2fd0>]"
      ]
     },
     "execution_count": 13,
     "metadata": {},
     "output_type": "execute_result"
    },
    {
     "data": {
      "image/png": "[encoded data removed]",
      "text/plain": [
       "<Figure size 432x288 with 1 Axes>"
      ]
     },
     "metadata": {
      "needs_background": "light"
     },
     "output_type": "display_data"
    }
   ],
   "source": [
    "fig = plt.figure()\n",
    "plt.xlabel('tau')\n",
    "plt.ylabel('Total loss')\n",
    "plt.plot(tau, err)"
   ]
  },
  {
   "cell_type": "code",
   "execution_count": null,
   "metadata": {},
   "outputs": [],
   "source": []
  }
 ],
 "metadata": {
  "kernelspec": {
   "display_name": "Python 3",
   "language": "python",
   "name": "python3"
  },
  "language_info": {
   "codemirror_mode": {
    "name": "ipython",
    "version": 3
   },
   "file_extension": ".py",
   "mimetype": "text/x-python",
   "name": "python",
   "nbconvert_exporter": "python",
   "pygments_lexer": "ipython3",
   "version": "3.7.3"
  }
 },
 "nbformat": 4,
 "nbformat_minor": 2
}
