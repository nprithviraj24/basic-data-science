{
 "cells": [
  {
   "cell_type": "code",
   "execution_count": 71,
   "metadata": {},
   "outputs": [
    {
     "data": {
      "text/plain": [
       "array([-2.6808113 , -0.75002999,  0.67981912,  1.11882989,  0.17995911,\n",
       "        0.56406553])"
      ]
     },
     "execution_count": 71,
     "metadata": {},
     "output_type": "execute_result"
    }
   ],
   "source": [
    "import numpy as np\n",
    "\n",
    "a = np.random.normal(0, 2, 6)\n",
    "a"
   ]
  },
  {
   "cell_type": "code",
   "execution_count": 72,
   "metadata": {},
   "outputs": [
    {
     "data": {
      "text/plain": [
       "(2, 3)"
      ]
     },
     "execution_count": 72,
     "metadata": {},
     "output_type": "execute_result"
    }
   ],
   "source": [
    "a = np.matrix([[1,2,3], [2,3,4]])\n",
    "a.shape"
   ]
  },
  {
   "cell_type": "code",
   "execution_count": null,
   "metadata": {},
   "outputs": [],
   "source": [
    "b = np.matrix([[1,2], [3,4], [0,1]])\n",
    "b.shape\n",
    "# c= np.concatenate([b, a],0);"
   ]
  },
  {
   "cell_type": "code",
   "execution_count": 83,
   "metadata": {},
   "outputs": [
    {
     "data": {
      "text/plain": [
       "array([3., 3., 3.])"
      ]
     },
     "execution_count": 83,
     "metadata": {},
     "output_type": "execute_result"
    }
   ],
   "source": [
    "A = np.ones(3)*1\n",
    "B = np.ones(3)*2\n",
    "C = np.ones(3)*3\n",
    "C"
   ]
  },
  {
   "cell_type": "code",
   "execution_count": 74,
   "metadata": {},
   "outputs": [],
   "source": [
    "import numpy as np\n",
    "\n",
    "X1 = np.matrix([[70.4611978, 6.77435737], [26.63557899, 6.18519845], [21.21435842, 5.98482521],\n",
    "      [49.46520438, 6.46685477], [36.31867059, 6.26767026], [65.40450545, 6.69973324],\n",
    "      [47.63604002, 6.52991946], [51.12650291, 6.55278139], [16.19718639, 5.8701804],\n",
    "      [41.09647679, 6.39265021], [48.52977517, 6.54874167], [33.2783272, 6.24645442],\n",
    "      [54.2416494, 6.68772955], [63.87981696, 6.64426231], [49.74926534, 6.54019839],\n",
    "      [45.50085081, 6.40530107], [31.80572899, 6.33114329], [25.88027769, 6.00191626],\n",
    "      [25.34847504, 6.07445523], [59.5509754, 6.67139653], [50.69674158, 6.51872281],\n",
    "      [54.11728722, 6.58716206], [58.22172538, 6.58217774], [38.82480513, 6.43235051],\n",
    "      [54.62361945, 6.62107478], [42.24368621, 6.43349846], [44.91058546, 6.40702283],\n",
    "      [62.72139429, 6.81082283], [77.55458346, 6.86015373], [49.07536097, 6.58151526],\n",
    "      [51.48292856, 6.62113585], [57.37090719, 6.65400127], [48.48641553, 6.54340401],\n",
    "      [21.24715108, 6.07259954], [37.64146721, 6.46820336], [12.35289436, 5.4695928],\n",
    "      [37.65875476, 6.18370352], [49.85008383, 6.60947486], [66.13648137, 6.79896653],\n",
    "      [27.29008652, 6.15868866], [82.89679414, 6.86219115], [60.28610161, 6.77246816],\n",
    "      [45.99452861, 6.40409124], [77.29411953, 6.88564085], [49.24729059, 6.39129918],\n",
    "      [52.19238458, 6.52793378], [55.55244532, 6.5922497], [38.28876143, 6.35421521],\n",
    "      [41.28903755, 6.33314064], [73.83202683, 6.85274489], [62.84426032, 6.63317405],\n",
    "      [27.66679337, 6.0765891], [64.90528747, 6.7277243], [62.75897971, 6.74867287],\n",
    "      [57.47911597, 6.56964198], [32.54225548, 6.14425762], [44.7087849, 6.55684065],\n",
    "      [30.22868535, 6.17664755], [66.43902044, 6.66354862], [57.50647725, 6.63295779],\n",
    "      [56.23274763, 6.65483072], [71.62377075, 6.8249259], [37.21929751, 6.45896618],\n",
    "      [30.33685416, 6.29108668], [53.72586113, 6.55558498], [58.92009067, 6.58914418],\n",
    "      [60.36917635, 6.73713645], [46.46087002, 6.61086064], [54.97919255, 6.48830287],\n",
    "      [60.08999745, 6.63018137], [29.23503961, 6.06804535], [45.18879885, 6.44043758],\n",
    "      [67.91432786, 6.8105173], [46.5800853, 6.50060039], [56.70569052, 6.65565127],\n",
    "      [40.68951533, 6.41478636], [48.67956085, 6.48811567], [41.59182624, 6.38699182],\n",
    "      [39.95740486, 6.33546435], [44.94880975, 6.46206514], [64.78053936, 6.74188874],\n",
    "      [57.93695294, 6.73064008], [55.49704023, 6.64231398], [39.57510111, 6.29139288],\n",
    "      [33.95225046, 6.33743394], [77.23246962, 6.79966126], [56.49647686, 6.66597049],\n",
    "      [72.05710124, 6.83097927], [51.36582347, 6.63984591], [36.23540347, 6.26819074],\n",
    "      [51.33172918, 6.55170989], [65.9107458, 6.7412432], [45.92145099, 6.55785946],\n",
    "      [48.73393011, 6.5700271], [43.19824007, 6.5765512], [32.51187411, 6.17277242],\n",
    "      [66.52125325, 6.7549236], [71.77667409, 6.77447514], [27.54687135, 6.07712865],\n",
    "      [70.29209858, 6.82371897]])\n",
    "\n",
    "X2 = np.matrix([[103.48734726, 7.06665128], [45.95181945, 6.92463529], [62.51311459, 7.29929464],\n",
    "      [34.75905558, 6.82590246], [61.42150233, 7.14207452], [20.92995779, 6.18926827],\n",
    "      [48.88757058, 7.10046058], [47.00567217, 6.87392491], [66.03960746, 7.21300884],\n",
    "      [41.00765303, 6.88260887], [53.39454458, 7.12002753], [59.05801699, 7.07708207],\n",
    "      [25.84457253, 6.52661965], [20.64948341, 6.4810278], [63.28046094, 7.18001038],\n",
    "      [66.29002442, 7.24725685], [49.26589866, 7.02704851], [59.53968788, 7.12513223],\n",
    "      [48.46665858, 6.97610637], [34.51909729, 6.85422354], [61.16606292, 7.1611797],\n",
    "      [65.62870788, 7.25370585], [57.43965533, 7.12551572], [51.4256259, 7.12109028],\n",
    "      [78.45648704, 7.38957843], [70.23973965, 7.28014297], [61.12178687, 7.14687961],\n",
    "      [75.55803406, 7.2645782], [44.9666415, 7.00364604], [43.94509452, 6.94630876],\n",
    "      [44.98195858, 6.94771427], [44.07909292, 6.84250384], [33.27404217, 6.76884994],\n",
    "      [66.83707899, 7.26223859], [34.99475166, 6.75074986], [59.51675598, 7.18130986],\n",
    "      [37.03437849, 6.87742508], [62.14584595, 7.21712651], [51.37422401, 7.1478843],\n",
    "      [25.75396602, 6.83643475], [66.18768985, 7.28574587], [50.46927715, 7.0901681],\n",
    "      [66.08232926, 7.28108743], [16.81537222, 6.44176855], [38.49515228, 6.85670726],\n",
    "      [44.87889506, 6.89762361], [51.72803212, 7.15768698], [26.41099035, 6.69220322],\n",
    "      [67.40763472, 7.25475514], [60.26711966, 7.13606818], [41.26604269, 6.82072533],\n",
    "      [36.25102952, 6.81241658], [90.34415059, 7.10789215], [49.9112951, 7.04364433],\n",
    "      [37.60574769, 6.75709643], [47.69027385, 7.15224795], [70.7126762, 7.37139046],\n",
    "      [31.38034068, 6.57171353], [45.43488612, 6.97156664], [29.83557583, 6.77016354],\n",
    "      [53.58242995, 7.14264146], [40.28103375, 6.88596508], [69.76687507, 7.29225697],\n",
    "      [40.72428579, 6.90370374], [38.35168955, 6.72388286], [88.77752009, 7.30440221],\n",
    "      [52.71910503, 7.10525341], [78.13634099, 7.43246583], [55.28469075, 7.15527197],\n",
    "      [26.12154, 6.77911307], [57.9174037, 7.16031425], [59.96888213, 7.04359248],\n",
    "      [28.979886, 6.69711096], [54.10548377, 7.08093707], [46.24087958, 7.03464403],\n",
    "      [46.02151582, 6.98139406], [32.74868227, 6.69473258], [45.70424283, 6.94792668],\n",
    "      [25.85436229, 6.58336042], [77.98270261, 7.41044107], [54.65190235, 7.11080335],\n",
    "      [60.44627103, 7.07123203], [68.58296094, 7.33179762], [42.80337975, 6.87396778],\n",
    "      [31.35673666, 6.66603545], [19.04585207, 6.62207371], [48.79436125, 7.01009406],\n",
    "      [45.44124128, 7.08039785], [41.97937064, 6.854478], [53.39688062, 7.02525752],\n",
    "      [66.0637938, 7.258192], [55.09943464, 7.1307132], [65.22295533, 7.28208667],\n",
    "      [48.25983281, 6.93393588], [19.00711267, 6.33112045], [39.14998323, 6.99193013],\n",
    "      [75.51283715, 7.34232193], [20.07554717, 6.65314899], [40.64087416, 6.81927983],\n",
    "      [68.19628122, 7.3153336]])\n",
    "\n",
    "# print(X1[:,0])"
   ]
  },
  {
   "cell_type": "code",
   "execution_count": 75,
   "metadata": {},
   "outputs": [
    {
     "data": {
      "text/plain": [
       "(200, 3)"
      ]
     },
     "execution_count": 75,
     "metadata": {},
     "output_type": "execute_result"
    }
   ],
   "source": [
    "X1.shape\n",
    "X = np.concatenate([X1, X2], axis=0)\n",
    "y = np.concatenate([ -np.matrix(np.ones([100,1])), np.matrix(np.ones([100,1]))], axis=0)\n",
    "# y = np.concatenate([-np.matrix(np.ones([100,1])), np.matrix(np.ones([100,1]))]);\n",
    "m , n = X.shape[0], X.shape[1]\n",
    "X= np.append(np.ones((m,1)),X,axis=1)\n",
    "X.shape"
   ]
  },
  {
   "cell_type": "markdown",
   "metadata": {},
   "source": [
    "### Concatenation\n",
    "np.concatenate([X1, X2], axis= ?)\n",
    "Mention the matrices in brackets, axis to combine column wise or row wise"
   ]
  },
  {
   "cell_type": "code",
   "execution_count": 76,
   "metadata": {},
   "outputs": [
    {
     "data": {
      "image/png": "[encoded data removed]",
      "text/plain": [
       "<Figure size 432x288 with 1 Axes>"
      ]
     },
     "metadata": {
      "needs_background": "light"
     },
     "output_type": "display_data"
    }
   ],
   "source": [
    "import matplotlib.pyplot as plt\n",
    "\n",
    "# x, y = X1\n",
    "\n",
    "plt.plot(X1[:,0], X1[:,1], 'bo')\n",
    "plt.plot(X2[:,0], X2[:,1], 'rx')\n",
    "\n",
    "plt.show()"
   ]
  },
  {
   "cell_type": "markdown",
   "metadata": {},
   "source": [
    "### To show a particular column or row, use : "
   ]
  },
  {
   "cell_type": "code",
   "execution_count": 78,
   "metadata": {},
   "outputs": [],
   "source": [
    "def sigmoid(z):\n",
    "    \n",
    "    return 1/ (1 + np.exp(-z))\n",
    "\n",
    "def cost_gradFunction(theta, X, y):\n",
    "    \n",
    "    m=len(y)\n",
    "    \n",
    "    predictions = sigmoid(np.dot(X,theta))\n",
    "\n",
    "    error = (y * np.log(predictions)) + ((1-y)*np.log(1-predictions))\n",
    "\n",
    "    cost = 1/m * sum(error)\n",
    "\n",
    "    grad = 1/m * np.dot(X.transpose(),(y - predictions))\n",
    "    \n",
    "    return cost[0] , grad\n",
    "\n",
    "def gradientAscent(X,y,theta,alpha,num_iters):\n",
    "      \n",
    "    m=len(y)\n",
    "    iterations = 0\n",
    "    for i in range(num_iters):\n",
    "        iterations += 1\n",
    "        cost, grad = cost_gradFunction(theta,X,y)\n",
    "        theta = theta + (alpha * grad)\n",
    "        J_history.append(cost)\n",
    "        if abs(J_history[-2] - J_history[-1]) < 0.00001:\n",
    "            break\n",
    "        \n",
    "        \n",
    "    return theta , J_history, iterations\n",
    "# .shape"
   ]
  },
  {
   "cell_type": "code",
   "execution_count": 79,
   "metadata": {},
   "outputs": [
    {
     "data": {
      "text/plain": [
       "(3, 1)"
      ]
     },
     "execution_count": 79,
     "metadata": {},
     "output_type": "execute_result"
    }
   ],
   "source": [
    "initial_theta = np.zeros((n+1,1))\n",
    "initial_theta.shape"
   ]
  },
  {
   "cell_type": "code",
   "execution_count": 80,
   "metadata": {},
   "outputs": [
    {
     "ename": "ValueError",
     "evalue": "shapes (200,1) and (200,1) not aligned: 1 (dim 1) != 200 (dim 0)",
     "output_type": "error",
     "traceback": [
      "\u001b[0;31m---------------------------------------------------------------------------\u001b[0m",
      "\u001b[0;31mValueError\u001b[0m                                Traceback (most recent call last)",
      "\u001b[0;32m<ipython-input-80-58abc3e9d51b>\u001b[0m in \u001b[0;36m<module>\u001b[0;34m\u001b[0m\n\u001b[0;32m----> 1\u001b[0;31m \u001b[0minit_cost\u001b[0m\u001b[0;34m,\u001b[0m \u001b[0mgrad\u001b[0m\u001b[0;34m=\u001b[0m \u001b[0mcost_gradFunction\u001b[0m\u001b[0;34m(\u001b[0m\u001b[0minitial_theta\u001b[0m\u001b[0;34m,\u001b[0m\u001b[0mX\u001b[0m\u001b[0;34m,\u001b[0m\u001b[0my\u001b[0m\u001b[0;34m)\u001b[0m\u001b[0;34m\u001b[0m\u001b[0;34m\u001b[0m\u001b[0m\n\u001b[0m\u001b[1;32m      2\u001b[0m \u001b[0mJ_history\u001b[0m \u001b[0;34m=\u001b[0m\u001b[0;34m[\u001b[0m\u001b[0;34m]\u001b[0m\u001b[0;34m\u001b[0m\u001b[0;34m\u001b[0m\u001b[0m\n\u001b[1;32m      3\u001b[0m \u001b[0mlr\u001b[0m \u001b[0;34m=\u001b[0m \u001b[0;36m0.001\u001b[0m\u001b[0;34m\u001b[0m\u001b[0;34m\u001b[0m\u001b[0m\n\u001b[1;32m      4\u001b[0m \u001b[0mnew_theta\u001b[0m \u001b[0;34m=\u001b[0m \u001b[0minitial_theta\u001b[0m \u001b[0;34m+\u001b[0m \u001b[0;34m(\u001b[0m\u001b[0mlr\u001b[0m\u001b[0;34m*\u001b[0m\u001b[0mgrad\u001b[0m\u001b[0;34m)\u001b[0m\u001b[0;34m\u001b[0m\u001b[0;34m\u001b[0m\u001b[0m\n\u001b[1;32m      5\u001b[0m \u001b[0mJ_history\u001b[0m\u001b[0;34m.\u001b[0m\u001b[0mappend\u001b[0m\u001b[0;34m(\u001b[0m\u001b[0minit_cost\u001b[0m\u001b[0;34m)\u001b[0m\u001b[0;34m\u001b[0m\u001b[0;34m\u001b[0m\u001b[0m\n",
      "\u001b[0;32m<ipython-input-78-1bb311258070>\u001b[0m in \u001b[0;36mcost_gradFunction\u001b[0;34m(theta, X, y)\u001b[0m\n\u001b[1;32m      9\u001b[0m     \u001b[0mpredictions\u001b[0m \u001b[0;34m=\u001b[0m \u001b[0msigmoid\u001b[0m\u001b[0;34m(\u001b[0m\u001b[0mnp\u001b[0m\u001b[0;34m.\u001b[0m\u001b[0mdot\u001b[0m\u001b[0;34m(\u001b[0m\u001b[0mX\u001b[0m\u001b[0;34m,\u001b[0m\u001b[0mtheta\u001b[0m\u001b[0;34m)\u001b[0m\u001b[0;34m)\u001b[0m\u001b[0;34m\u001b[0m\u001b[0;34m\u001b[0m\u001b[0m\n\u001b[1;32m     10\u001b[0m \u001b[0;34m\u001b[0m\u001b[0m\n\u001b[0;32m---> 11\u001b[0;31m     \u001b[0merror\u001b[0m \u001b[0;34m=\u001b[0m \u001b[0;34m(\u001b[0m\u001b[0my\u001b[0m \u001b[0;34m*\u001b[0m \u001b[0mnp\u001b[0m\u001b[0;34m.\u001b[0m\u001b[0mlog\u001b[0m\u001b[0;34m(\u001b[0m\u001b[0mpredictions\u001b[0m\u001b[0;34m)\u001b[0m\u001b[0;34m)\u001b[0m \u001b[0;34m+\u001b[0m \u001b[0;34m(\u001b[0m\u001b[0;34m(\u001b[0m\u001b[0;36m1\u001b[0m\u001b[0;34m-\u001b[0m\u001b[0my\u001b[0m\u001b[0;34m)\u001b[0m\u001b[0;34m*\u001b[0m\u001b[0mnp\u001b[0m\u001b[0;34m.\u001b[0m\u001b[0mlog\u001b[0m\u001b[0;34m(\u001b[0m\u001b[0;36m1\u001b[0m\u001b[0;34m-\u001b[0m\u001b[0mpredictions\u001b[0m\u001b[0;34m)\u001b[0m\u001b[0;34m)\u001b[0m\u001b[0;34m\u001b[0m\u001b[0;34m\u001b[0m\u001b[0m\n\u001b[0m\u001b[1;32m     12\u001b[0m \u001b[0;34m\u001b[0m\u001b[0m\n\u001b[1;32m     13\u001b[0m     \u001b[0mcost\u001b[0m \u001b[0;34m=\u001b[0m \u001b[0;36m1\u001b[0m\u001b[0;34m/\u001b[0m\u001b[0mm\u001b[0m \u001b[0;34m*\u001b[0m \u001b[0msum\u001b[0m\u001b[0;34m(\u001b[0m\u001b[0merror\u001b[0m\u001b[0;34m)\u001b[0m\u001b[0;34m\u001b[0m\u001b[0;34m\u001b[0m\u001b[0m\n",
      "\u001b[0;32m~/anaconda3/lib/python3.7/site-packages/numpy/matrixlib/defmatrix.py\u001b[0m in \u001b[0;36m__mul__\u001b[0;34m(self, other)\u001b[0m\n\u001b[1;32m    218\u001b[0m         \u001b[0;32mif\u001b[0m \u001b[0misinstance\u001b[0m\u001b[0;34m(\u001b[0m\u001b[0mother\u001b[0m\u001b[0;34m,\u001b[0m \u001b[0;34m(\u001b[0m\u001b[0mN\u001b[0m\u001b[0;34m.\u001b[0m\u001b[0mndarray\u001b[0m\u001b[0;34m,\u001b[0m \u001b[0mlist\u001b[0m\u001b[0;34m,\u001b[0m \u001b[0mtuple\u001b[0m\u001b[0;34m)\u001b[0m\u001b[0;34m)\u001b[0m \u001b[0;34m:\u001b[0m\u001b[0;34m\u001b[0m\u001b[0;34m\u001b[0m\u001b[0m\n\u001b[1;32m    219\u001b[0m             \u001b[0;31m# This promotes 1-D vectors to row vectors\u001b[0m\u001b[0;34m\u001b[0m\u001b[0;34m\u001b[0m\u001b[0;34m\u001b[0m\u001b[0m\n\u001b[0;32m--> 220\u001b[0;31m             \u001b[0;32mreturn\u001b[0m \u001b[0mN\u001b[0m\u001b[0;34m.\u001b[0m\u001b[0mdot\u001b[0m\u001b[0;34m(\u001b[0m\u001b[0mself\u001b[0m\u001b[0;34m,\u001b[0m \u001b[0masmatrix\u001b[0m\u001b[0;34m(\u001b[0m\u001b[0mother\u001b[0m\u001b[0;34m)\u001b[0m\u001b[0;34m)\u001b[0m\u001b[0;34m\u001b[0m\u001b[0;34m\u001b[0m\u001b[0m\n\u001b[0m\u001b[1;32m    221\u001b[0m         \u001b[0;32mif\u001b[0m \u001b[0misscalar\u001b[0m\u001b[0;34m(\u001b[0m\u001b[0mother\u001b[0m\u001b[0;34m)\u001b[0m \u001b[0;32mor\u001b[0m \u001b[0;32mnot\u001b[0m \u001b[0mhasattr\u001b[0m\u001b[0;34m(\u001b[0m\u001b[0mother\u001b[0m\u001b[0;34m,\u001b[0m \u001b[0;34m'__rmul__'\u001b[0m\u001b[0;34m)\u001b[0m \u001b[0;34m:\u001b[0m\u001b[0;34m\u001b[0m\u001b[0;34m\u001b[0m\u001b[0m\n\u001b[1;32m    222\u001b[0m             \u001b[0;32mreturn\u001b[0m \u001b[0mN\u001b[0m\u001b[0;34m.\u001b[0m\u001b[0mdot\u001b[0m\u001b[0;34m(\u001b[0m\u001b[0mself\u001b[0m\u001b[0;34m,\u001b[0m \u001b[0mother\u001b[0m\u001b[0;34m)\u001b[0m\u001b[0;34m\u001b[0m\u001b[0;34m\u001b[0m\u001b[0m\n",
      "\u001b[0;31mValueError\u001b[0m: shapes (200,1) and (200,1) not aligned: 1 (dim 1) != 200 (dim 0)"
     ]
    }
   ],
   "source": [
    "init_cost, grad= cost_gradFunction(initial_theta,X,y)\n",
    "J_history =[]\n",
    "lr = 0.001\n",
    "new_theta = initial_theta + (lr*grad)\n",
    "J_history.append(init_cost)\n",
    "# new_theta\n",
    "\n",
    "theta , J_history, iterations= gradientAscent(X,y,new_theta,lr,7000)"
   ]
  },
  {
   "cell_type": "code",
   "execution_count": 70,
   "metadata": {},
   "outputs": [
    {
     "data": {
      "text/plain": [
       "matrix([[-0.14196738],\n",
       "        [-0.3095483 ],\n",
       "        [ 0.85931292]])"
      ]
     },
     "execution_count": 70,
     "metadata": {},
     "output_type": "execute_result"
    }
   ],
   "source": [
    "theta"
   ]
  },
  {
   "cell_type": "code",
   "execution_count": null,
   "metadata": {},
   "outputs": [],
   "source": []
  }
 ],
 "metadata": {
  "kernelspec": {
   "display_name": "Python 3",
   "language": "python",
   "name": "python3"
  },
  "language_info": {
   "codemirror_mode": {
    "name": "ipython",
    "version": 3
   },
   "file_extension": ".py",
   "mimetype": "text/x-python",
   "name": "python",
   "nbconvert_exporter": "python",
   "pygments_lexer": "ipython3",
   "version": "3.7.3"
  }
 },
 "nbformat": 4,
 "nbformat_minor": 2
}
