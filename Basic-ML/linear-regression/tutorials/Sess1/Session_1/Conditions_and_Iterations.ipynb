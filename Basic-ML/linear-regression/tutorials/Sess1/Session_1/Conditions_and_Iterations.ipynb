{
 "cells": [
  {
   "cell_type": "markdown",
   "metadata": {},
   "source": [
    "# Conditions\n",
    "\n",
    "## Boolean\n",
    "\n",
    "In Python, the two Boolean values are True and False. The Python type is bool.\n",
    "A Boolean expression is an expression that evaluates to produce a boolean result, True or False.\n",
    "\n",
    "Remember that = is an assignment operator and == is a comparison operator.\n"
   ]
  },
  {
   "cell_type": "code",
   "execution_count": 1,
   "metadata": {},
   "outputs": [
    {
     "data": {
      "text/plain": [
       "bool"
      ]
     },
     "execution_count": 1,
     "metadata": {},
     "output_type": "execute_result"
    }
   ],
   "source": [
    "#The capitalization must be exactly as shown\n",
    "type(True)"
   ]
  },
  {
   "cell_type": "code",
   "execution_count": 2,
   "metadata": {},
   "outputs": [
    {
     "data": {
      "text/plain": [
       "True"
      ]
     },
     "execution_count": 2,
     "metadata": {},
     "output_type": "execute_result"
    }
   ],
   "source": [
    "5 == (3 + 2) \n"
   ]
  },
  {
   "cell_type": "code",
   "execution_count": 3,
   "metadata": {},
   "outputs": [
    {
     "data": {
      "text/plain": [
       "True"
      ]
     },
     "execution_count": 3,
     "metadata": {},
     "output_type": "execute_result"
    }
   ],
   "source": [
    "j = \"hel\"\n",
    "j + \"lo\" == \"hello\""
   ]
  },
  {
   "cell_type": "code",
   "execution_count": 4,
   "metadata": {},
   "outputs": [
    {
     "name": "stdout",
     "output_type": "stream",
     "text": [
      "True\n"
     ]
    }
   ],
   "source": [
    "age = 19\n",
    "driving_age = 16\n",
    "old_enough_to_get_driving_licence = age >= driving_age\n",
    "# Here the >= operator returns boolean\n",
    "print(old_enough_to_get_driving_licence)"
   ]
  },
  {
   "cell_type": "markdown",
   "metadata": {},
   "source": [
    "# Logical Operators\n",
    "\n",
    "## And: \n",
    "    x = 1 \n",
    "    condition: x > 1 and x < 10\n",
    "\n",
    "Examples:\n",
    "\n",
    "            x and False == False\n",
    "            False and x == False\n",
    "            y and x == x and y\n",
    "            x and True == x\n",
    "            True and x == x\n",
    "            x and x == x\n",
    "\n",
    " -------------------------------------------------------------------------------------------------------------------------       \n",
    "        \n",
    "## Or:\n",
    "     x = 1, y = 5\n",
    "    condition: x > 0 or y = 5\n",
    "\n",
    "Examples:\n",
    "\n",
    "            x or False == x\n",
    "            False or x == x\n",
    "            y or x == x or y\n",
    "            x or True == True\n",
    "            True or x == True\n",
    "            x or x == x\n",
    "\n",
    "-------------------------------------------------------------------------------------------------------------------------       \n",
    "\n",
    "Negate a condition:\n",
    "    x = 1, y = 5\n",
    "    not (x > y)\n",
    "    not (not x) == x\n",
    "        \n",
    "Note: all the above three logical operators return either True or False        \n",
    "\n"
   ]
  },
  {
   "cell_type": "code",
   "execution_count": 5,
   "metadata": {},
   "outputs": [
    {
     "name": "stdout",
     "output_type": "stream",
     "text": [
      "False\n",
      "True\n"
     ]
    }
   ],
   "source": [
    "x = 1 \n",
    "boolValue =  (x > 1) and (x < 10)\n",
    "print(boolValue)\n",
    "x = 2\n",
    "boolValue =  (x > 1) and (x < 10)\n",
    "print(boolValue)\n"
   ]
  },
  {
   "cell_type": "code",
   "execution_count": 6,
   "metadata": {},
   "outputs": [
    {
     "name": "stdout",
     "output_type": "stream",
     "text": [
      "True\n"
     ]
    }
   ],
   "source": [
    "age = 18\n",
    "old_enough_to_get_driving_licence = age >= 17\n",
    "print(old_enough_to_get_driving_licence)"
   ]
  },
  {
   "cell_type": "code",
   "execution_count": 7,
   "metadata": {},
   "outputs": [
    {
     "name": "stdout",
     "output_type": "stream",
     "text": [
      "True\n"
     ]
    }
   ],
   "source": [
    "age = 19\n",
    "old_enough_to_get_driving_lic = age >= 18\n",
    "print(old_enough_to_get_driving_lic)"
   ]
  },
  {
   "cell_type": "code",
   "execution_count": 8,
   "metadata": {},
   "outputs": [
    {
     "name": "stdout",
     "output_type": "stream",
     "text": [
      "4  is even.\n"
     ]
    }
   ],
   "source": [
    "x = 4\n",
    "if x % 2 == 0:\n",
    "    print(x, \" is even.\")   \n",
    "else:\n",
    "    print(x, \" is odd.\")    "
   ]
  },
  {
   "cell_type": "markdown",
   "metadata": {},
   "source": [
    "# Nested and Chained conditionals\n",
    "\n",
    "        if x < y:\n",
    "            STATEMENTS_A\n",
    "\n",
    "            if a > y:\n",
    "                STATEMENTS_B\n",
    "            else:\n",
    "                STATEMENTS_C\n",
    "\n",
    "        elif x < z \n",
    "            STATEMENTS_D\n",
    "\n",
    "        elif y < z\n",
    "            STATEMENTS_E\n",
    "        else \n",
    "            STATEMENTS_F "
   ]
  },
  {
   "cell_type": "code",
   "execution_count": 16,
   "metadata": {},
   "outputs": [
    {
     "name": "stdout",
     "output_type": "stream",
     "text": [
      "The square root of 16 is 4.0\n"
     ]
    },
    {
     "data": {
      "text/plain": [
       "4.0"
      ]
     },
     "execution_count": 16,
     "metadata": {},
     "output_type": "execute_result"
    }
   ],
   "source": [
    "def print_square_root(x):\n",
    "    if x <= 0:\n",
    "        print(\"Positive numbers only, please.\")        \n",
    "        return\n",
    "    elif x > 0:\n",
    "        result = x**0.5\n",
    "        print(\"The square root of\", x, \"is\", result)\n",
    "    else:\n",
    "        result = 0\n",
    "    \n",
    "    return result\n",
    "print_square_root(16)    "
   ]
  },
  {
   "cell_type": "markdown",
   "metadata": {},
   "source": [
    "# Type Conversion\n",
    "\n",
    "The int function, for example, takes any value and converts it to an integer, if possible, or complains otherwise:\n",
    "\n",
    ">>> int(\"32\")\n",
    "32\n",
    "\n",
    ">>> int(\"Hello\")\n",
    "ValueError: invalid literal for int() with base 10: 'Hello'\n",
    "\n",
    "\n",
    "-------------------------------------------------------------------------------------------------------------------------\n",
    "int can also convert floating-point values to integers, but it truncates the fractional part:\n",
    "\n",
    ">>> int(-2.3)\n",
    "-2\n",
    "\n",
    ">>> int(3.99999)\n",
    "3\n",
    "\n",
    ">>> int(\"42\")\n",
    "42\n",
    "\n",
    ">>> int(1.0)\n",
    "1\n",
    "\n",
    "\n",
    "-------------------------------------------------------------------------------------------------------------------------\n",
    "The float function converts integers and strings to floating-point numbers:\n",
    "\n",
    ">>> float(32)\n",
    "32.0\n",
    "\n",
    ">>> float(\"3.14159\")\n",
    "3.14159\n",
    "\n",
    "\n",
    "-------------------------------------------------------------------------------------------------------------------------\n",
    "The str function converts argument given to it to type string only if the arguments can be implicitly converted into value data types:\n",
    "\n",
    ">>> str(32)\n",
    "'32'\n",
    "\n",
    ">>> str(3.14149)\n",
    "'3.14149'\n",
    "\n",
    ">>> str(True)\n",
    "'True'\n",
    "\n",
    "\n"
   ]
  },
  {
   "cell_type": "code",
   "execution_count": 17,
   "metadata": {},
   "outputs": [
    {
     "data": {
      "text/plain": [
       "'a'"
      ]
     },
     "execution_count": 17,
     "metadata": {},
     "output_type": "execute_result"
    }
   ],
   "source": [
    "b = 'a'\n",
    "str(b)"
   ]
  },
  {
   "cell_type": "markdown",
   "metadata": {},
   "source": [
    "# Conditional statements and Return values (Fruitful functions)\n",
    "\n",
    "def absolute_value(x):\n",
    "    if x < 0:\n",
    "        return -x\n",
    "    else:\n",
    "        return x\n",
    "\n",
    "def absolute_value(x):\n",
    "    if x < 0:\n",
    "        return -x\n",
    "    return x \n",
    "\n",
    "\n"
   ]
  },
  {
   "cell_type": "code",
   "execution_count": 18,
   "metadata": {},
   "outputs": [
    {
     "data": {
      "text/plain": [
       "0"
      ]
     },
     "execution_count": 18,
     "metadata": {},
     "output_type": "execute_result"
    }
   ],
   "source": [
    "def area(radius):\n",
    "    if (radius > 0):\n",
    "        return 3.14159 * radius * radius\n",
    "    return 0\n",
    "\n",
    "area(0)"
   ]
  }
 ],
 "metadata": {
  "kernelspec": {
   "display_name": "Python 3",
   "language": "python",
   "name": "python3"
  },
  "language_info": {
   "codemirror_mode": {
    "name": "ipython",
    "version": 3
   },
   "file_extension": ".py",
   "mimetype": "text/x-python",
   "name": "python",
   "nbconvert_exporter": "python",
   "pygments_lexer": "ipython3",
   "version": "3.7.3"
  }
 },
 "nbformat": 4,
 "nbformat_minor": 2
}
