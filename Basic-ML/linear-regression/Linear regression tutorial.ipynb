{
 "cells": [
  {
   "cell_type": "code",
   "execution_count": 26,
   "metadata": {},
   "outputs": [],
   "source": [
    "import numpy as np\n",
    "\n",
    "# Ground truth parameters\n",
    "\n",
    "theta0 = -100\n",
    "theta1 = 1\n",
    "sigma = 10\n",
    "\n",
    "# Generate training dataset using ground truth\n",
    "\n",
    "m = 100\n",
    "\n",
    "# X: m samples from a Gaussian with mean 160 and standard deviation of 20\n",
    "X = np.matrix(np.random.normal(160, 20, m)).T\n",
    "# print(X)\n",
    "X = np.concatenate([np.ones([m,1]),X],1)\n",
    "# print(X)\n",
    "# y: m samples from a Gaussian with mean theta0 + theta1 x, std of sigma\n",
    "theta = np.matrix([ theta0, theta1 ]).T\n",
    "y = X * theta + np.random.normal(0, sigma, [m,1])\n",
    "# print(y)\n",
    "theta_est = np.linalg.inv(X.T*X) * X.T * y\n",
    "\n",
    "# print(theta_est)\n",
    "\n"
   ]
  },
  {
   "cell_type": "code",
   "execution_count": 16,
   "metadata": {},
   "outputs": [],
   "source": [
    "def loss(X,y,theta):\n",
    "    error = y-X * theta\n",
    "    error = error.T*error\n",
    "    return error\n"
   ]
  },
  {
   "cell_type": "code",
   "execution_count": 17,
   "metadata": {},
   "outputs": [],
   "source": [
    "lgt = loss(X,y,theta)\n",
    "lest = loss(X,y,theta_est)"
   ]
  },
  {
   "cell_type": "code",
   "execution_count": 18,
   "metadata": {},
   "outputs": [
    {
     "name": "stdout",
     "output_type": "stream",
     "text": [
      "Gradient estimate: 0.100000 2639.121052\n"
     ]
    },
    {
     "data": {
      "text/plain": [
       "matrix([[0.   ],\n",
       "        [0.001]])"
      ]
     },
     "execution_count": 18,
     "metadata": {},
     "output_type": "execute_result"
    }
   ],
   "source": [
    "#Verify result using finite difference\n",
    "\n",
    "deltaTheta = 0.001\n",
    "# print(np.matrix([deltaTheta, 0]).T)\n",
    "#Parameter 0\n",
    "thetaNew = theta_est + np.matrix([deltaTheta, 0]).T\n",
    "lnew0 = loss(X,y,thetaNew)\n",
    "grad0est = (lnew0-lest)/deltaTheta\n",
    "\n",
    "\n",
    "#Parameter 1\n",
    "thetaNew = theta_est + np.matrix([0, deltaTheta]).T\n",
    "lnew1 = loss(X,y,thetaNew)\n",
    "grad1est = (lnew1-lest)/deltaTheta\n",
    "\n",
    "gradest = [grad0est, grad1est]\n",
    "print(\"Gradient estimate: %f %f\" % (grad0est, grad1est))\n",
    "\n",
    "np.matrix([0, deltaTheta]).T"
   ]
  },
  {
   "cell_type": "code",
   "execution_count": null,
   "metadata": {},
   "outputs": [],
   "source": []
  }
 ],
 "metadata": {
  "kernelspec": {
   "display_name": "Python 3",
   "language": "python",
   "name": "python3"
  },
  "language_info": {
   "codemirror_mode": {
    "name": "ipython",
    "version": 3
   },
   "file_extension": ".py",
   "mimetype": "text/x-python",
   "name": "python",
   "nbconvert_exporter": "python",
   "pygments_lexer": "ipython3",
   "version": "3.7.3"
  }
 },
 "nbformat": 4,
 "nbformat_minor": 2
}
