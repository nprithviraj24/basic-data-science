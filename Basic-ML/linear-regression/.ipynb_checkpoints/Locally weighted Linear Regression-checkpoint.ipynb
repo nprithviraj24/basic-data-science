{
 "cells": [
  {
   "cell_type": "markdown",
   "metadata": {},
   "source": [
    "### Background check\n",
    "\n",
    "Locally weighted linear regression is a non-parametric method for fitting data points. What does that mean?\n",
    "\n",
    "- Instead of fitting a single regression line, you fit many linear regression models. The final resulting smooth curve is the product of all those regression models.\n",
    "- Obviously, we can't fit the same linear model again and again. Instead, for each linear model we want to fit, we find a point x and use that for fitting a local regression model.\n",
    "- We find points that closest to x to fit each of our local regression model. That's why you'll see the algorithm is also known as nearest neighbours algorithm in the literature.\n",
    "\n",
    "Now, if your data points have the x-values from 1 to 100: [1,2,3 ... 98, 99, 100]. The algorithm would fit a linear model for 1,2,3...,98,99,100. That means, you'll have 100 regression models.\n",
    "\n",
    "Again, when we fit each of the model, we can't just use all the data points in the sample. For each of the model, we find the closest points and use that for fitting. For example, if the algorithm wants to fit for x=50, it will put higher weight on [48,49,50,51,52] and less weight on [45,46,47,53,54,55]. When it tries to fit for x=95, the points [92,93,95,96,97] will have higher weight than any other data points."
   ]
  },
  {
   "cell_type": "code",
   "execution_count": null,
   "metadata": {},
   "outputs": [],
   "source": [
    "import numpy as np\n",
    "import matplotlib.pyplot as plt\n",
    "\n",
    "n=300\n",
    "\n",
    "x = np.random.uniform(0,6,n)\n",
    "y = np.sin(np.pi * x/2) + np.random.normal(0,0.25,n)\n",
    "# print(x[0])\n",
    "# print(y[0])\n",
    "W = np.array(n,)\n",
    "fig1 = plt.figure()\n",
    "# ax = plt.axes()\n",
    "plt.grid(axis='both', alpha=.25)\n",
    "plt.plot(x,y,'b.')\n",
    "\n",
    "# print(y)\n",
    "y.shape"
   ]
  },
  {
   "cell_type": "markdown",
   "metadata": {},
   "source": [
    "## Splitting the data"
   ]
  },
  {
   "cell_type": "code",
   "execution_count": 205,
   "metadata": {},
   "outputs": [
    {
     "name": "stdout",
     "output_type": "stream",
     "text": [
      "(240,)\n"
     ]
    }
   ],
   "source": [
    "\n",
    "train_split = len(x) *80 /100\n",
    "test_split = len(x) * 20/100\n",
    "\n",
    "\n",
    "train_x = x[:int(train_split)]\n",
    "train_y = y[:int(train_split)]\n",
    "validation_x = x[int(train_split):]\n",
    "validation_y  = y[int(train_split):]\n",
    "# validation_y.shape\n",
    "validation_x[0]\n",
    "print(train_y.shape)"
   ]
  },
  {
   "cell_type": "markdown",
   "metadata": {},
   "source": [
    "### RBF kernel in sklearn\n",
    "\n"
   ]
  },
  {
   "cell_type": "code",
   "execution_count": 295,
   "metadata": {},
   "outputs": [],
   "source": [
    "from sklearn.metrics.pairwise import rbf_kernel as rbf\n",
    "\n",
    "def calculate_theta(x, tau):    \n",
    "    X = np.c_[np.ones(len(train_x)), train_x]\n",
    "    W = rbf(x.reshape(-1,1), X[:,1].reshape(-1,1), 2*tau*tau)\n",
    "    xw = X.T * W\n",
    "    theta = np.linalg.pinv(xw.T * X) * xw * train_y\n",
    "    return theta\n",
    "\n",
    "# a = rbf(train_x[0].reshape(-1,1),validation_x[0].reshape(-1,1), 2*0.2*0.2)\n",
    "# b = rbf(train_x.reshape(-1,1),validation_x[0].reshape(-1,1), 2*0.3*0.3)\n"
   ]
  },
  {
   "cell_type": "code",
   "execution_count": 285,
   "metadata": {},
   "outputs": [],
   "source": [
    "\n"
   ]
  },
  {
   "cell_type": "code",
   "execution_count": 286,
   "metadata": {},
   "outputs": [],
   "source": [
    "# a = np.array([[1,6]])\n",
    "# b = np.array(([[1,2], [3,6], [2,6]]))\n",
    "# b.shape\n",
    "# b.dot(a.T)"
   ]
  },
  {
   "cell_type": "code",
   "execution_count": 287,
   "metadata": {},
   "outputs": [],
   "source": [
    "def loss(X, y, theta):\n",
    "#     print(\"y: \", y.shape)\n",
    "#     print(\"X: \", X.shape)\n",
    "#     print(\"theta: \", theta.shape)\n",
    "    \n",
    "    error = y - X.dot(theta)\n",
    "#     print(\"error: \"+)\n",
    "    error = error.T * error\n",
    "    return error.sum()"
   ]
  },
  {
   "cell_type": "markdown",
   "metadata": {},
   "source": [
    "#### with Tau"
   ]
  },
  {
   "cell_type": "code",
   "execution_count": 293,
   "metadata": {},
   "outputs": [
    {
     "name": "stdout",
     "output_type": "stream",
     "text": [
      "with tau= 0.1 error:  7482.817705318847\n"
     ]
    }
   ],
   "source": [
    "\n",
    "tau = 0.1\n",
    "error=0\n",
    "# errors = np.empty((len(validation_x)))\n",
    "# total_error\n",
    "for i in range(len(validation_x)):\n",
    "# for i in range(1):\n",
    "    theta = calculate_theta(validation_x[i], tau)\n",
    "    x = np.r_[1, validation_x[i]]\n",
    "    predict = theta.T.dot(x)\n",
    "#     print(predict.shape)\n",
    "    error += loss(x, train_y, theta)\n",
    "#     for j in range(len(train_x)):\n",
    "#         error += x[0] + train_x[j]*theta[:,i]\n",
    "print(\"with tau=\",tau, \"error: \",error)"
   ]
  },
  {
   "cell_type": "code",
   "execution_count": 145,
   "metadata": {},
   "outputs": [
    {
     "name": "stdout",
     "output_type": "stream",
     "text": [
      "[[4.23255456]]\n",
      "[[3.33540723]\n",
      " [5.48139354]\n",
      " [3.92751314]\n",
      " [0.86329592]]\n",
      "[[0.93763937 0.88270175 0.99258362 0.40326866]]\n",
      "[[-0.67591312  0.07688157]\n",
      " [-0.60992774  0.29138522]\n",
      " [-0.167648    0.01152482]\n",
      " [ 0.23521884 -0.00932742]]\n"
     ]
    }
   ],
   "source": [
    "7482.81\n",
    "84.76\n",
    "86.52\n",
    "87.17\n",
    "87.64\n",
    "88.07\n",
    "88.52\n",
    "88.99\n",
    "89.45\n",
    "89.87\n",
    "90\n",
    "90.52\n",
    "# tau=0.2\n",
    "\n",
    "# for i in range(len(validation_x)):\n",
    "# # for i in range(1):\n",
    "# #     theta = np.empty( (2, len(train_x)) )\n",
    "# #     x = np.r_[1, validation_x[i]]    \n",
    "#     X = np.c_[np.ones(len(train_x)), train_x]\n",
    "# #     print(X.shape)\n",
    "#     print(validation_x[i].reshape(-1,1))\n",
    "#     print(X[:,1].reshape(-1,1))\n",
    "#     W = rbf(validation_x[i].reshape(-1,1), X[:,1].reshape(-1,1), 2*tau*tau)\n",
    "#     print(W)\n",
    "#     xw = X.T * W\n",
    "#     theta = np.linalg.pinv(xw.T * X) * xw * train_y\n",
    "    \n",
    "# #     print(theta[1,:])\n",
    "# #     print(theta.shape)\n",
    "# #     print(validation_x[0])\n",
    "#     print(theta.T)\n",
    "# #     for each in range(len(theta))"
   ]
  },
  {
   "cell_type": "code",
   "execution_count": 119,
   "metadata": {},
   "outputs": [
    {
     "name": "stdout",
     "output_type": "stream",
     "text": [
      "(2, 3)\n",
      "(1, 3)\n"
     ]
    },
    {
     "data": {
      "text/plain": [
       "(3, 1)"
      ]
     },
     "execution_count": 119,
     "metadata": {},
     "output_type": "execute_result"
    }
   ],
   "source": [
    "a = np.array([[1,2,3], [4,5,6]])\n",
    "print(a.shape)\n",
    "b = np.array([[3,4,5]])\n",
    "print(b.shape)\n",
    "b.T.shape"
   ]
  },
  {
   "cell_type": "code",
   "execution_count": 87,
   "metadata": {},
   "outputs": [
    {
     "name": "stdout",
     "output_type": "stream",
     "text": [
      "[-0.00150777  0.00202517]\n"
     ]
    }
   ],
   "source": [
    "    print(t[:,0])\n",
    "#     theta[i,0] = t[0]\n",
    "#     theta[i,1] = t[1]"
   ]
  },
  {
   "cell_type": "code",
   "execution_count": 56,
   "metadata": {},
   "outputs": [
    {
     "data": {
      "text/plain": [
       "(240, 240)"
      ]
     },
     "execution_count": 56,
     "metadata": {},
     "output_type": "execute_result"
    },
    {
     "data": {
      "image/png": "[encoded data removed]",
      "text/plain": [
       "<Figure size 432x288 with 1 Axes>"
      ]
     },
     "metadata": {
      "needs_background": "light"
     },
     "output_type": "display_data"
    }
   ],
   "source": [
    "fig4, ax = plt.subplots(1,3)\n",
    "fig4.set_figheight(5)\n",
    "fig4.set_figwidth(15)\n",
    "\n",
    "fig4.subplots_adjust(left=.2, bottom=None, right=None, top=None, wspace=.2, hspace=.2)\n",
    "plt1 = plt.subplot(1,3,1)\n",
    "plt2 = plt.subplot(1,3,2)\n",
    "plt3 = plt.subplot(1,3,3)\n",
    "\n",
    "plt1.set_title('0.2')\n",
    "plt1.set_xlabel('Months')\n",
    "plt1.set_ylabel('Frequency')\n",
    "plt1.grid(axis='both', alpha=.25)\n",
    "\n",
    "plt2.hist(data_csv[:,3], label='Grade 4', edgecolor='black')\n",
    "plt2.set_title('Grade 4')\n",
    "plt2.set_xlabel('Months')\n",
    "plt2.set_ylabel('Frequency')\n",
    "plt2.grid(axis='both', alpha=.25)\n",
    "\n",
    "plt3.hist(data_csv[:,6], label='Grade 7', edgecolor='black')\n",
    "plt3.set_title('Grade 7')\n",
    "plt3.set_xlabel('Months')\n",
    "plt3.set_ylabel('Frequency')\n",
    "plt3.grid(axis='both', alpha=.25)\n",
    "\n",
    "plt.show()"
   ]
  },
  {
   "cell_type": "code",
   "execution_count": null,
   "metadata": {},
   "outputs": [],
   "source": [
    "W = np.empty_like(train_x)\n",
    "for i in range(W.shape):\n",
    "    \n",
    "\n"
   ]
  },
  {
   "cell_type": "code",
   "execution_count": 9,
   "metadata": {},
   "outputs": [
    {
     "data": {
      "text/plain": [
       "array([0.88442232, 0.03896941, 0.55478485, 0.73724128, 0.40576753,\n",
       "       0.20542578, 0.30654185, 0.487567  , 0.96274533, 0.25317226,\n",
       "       0.71788128, 0.67336662, 0.33323489, 0.25773613, 0.17389896,\n",
       "       0.31492539, 0.26431679, 0.89234642, 0.86169417, 0.55848476,\n",
       "       0.04304277, 0.1643386 , 0.33882868, 0.56101191, 0.75088808,\n",
       "       0.53757349, 0.6462995 , 0.99774661, 0.89224086, 0.70352415,\n",
       "       0.8457317 , 0.15057311, 0.38812445, 0.35955703, 0.51847081,\n",
       "       0.93383117, 0.11552223, 0.59545926, 0.82408216, 0.87200749,\n",
       "       0.09210638, 0.14476023, 0.28163622, 0.10132996, 0.27694299,\n",
       "       0.29821461, 0.71953373, 0.78119282, 0.30880457, 0.04024909])"
      ]
     },
     "execution_count": 9,
     "metadata": {},
     "output_type": "execute_result"
    }
   ],
   "source": [
    "x, y, z, d = np.random.rand(4, 50)\n",
    "x"
   ]
  },
  {
   "cell_type": "code",
   "execution_count": 12,
   "metadata": {},
   "outputs": [
    {
     "data": {
      "text/plain": [
       "<scipy.interpolate.rbf.Rbf at 0x7f48570f18d0>"
      ]
     },
     "execution_count": 12,
     "metadata": {},
     "output_type": "execute_result"
    }
   ],
   "source": [
    "from scipy.interpolate import Rbf\n",
    "rbfi = Rbf(x, y)\n",
    "rbfi"
   ]
  },
  {
   "cell_type": "code",
   "execution_count": null,
   "metadata": {},
   "outputs": [],
   "source": []
  }
 ],
 "metadata": {
  "kernelspec": {
   "display_name": "Python 3",
   "language": "python",
   "name": "python3"
  },
  "language_info": {
   "codemirror_mode": {
    "name": "ipython",
    "version": 3
   },
   "file_extension": ".py",
   "mimetype": "text/x-python",
   "name": "python",
   "nbconvert_exporter": "python",
   "pygments_lexer": "ipython3",
   "version": "3.7.4"
  }
 },
 "nbformat": 4,
 "nbformat_minor": 2
}
