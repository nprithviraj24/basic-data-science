{
 "cells": [
  {
   "cell_type": "code",
   "execution_count": 1,
   "metadata": {},
   "outputs": [],
   "source": [
    "import numpy as np\n",
    "c0 = np.zeros(100)\n",
    "mean0 = [3, 1]\n",
    "cov0 = [[1, 0], [0, 1]]  # diagonal covariance\n",
    "c1 = np.ones(100)\n",
    "mean1 = [2,4]\n",
    "cov1 = np.array([[1,0],[0,1]])"
   ]
  },
  {
   "cell_type": "code",
   "execution_count": 2,
   "metadata": {},
   "outputs": [
    {
     "name": "stdout",
     "output_type": "stream",
     "text": [
      "(1, 200)\n",
      "(200, 2)\n"
     ]
    },
    {
     "data": {
      "text/plain": [
       "<Figure size 640x480 with 1 Axes>"
      ]
     },
     "metadata": {},
     "output_type": "display_data"
    }
   ],
   "source": [
    "import matplotlib.pyplot as plt\n",
    "x0, y0 = np.random.multivariate_normal(mean0, cov0, 100).T\n",
    "\n",
    "x1, y1 = np.random.multivariate_normal(mean1, cov1, 100).T\n",
    "# print(type(x0))\n",
    "\n",
    "X = np.r_[x0,x1]\n",
    "X = np.c_[(np.ones(len(X))), X]\n",
    "Y = np.asarray([np.r_[y0,y1]])\n",
    "print(Y.shape)\n",
    "print(X.shape)\n",
    "plt.plot(x0, y0, 'bx')\n",
    "plt.plot(x1, y1, 'or')\n",
    "plt.show()\n",
    "\n"
   ]
  },
  {
   "cell_type": "markdown",
   "metadata": {},
   "source": [
    "#### Sigmoid funtion"
   ]
  },
  {
   "cell_type": "code",
   "execution_count": 3,
   "metadata": {},
   "outputs": [],
   "source": [
    "def sig(X,theta):\n",
    "#     print(X.shape)\n",
    "#     print(theta.T.shape)\n",
    "    z = -1* np.dot(X,theta.T)\n",
    "    return 1/(1+np.exp(z))"
   ]
  },
  {
   "cell_type": "markdown",
   "metadata": {},
   "source": [
    "#### Cost function\n",
    "$ y^i*log(1/(1+e^{\\theta X^i}) + (1-y^i)*log(1/(1+e^{\\theta X^i})$"
   ]
  },
  {
   "cell_type": "code",
   "execution_count": 4,
   "metadata": {},
   "outputs": [],
   "source": [
    "#iterates through whole loop\n",
    "def likelihood(theta,X,y):\n",
    "    z = sig(X,theta)\n",
    "    return np.sum(y*np.log(z) + (1-y)*np.log(1-z))"
   ]
  },
  {
   "cell_type": "markdown",
   "metadata": {},
   "source": [
    "#### Gradient of Cost function\n"
   ]
  },
  {
   "cell_type": "code",
   "execution_count": 5,
   "metadata": {},
   "outputs": [],
   "source": [
    "def gradientOfLikelihood(theta, X,y):\n",
    "    z = sig(X,theta)\n",
    "#     print(y.shape)\n",
    "    return np.sum(y*X/z + (1-y)*X/(1-z)) "
   ]
  },
  {
   "cell_type": "markdown",
   "metadata": {},
   "source": [
    "### Initial Cost"
   ]
  },
  {
   "cell_type": "code",
   "execution_count": 6,
   "metadata": {},
   "outputs": [
    {
     "data": {
      "text/plain": [
       "-27725.887222397818"
      ]
     },
     "execution_count": 6,
     "metadata": {},
     "output_type": "execute_result"
    }
   ],
   "source": [
    "theta = np.array([[0,0]])\n",
    "likelihood(theta,X,Y)"
   ]
  },
  {
   "cell_type": "markdown",
   "metadata": {},
   "source": [
    "#### Since no closed true solution, we will use Gradient Descent(Ascent in this case)"
   ]
  },
  {
   "cell_type": "code",
   "execution_count": 12,
   "metadata": {},
   "outputs": [
    {
     "name": "stdout",
     "output_type": "stream",
     "text": [
      "Optimal theta:  [[0.14617844 0.14617844]]\n",
      "Number of iterations: 170.000000\n"
     ]
    }
   ],
   "source": [
    "learning_rate = 0.00001\n",
    "iterations = []\n",
    "i=0\n",
    "theta = np.array([[0,0]])\n",
    "errors = []\n",
    "\n",
    "\n",
    "while True:\n",
    "    \n",
    "#     errors.append(likelihood(theta,X,Y))\n",
    "    oldT = theta\n",
    "    theta = oldT + learning_rate * gradientOfLikelihood(theta, X,Y.T )\n",
    "#     print(\"Cost of interation i: %f\" % likelihood(theta,X,Y))\n",
    "#     print(\"Theta \", end = '') \n",
    "#     print(theta)\n",
    "#     errors.append(likelihood(theta,X,Y))\n",
    "    i=i+1\n",
    "    iterations.append(i)\n",
    "    check_convergence = likelihood(theta,X,Y) - likelihood(oldT,X,Y) \n",
    "    if abs(check_convergence) < 0.0001:\n",
    "        break\n",
    "#     print(\"Error difference %f \", check_convergence )\n",
    "\n",
    "print(\"Optimal theta: \", end= ' ' )\n",
    "print(theta)\n",
    "print(\"Number of iterations: %f\" % i)"
   ]
  },
  {
   "cell_type": "code",
   "execution_count": null,
   "metadata": {},
   "outputs": [],
   "source": []
  },
  {
   "cell_type": "code",
   "execution_count": null,
   "metadata": {},
   "outputs": [],
   "source": []
  },
  {
   "cell_type": "code",
   "execution_count": null,
   "metadata": {},
   "outputs": [],
   "source": []
  }
 ],
 "metadata": {
  "kernelspec": {
   "display_name": "Python 3",
   "language": "python",
   "name": "python3"
  },
  "language_info": {
   "codemirror_mode": {
    "name": "ipython",
    "version": 3
   },
   "file_extension": ".py",
   "mimetype": "text/x-python",
   "name": "python",
   "nbconvert_exporter": "python",
   "pygments_lexer": "ipython3",
   "version": "3.7.3"
  }
 },
 "nbformat": 4,
 "nbformat_minor": 2
}
