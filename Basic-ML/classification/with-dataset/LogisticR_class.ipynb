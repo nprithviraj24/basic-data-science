{
 "cells": [
  {
   "cell_type": "markdown",
   "metadata": {},
   "source": [
    "##  Logistic Regression"
   ]
  },
  {
   "cell_type": "code",
   "execution_count": 14,
   "metadata": {},
   "outputs": [],
   "source": [
    "import numpy as np\n",
    "import matplotlib.pyplot as plt\n",
    "import pandas as pd"
   ]
  },
  {
   "cell_type": "markdown",
   "metadata": {},
   "source": [
    "### Plotting of Data"
   ]
  },
  {
   "cell_type": "code",
   "execution_count": 15,
   "metadata": {},
   "outputs": [],
   "source": [
    "c0 = np.zeros(100)\n",
    "mean0 = [3, 1]\n",
    "cov0 = [[1, 0], [0, 1]]  # diagonal covariance\n",
    "c1 = np.ones(100)\n",
    "mean1 = [2,4]\n",
    "cov1 = np.array([[1,0],[0,1]])"
   ]
  },
  {
   "cell_type": "code",
   "execution_count": 16,
   "metadata": {},
   "outputs": [
    {
     "data": {
      "image/png": "[encoded data removed]",
      "text/plain": [
       "<Figure size 432x288 with 1 Axes>"
      ]
     },
     "metadata": {
      "needs_background": "light"
     },
     "output_type": "display_data"
    }
   ],
   "source": [
    "x0, y0 = np.random.multivariate_normal(mean0, cov0, 100).T\n",
    "\n",
    "x1, y1 = np.random.multivariate_normal(mean1, cov1, 100).T\n",
    "# print(type(x0))\n",
    "x0,y0\n",
    "\n",
    "X1 = np.r_[x0,x1]\n",
    "X2 = np.r_[y0,y1]\n",
    "m = len(X1)\n",
    "X = np.c_[X1,X2]\n",
    "y = np.asarray([np.r_[c0,c1]]).T\n",
    "plt.plot(x0, y0, 'bx')\n",
    "plt.plot(x1, y1, 'or')\n",
    "plt.show()\n"
   ]
  },
  {
   "cell_type": "code",
   "execution_count": 17,
   "metadata": {},
   "outputs": [],
   "source": [
    "def sigmoid(z):\n",
    "    \n",
    "    return 1/ (1 + np.exp(-z))"
   ]
  },
  {
   "cell_type": "code",
   "execution_count": 18,
   "metadata": {},
   "outputs": [
    {
     "data": {
      "text/plain": [
       "0.5"
      ]
     },
     "execution_count": 18,
     "metadata": {},
     "output_type": "execute_result"
    }
   ],
   "source": [
    "# testing the sigmoid function\n",
    "sigmoid(0)"
   ]
  },
  {
   "cell_type": "code",
   "execution_count": 19,
   "metadata": {},
   "outputs": [],
   "source": [
    "def cost_gradFunction(theta, X, y):\n",
    "    \n",
    "    m=len(y)\n",
    "    \n",
    "    predictions = sigmoid(np.dot(X,theta))\n",
    "\n",
    "    error = (y * np.log(predictions)) + ((1-y)*np.log(1-predictions))\n",
    "\n",
    "    cost = 1/m * sum(error)\n",
    "\n",
    "    grad = 1/m * np.dot(X.transpose(),(y - predictions))\n",
    "    \n",
    "    return cost[0] , grad"
   ]
  },
  {
   "cell_type": "code",
   "execution_count": 20,
   "metadata": {},
   "outputs": [
    {
     "data": {
      "text/plain": [
       "(200, 3)"
      ]
     },
     "execution_count": 20,
     "metadata": {},
     "output_type": "execute_result"
    }
   ],
   "source": [
    "m , n = X.shape[0], X.shape[1]\n",
    "X= np.append(np.ones((m,1)),X,axis=1)\n",
    "X.shape"
   ]
  },
  {
   "cell_type": "code",
   "execution_count": 21,
   "metadata": {},
   "outputs": [
    {
     "data": {
      "text/plain": [
       "(3, 1)"
      ]
     },
     "execution_count": 21,
     "metadata": {},
     "output_type": "execute_result"
    }
   ],
   "source": [
    "initial_theta = np.zeros((n+1,1))\n",
    "initial_theta.shape"
   ]
  },
  {
   "cell_type": "code",
   "execution_count": 22,
   "metadata": {},
   "outputs": [
    {
     "name": "stdout",
     "output_type": "stream",
     "text": [
      "Cost of initial theta is -0.6931471805599465\n",
      "Gradient at initial theta (zeros): [[ 0.        ]\n",
      " [-0.23069451]\n",
      " [ 0.7149193 ]]\n"
     ]
    }
   ],
   "source": [
    "init_cost, grad= cost_gradFunction(initial_theta,X,y)\n",
    "print(\"Cost of initial theta is\",init_cost)\n",
    "print(\"Gradient at initial theta (zeros):\",grad)\n"
   ]
  },
  {
   "cell_type": "markdown",
   "metadata": {},
   "source": [
    "### Gradient Ascent"
   ]
  },
  {
   "cell_type": "code",
   "execution_count": 23,
   "metadata": {},
   "outputs": [
    {
     "data": {
      "text/plain": [
       "array([[ 0.        ],\n",
       "       [-0.00023069],\n",
       "       [ 0.00071492]])"
      ]
     },
     "execution_count": 23,
     "metadata": {},
     "output_type": "execute_result"
    }
   ],
   "source": [
    "J_history =[]\n",
    "lr = 0.001\n",
    "new_theta = initial_theta + (lr*grad)\n",
    "J_history.append(init_cost)\n",
    "new_theta"
   ]
  },
  {
   "cell_type": "code",
   "execution_count": 24,
   "metadata": {},
   "outputs": [],
   "source": [
    "def gradientAscent(X,y,theta,alpha,num_iters):\n",
    "      \n",
    "    m=len(y)\n",
    "    iterations = 0\n",
    "    for i in range(num_iters):\n",
    "        iterations += 1\n",
    "        cost, grad = cost_gradFunction(theta,X,y)\n",
    "        theta = theta + (alpha * grad)\n",
    "        J_history.append(cost)\n",
    "        if abs(J_history[-2] - J_history[-1]) < 0.00001:\n",
    "            break\n",
    "        \n",
    "        \n",
    "    return theta , J_history, iterations"
   ]
  },
  {
   "cell_type": "code",
   "execution_count": 25,
   "metadata": {},
   "outputs": [
    {
     "name": "stdout",
     "output_type": "stream",
     "text": [
      "6321\n"
     ]
    }
   ],
   "source": [
    "theta , J_history, iterations= gradientAscent(X,y,new_theta,lr,7000)\n",
    "print(iterations)"
   ]
  },
  {
   "cell_type": "code",
   "execution_count": 14,
   "metadata": {},
   "outputs": [
    {
     "name": "stdout",
     "output_type": "stream",
     "text": [
      "Theta optimized by gradient descent: [[-0.27110396]\n",
      " [-0.9939407 ]\n",
      " [ 1.13575164]]\n",
      "The cost of the optimized theta: -0.19522243252064783\n"
     ]
    }
   ],
   "source": [
    "print(\"Theta optimized by gradient descent:\",theta)\n",
    "print(\"The cost of the optimized theta:\",J_history[-1])"
   ]
  },
  {
   "cell_type": "markdown",
   "metadata": {},
   "source": [
    "### Plotting of Cost Function"
   ]
  },
  {
   "cell_type": "code",
   "execution_count": 15,
   "metadata": {},
   "outputs": [
    {
     "data": {
      "text/plain": [
       "Text(0.5, 1.0, 'Cost function using Gradient Descent')"
      ]
     },
     "execution_count": 15,
     "metadata": {},
     "output_type": "execute_result"
    },
    {
     "data": {
      "image/png": "[encoded data removed]",
      "text/plain": [
       "<Figure size 432x288 with 1 Axes>"
      ]
     },
     "metadata": {
      "needs_background": "light"
     },
     "output_type": "display_data"
    }
   ],
   "source": [
    "plt.plot(J_history)\n",
    "plt.xlabel(\"Iteration\")\n",
    "plt.ylabel(\"$J(\\Theta)$\")\n",
    "plt.title(\"Cost function using Gradient Descent\")"
   ]
  },
  {
   "cell_type": "markdown",
   "metadata": {},
   "source": [
    "## Plotting the line"
   ]
  },
  {
   "cell_type": "code",
   "execution_count": 16,
   "metadata": {},
   "outputs": [
    {
     "name": "stderr",
     "output_type": "stream",
     "text": [
      "No handles with labels found to put in legend.\n"
     ]
    },
    {
     "data": {
      "image/png": "[encoded data removed]",
      "text/plain": [
       "<Figure size 360x360 with 1 Axes>"
      ]
     },
     "metadata": {
      "needs_background": "light"
     },
     "output_type": "display_data"
    }
   ],
   "source": [
    "fig1 = plt.figure(figsize=(5,5)) \n",
    "ax = plt.axes() \n",
    "plt.title('Logistic regression')\n",
    "plt.grid(axis='both', alpha=.25)\n",
    "plt.plot(x0, y0, 'bx')\n",
    "plt.plot(x1, y1, 'or')\n",
    "x_value= np.array([np.min(X[:,1]),np.max(X[:,1])]) \n",
    "y_value=-(theta[0] +theta[1]*x_value)/theta[2] \n",
    "plt.plot(x_value,y_value, \"g\")\n",
    "plt.legend(loc=0)\n",
    "plt.show()\n",
    "\n"
   ]
  },
  {
   "cell_type": "markdown",
   "metadata": {},
   "source": [
    "### Prediction"
   ]
  },
  {
   "cell_type": "code",
   "execution_count": 17,
   "metadata": {},
   "outputs": [
    {
     "name": "stdout",
     "output_type": "stream",
     "text": [
      "Point( 1.0 , 0.0 ) belongs to Class 'x'\n",
      "Point( 4.0 , 6.0 ) belongs to Class 'o'\n",
      "Point( 0.0 , 1.5 ) belongs to Class 'o'\n",
      "Point( 6.0 , 4.0 ) belongs to Class 'x'\n"
     ]
    }
   ],
   "source": [
    "def classifierPredict(theta,X):\n",
    "    predictions = X.dot(theta)\n",
    "    return predictions>0\n",
    "\n",
    "def returnClass(a):\n",
    "    if(a<=0.5):\n",
    "        return 'x'\n",
    "    else:\n",
    "        return 'o'\n",
    "    \n",
    "xtest1 = np.array([1,0])\n",
    "xtest1 = np.r_[np.ones(1), xtest1]\n",
    "print(\"Point(\", xtest1[1],\",\", xtest1[2] ,\") belongs to Class '%s'\"   % returnClass(sigmoid(xtest1.dot(theta)[0])))\n",
    "\n",
    "xtest2 = np.array([4,6])\n",
    "xtest2 = np.r_[np.ones(1), xtest2]\n",
    "print(\"Point(\", xtest2[1],\",\", xtest2[2] ,\") belongs to Class '%s'\"   % returnClass(sigmoid(xtest2.dot(theta)[0])))\n",
    "\n",
    "xtest3 = np.array([0,1.5])\n",
    "xtest3 = np.r_[np.ones(1), xtest3]\n",
    "print(\"Point(\", xtest3[1],\",\", xtest3[2] ,\") belongs to Class '%s'\"   % returnClass(sigmoid(xtest3.dot(theta)[0])))\n",
    "\n",
    "xtest4 = np.array([6,4])\n",
    "xtest4 = np.r_[np.ones(1), xtest4]\n",
    "print(\"Point(\", xtest4[1],\",\", xtest4[2] ,\") belongs to Class '%s'\"   % returnClass(sigmoid(xtest4.dot(theta)[0])))"
   ]
  },
  {
   "cell_type": "code",
   "execution_count": null,
   "metadata": {},
   "outputs": [],
   "source": []
  }
 ],
 "metadata": {
  "kernelspec": {
   "display_name": "Python 3",
   "language": "python",
   "name": "python3"
  },
  "language_info": {
   "codemirror_mode": {
    "name": "ipython",
    "version": 3
   },
   "file_extension": ".py",
   "mimetype": "text/x-python",
   "name": "python",
   "nbconvert_exporter": "python",
   "pygments_lexer": "ipython3",
   "version": "3.7.3"
  },
  "varInspector": {
   "cols": {
    "lenName": 16,
    "lenType": 16,
    "lenVar": 40
   },
   "kernels_config": {
    "python": {
     "delete_cmd_postfix": "",
     "delete_cmd_prefix": "del ",
     "library": "var_list.py",
     "varRefreshCmd": "print(var_dic_list())"
    },
    "r": {
     "delete_cmd_postfix": ") ",
     "delete_cmd_prefix": "rm(",
     "library": "var_list.r",
     "varRefreshCmd": "cat(var_dic_list()) "
    }
   },
   "types_to_exclude": [
    "module",
    "function",
    "builtin_function_or_method",
    "instance",
    "_Feature"
   ],
   "window_display": false
  }
 },
 "nbformat": 4,
 "nbformat_minor": 2
}
