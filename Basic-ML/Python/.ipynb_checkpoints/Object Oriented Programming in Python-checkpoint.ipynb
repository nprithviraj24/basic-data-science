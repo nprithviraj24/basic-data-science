{
 "cells": [
  {
   "cell_type": "markdown",
   "metadata": {},
   "source": [
    "# Object Oriented Programming\n",
    "\n",
    "Please note: Since I'm Java developer, I'll be using lot of Java <i>terminologies</i>. \n",
    "\n",
    "## Concepts in python\n",
    "\n",
    "- <strong>Inheritance</strong> : Ability to use methods and variables of a existing class\n",
    "- <strong>Encapsulation</strong> : Objects of a specific class is has exclusive rights to use it's methods.\n",
    "- <strong>Polymorphism</strong> : Capability of processing common operating in different ways for different data input. \n"
   ]
  },
  {
   "cell_type": "markdown",
   "metadata": {},
   "source": [
    "## What is a class?\n",
    "\n",
    "- Consists of Methods and variables.\n",
    "- Abstracts the type of object it can create. Oh high level of abstraction, it is a blueprint for the object."
   ]
  },
  {
   "cell_type": "code",
   "execution_count": 1,
   "metadata": {},
   "outputs": [],
   "source": [
    "class Person:\n",
    "    pass"
   ]
  },
  {
   "cell_type": "markdown",
   "metadata": {},
   "source": [
    "## What is an Object?\n",
    "\n",
    "- Instance of a class.\n",
    "- Object of a particular class has the ability to use all the variables and methods of the class it belongs to."
   ]
  },
  {
   "cell_type": "code",
   "execution_count": 2,
   "metadata": {},
   "outputs": [],
   "source": [
    "obj = Person()"
   ]
  },
  {
   "cell_type": "markdown",
   "metadata": {},
   "source": [
    "## Constructor\n",
    "\n",
    "Sets how an object must be defined. If there's a constructor, it defines the default values of certain variables.\n",
    "\n",
    "The method <strong>\\__init\\__(parameters)</strong> simulates the constructor of the class. This method is called when the class is instantiated. We can pass any number of arguments at the time of creating the class object, depending upon <strong> \\__init\\__(parameters)</strong> definition. It is mostly used to initialize the class attributes.\n",
    "\n",
    "Every class must have a constructor, even if it simply relies on the default constructor.\n",
    "\n"
   ]
  },
  {
   "cell_type": "code",
   "execution_count": 20,
   "metadata": {},
   "outputs": [
    {
     "name": "stdout",
     "output_type": "stream",
     "text": [
      "Name: raju  Gender: male  Age: 20\n"
     ]
    }
   ],
   "source": [
    "class Person:\n",
    "    \n",
    "    # a variable\n",
    "    age = 20\n",
    "        \n",
    "    def __init__(self, name, gender):\n",
    "#         self.age = self.age\n",
    "        self.name = name\n",
    "        self.gender = gender\n",
    "\n",
    "raju = Person(\"raju\",\"male\")\n",
    "print(\"Name:\",raju.name, \" Gender:\" , raju.gender , \" Age:\",raju.age)"
   ]
  },
  {
   "cell_type": "markdown",
   "metadata": {},
   "source": [
    "### Difference between Class and instance attributes\n",
    "\n",
    "#### Class attributes:\n",
    "- We access the class attribute using <strong>\\__class\\__<\\strong>\n",
    "- They are same for all attru"
   ]
  }
 ],
 "metadata": {
  "kernelspec": {
   "display_name": "Python 3",
   "language": "python",
   "name": "python3"
  },
  "language_info": {
   "codemirror_mode": {
    "name": "ipython",
    "version": 3
   },
   "file_extension": ".py",
   "mimetype": "text/x-python",
   "name": "python",
   "nbconvert_exporter": "python",
   "pygments_lexer": "ipython3",
   "version": "3.7.3"
  }
 },
 "nbformat": 4,
 "nbformat_minor": 2
}
