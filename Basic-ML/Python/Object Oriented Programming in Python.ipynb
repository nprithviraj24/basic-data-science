{
 "cells": [
  {
   "cell_type": "markdown",
   "metadata": {},
   "source": [
    "# Object Oriented Programming\n",
    "\n",
    "Please note: Since I'm Java developer, I'll be using lot of Java <i>terminologies</i>. \n",
    "\n",
    "## Concepts in python\n",
    "\n",
    "- <strong>Inheritance</strong> : Ability to use methods and variables of a existing class\n",
    "- <strong>Encapsulation</strong> : Objects of a specific class is has exclusive rights to use it's methods.\n",
    "- <strong>Polymorphism</strong> : Capability of processing common operating in different ways for different data input. \n"
   ]
  },
  {
   "cell_type": "markdown",
   "metadata": {},
   "source": [
    "## What is a class?\n",
    "\n",
    "- Consists of Methods and variables.\n",
    "- Abstracts the type of object it can create. Oh high level of abstraction, it is a blueprint for the object."
   ]
  },
  {
   "cell_type": "code",
   "execution_count": 1,
   "metadata": {},
   "outputs": [],
   "source": [
    "class Person:\n",
    "    pass"
   ]
  },
  {
   "cell_type": "markdown",
   "metadata": {},
   "source": [
    "## What is an Object?\n",
    "\n",
    "- Instance of a class.\n",
    "- Object of a particular class has the ability to use all the variables and methods of the class it belongs to."
   ]
  },
  {
   "cell_type": "code",
   "execution_count": 2,
   "metadata": {},
   "outputs": [],
   "source": [
    "obj = Person()"
   ]
  },
  {
   "cell_type": "markdown",
   "metadata": {},
   "source": [
    "## Constructor\n",
    "\n",
    "Sets how an object must be defined. If there's a constructor, it defines the default values of certain variables.\n",
    "\n",
    "The method <strong>\\__init\\__(parameters)</strong> simulates the constructor of the class. This method is called when the class is instantiated. We can pass any number of arguments at the time of creating the class object, depending upon <strong> \\__init\\__(parameters)</strong> definition. It is mostly used to initialize the class attributes.\n",
    "\n",
    "Every class must have a constructor, even if it simply relies on the default constructor.\n",
    "\n"
   ]
  },
  {
   "cell_type": "code",
   "execution_count": 20,
   "metadata": {},
   "outputs": [
    {
     "name": "stdout",
     "output_type": "stream",
     "text": [
      "Name: raju  Gender: male  Age: 20\n"
     ]
    }
   ],
   "source": [
    "class Person:\n",
    "    \n",
    "    # a variable\n",
    "    age = 20\n",
    "        \n",
    "    def __init__(self, name, gender):\n",
    "#         self.age = self.age\n",
    "        self.name = name\n",
    "        self.gender = gender\n",
    "\n",
    "raju = Person(\"raju\",\"male\")\n",
    "print(\"Name:\",raju.name, \" Gender:\" , raju.gender , \" Age:\",raju.age)"
   ]
  },
  {
   "cell_type": "markdown",
   "metadata": {},
   "source": [
    "### Difference between Class and instance attributes\n",
    "\n",
    "#### Class attributes:\n",
    "- We access the class attribute using <strong>\\__class\\__.age</strong>\n",
    "- They are same for all instances of class.\n",
    "\n",
    "#### Instance attributes: \n",
    "- We access the instance attributes using <strong>object<i>name</i>.gender</strong> and <strong>object<i>name</i>.name</strong>\\\n",
    "- <strong>Instance attributes are different for every instance of a class.</strong>"
   ]
  },
  {
   "cell_type": "markdown",
   "metadata": {},
   "source": [
    "### Methods\n",
    "\n",
    "Every method defined inside a class must include <i>self</i> keyword.\n",
    "\n"
   ]
  },
  {
   "cell_type": "code",
   "execution_count": 4,
   "metadata": {},
   "outputs": [
    {
     "name": "stdout",
     "output_type": "stream",
     "text": [
      "20\n"
     ]
    }
   ],
   "source": [
    "class Person:\n",
    "    \n",
    "    # a variable\n",
    "    age = 20\n",
    "        \n",
    "    def __init__(self, name, gender):\n",
    "        self.name = name\n",
    "        self.gender = gender\n",
    "        \n",
    "    def getAge(self):\n",
    "        return self.age\n",
    "\n",
    "raju = Person(\"Prithvi\", \"Male\")\n",
    "print(raju.getAge())"
   ]
  },
  {
   "cell_type": "markdown",
   "metadata": {},
   "source": [
    "### Inheritance\n",
    "\n",
    "#### Property: \n",
    "- Child class inherits the functions of parent class. \n",
    "- The child class can modify the behavior of parent class.\n",
    "- We  can extend the functions of parent clas.\n",
    "- Additionally, we use super() function before __init__() method. This is because we want to pull the content of __init__() method from the parent class into the child class."
   ]
  },
  {
   "cell_type": "code",
   "execution_count": 7,
   "metadata": {},
   "outputs": [
    {
     "name": "stdout",
     "output_type": "stream",
     "text": [
      "Bird is ready\n",
      "Penguin is ready\n",
      "Penguin\n",
      "Swim faster\n",
      "Run faster\n"
     ]
    }
   ],
   "source": [
    "# parent class\n",
    "class Bird:\n",
    "    \n",
    "    def __init__(self):\n",
    "        print(\"Bird is ready\")\n",
    "\n",
    "    def whoisThis(self):\n",
    "        print(\"Bird\")\n",
    "\n",
    "    def swim(self):\n",
    "        print(\"Swim faster\")\n",
    "\n",
    "# child class\n",
    "class Penguin(Bird):\n",
    "\n",
    "    def __init__(self):\n",
    "        # call super() function\n",
    "        super().__init__()\n",
    "        print(\"Penguin is ready\")\n",
    "\n",
    "    def whoisThis(self):\n",
    "        print(\"Penguin\")\n",
    "\n",
    "    def run(self):\n",
    "        print(\"Run faster\")\n",
    "\n",
    "peggy = Penguin() # Child Class, But it class the super class's instance first and then child class's instance.\n",
    "peggy.whoisThis() # Method overriding super class's method.\n",
    "peggy.swim() # Child class inheriting parent class.\n",
    "peggy.run() # Exclusive defind in child class. Has no realtion with parent class."
   ]
  },
  {
   "cell_type": "markdown",
   "metadata": {},
   "source": [
    "#### Child Class, But it class the super class's instance first and then child class's instance.\n",
    "`peggy = Penguin()`\n",
    "\n",
    "\n",
    "#### Method overriding super class's method.\n",
    "`peggy.whoisThis() `\n",
    "\n",
    "\n",
    "#### Child class inheriting parent class.\n",
    "`peggy.swim() `\n",
    "\n",
    "\n",
    "#### Exclusively defind in child class. Has no relationship with parent class.\n",
    "`peggy.run() `"
   ]
  },
  {
   "cell_type": "markdown",
   "metadata": {},
   "source": [
    "### Encapsulation\n",
    "\n",
    "This is a practice of restricting the access to modify variables or methods. \n",
    "Private attributes which are restricted access, are denoted by prefix notation of single or double \"_\""
   ]
  },
  {
   "cell_type": "code",
   "execution_count": 28,
   "metadata": {},
   "outputs": [
    {
     "name": "stdout",
     "output_type": "stream",
     "text": [
      "Quantity:  1\n",
      "Max Selling Price: 40\n",
      "Min Selling Price: 10\n",
      "\n",
      "Chaning the quantity to 4\n",
      "Quantity:  4\n",
      "Max Selling Price: 160\n",
      "Min Selling Price: 40\n",
      "\n",
      "Trying to change the prices of apple\n",
      "Quantity:  1\n",
      "Max Selling Price: 40\n",
      "Min Selling Price: 5\n",
      "\n",
      "Using method: \n",
      "Quantity:  1\n",
      "Max Selling Price: 25\n",
      "Min Selling Price: 5\n"
     ]
    }
   ],
   "source": [
    "class Apple:\n",
    "\n",
    "    quantity = 1\n",
    "    \n",
    "    def __init__(self):\n",
    "        self.__maxprice = 40\n",
    "        self.minprice = 10\n",
    "        \n",
    "    def sell(self): \n",
    "        print(\"Quantity: \", self.quantity)\n",
    "        print(\"Max Selling Price: {}\".format(self.quantity * self.__maxprice))\n",
    "        print(\"Min Selling Price: {}\".format(self.quantity * self.minprice))\n",
    "        \n",
    "    def setMaxPrice(self, price):\n",
    "        self.__maxprice = price\n",
    "\n",
    "a = Apple()\n",
    "a.sell()\n",
    "\n",
    "print(\"\\nChaning the quantity to 4\")\n",
    "a.quantity = 4\n",
    "a.sell()\n",
    "\n",
    "print(\"\\nTrying to change the prices of apple\")\n",
    "a.quantity = 1\n",
    "a.__maxprice = 50\n",
    "a.minprice = 5\n",
    "a.sell()\n",
    "\n",
    "print(\"\\nUsing method: \")\n",
    "a.setMaxPrice(25)\n",
    "a.sell()"
   ]
  },
  {
   "cell_type": "markdown",
   "metadata": {},
   "source": [
    "### Polymorphism"
   ]
  },
  {
   "cell_type": "code",
   "execution_count": 31,
   "metadata": {},
   "outputs": [
    {
     "name": "stdout",
     "output_type": "stream",
     "text": [
      "Parrot can fly\n",
      "Penguin can't fly\n"
     ]
    }
   ],
   "source": [
    "# parent class\n",
    "class Bird:\n",
    "    \n",
    "    def __init__(self):\n",
    "        print(\"Bird is ready\")\n",
    "\n",
    "class Parrot:\n",
    "\n",
    "    def fly(self):\n",
    "        print(\"Parrot can fly\")\n",
    "    \n",
    "    def swim(self):\n",
    "        print(\"Parrot can't swim\")\n",
    "\n",
    "class Penguin:\n",
    "\n",
    "    def fly(self):\n",
    "        print(\"Penguin can't fly\")\n",
    "    \n",
    "    def swim(self):\n",
    "        print(\"Penguin can swim\")\n",
    "\n",
    "# common interface\n",
    "def flying_test(bird):\n",
    "    bird.fly()\n",
    "\n",
    "#instantiate objects\n",
    "blu = Parrot()\n",
    "peggy = Penguin()\n",
    "\n",
    "# passing the object\n",
    "flying_test(blu)\n",
    "flying_test(peggy)"
   ]
  },
  {
   "cell_type": "markdown",
   "metadata": {},
   "source": [
    "In the above program, we defined two classes Parrot and Penguin. Each of them have common method fly() method. However, their functions are different. To allow polymorphism, we created common interface i.e flying_test() function that can take any object. Then, we passed the objects blu and peggy in the flying_test() function, it ran effectively."
   ]
  },
  {
   "cell_type": "code",
   "execution_count": null,
   "metadata": {},
   "outputs": [],
   "source": []
  }
 ],
 "metadata": {
  "kernelspec": {
   "display_name": "Python 3",
   "language": "python",
   "name": "python3"
  },
  "language_info": {
   "codemirror_mode": {
    "name": "ipython",
    "version": 3
   },
   "file_extension": ".py",
   "mimetype": "text/x-python",
   "name": "python",
   "nbconvert_exporter": "python",
   "pygments_lexer": "ipython3",
   "version": "3.7.3"
  }
 },
 "nbformat": 4,
 "nbformat_minor": 2
}
